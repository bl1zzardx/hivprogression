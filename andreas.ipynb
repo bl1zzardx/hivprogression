{
 "cells": [
  {
   "cell_type": "code",
   "execution_count": 35,
   "metadata": {},
   "outputs": [],
   "source": [
    "import numpy as np\n",
    "import pandas as pd\n",
    "from catboost import CatBoostClassifier\n",
    "from sklearn.model_selection import train_test_split\n",
    "from sklearn.metrics import accuracy_score"
   ]
  },
  {
   "cell_type": "code",
   "execution_count": 36,
   "metadata": {},
   "outputs": [],
   "source": [
    "train_data = pd.read_csv('./hivprogression/training_data.csv')\n",
    "test_data = pd.read_csv('./hivprogression/test_data_mod.csv')"
   ]
  },
  {
   "cell_type": "code",
   "execution_count": 37,
   "metadata": {},
   "outputs": [
    {
     "data": {
      "text/html": [
       "<div>\n",
       "<style scoped>\n",
       "    .dataframe tbody tr th:only-of-type {\n",
       "        vertical-align: middle;\n",
       "    }\n",
       "\n",
       "    .dataframe tbody tr th {\n",
       "        vertical-align: top;\n",
       "    }\n",
       "\n",
       "    .dataframe thead th {\n",
       "        text-align: right;\n",
       "    }\n",
       "</style>\n",
       "<table border=\"1\" class=\"dataframe\">\n",
       "  <thead>\n",
       "    <tr style=\"text-align: right;\">\n",
       "      <th></th>\n",
       "      <th>PatientID</th>\n",
       "      <th>Resp</th>\n",
       "      <th>PR Seq</th>\n",
       "      <th>RT Seq</th>\n",
       "      <th>VL-t0</th>\n",
       "      <th>CD4-t0</th>\n",
       "    </tr>\n",
       "  </thead>\n",
       "  <tbody>\n",
       "    <tr>\n",
       "      <th>0</th>\n",
       "      <td>1</td>\n",
       "      <td>1</td>\n",
       "      <td>NCTCTATTAGATACAGGAGCAGATGACACAGTATTAGAAGARATGG...</td>\n",
       "      <td>CCTATTAGTCCTATTGAAACTGTACCAGTRAAATTAAAGCCAGGAA...</td>\n",
       "      <td>5.6</td>\n",
       "      <td>69</td>\n",
       "    </tr>\n",
       "    <tr>\n",
       "      <th>1</th>\n",
       "      <td>2</td>\n",
       "      <td>0</td>\n",
       "      <td>NCTCTATTAGATACAGGAGCAGATGATACAGTATTAGAAGAAATGA...</td>\n",
       "      <td>CCCATCAGTCCTATTGAAACTGTACCAGTAAAATTAAAGCCAGGAA...</td>\n",
       "      <td>5.3</td>\n",
       "      <td>119</td>\n",
       "    </tr>\n",
       "    <tr>\n",
       "      <th>2</th>\n",
       "      <td>3</td>\n",
       "      <td>1</td>\n",
       "      <td>GGGCAAATAAAGGAAGCTCTATTAGATACAGGAGCAGATGATACAG...</td>\n",
       "      <td>CCCATTAGTCCTATTGAAACTGTACCAGTAAAATTAAAGCCAGGAA...</td>\n",
       "      <td>5.7</td>\n",
       "      <td>41</td>\n",
       "    </tr>\n",
       "    <tr>\n",
       "      <th>3</th>\n",
       "      <td>4</td>\n",
       "      <td>0</td>\n",
       "      <td>GGGCAACTAAAGGAAGCTCTATTAGATACAGGAGCAGATGATACAG...</td>\n",
       "      <td>CCTATTAGTCCTATTGAAACTGTACCAGTAAAATTAAAGCCAGGAA...</td>\n",
       "      <td>5.2</td>\n",
       "      <td>48</td>\n",
       "    </tr>\n",
       "    <tr>\n",
       "      <th>4</th>\n",
       "      <td>5</td>\n",
       "      <td>1</td>\n",
       "      <td>GGGGGGCAACTAAAGGAAGCTCTATTAGATACAGGAGCAGATGATA...</td>\n",
       "      <td>CCCATTAGTCCTATTGAAACTGTACCAGTAAAATTAAAGCCAGGAA...</td>\n",
       "      <td>5.5</td>\n",
       "      <td>311</td>\n",
       "    </tr>\n",
       "  </tbody>\n",
       "</table>\n",
       "</div>"
      ],
      "text/plain": [
       "   PatientID  Resp                                             PR Seq  \\\n",
       "0          1     1  NCTCTATTAGATACAGGAGCAGATGACACAGTATTAGAAGARATGG...   \n",
       "1          2     0  NCTCTATTAGATACAGGAGCAGATGATACAGTATTAGAAGAAATGA...   \n",
       "2          3     1  GGGCAAATAAAGGAAGCTCTATTAGATACAGGAGCAGATGATACAG...   \n",
       "3          4     0  GGGCAACTAAAGGAAGCTCTATTAGATACAGGAGCAGATGATACAG...   \n",
       "4          5     1  GGGGGGCAACTAAAGGAAGCTCTATTAGATACAGGAGCAGATGATA...   \n",
       "\n",
       "                                              RT Seq  VL-t0  CD4-t0  \n",
       "0  CCTATTAGTCCTATTGAAACTGTACCAGTRAAATTAAAGCCAGGAA...    5.6      69  \n",
       "1  CCCATCAGTCCTATTGAAACTGTACCAGTAAAATTAAAGCCAGGAA...    5.3     119  \n",
       "2  CCCATTAGTCCTATTGAAACTGTACCAGTAAAATTAAAGCCAGGAA...    5.7      41  \n",
       "3  CCTATTAGTCCTATTGAAACTGTACCAGTAAAATTAAAGCCAGGAA...    5.2      48  \n",
       "4  CCCATTAGTCCTATTGAAACTGTACCAGTAAAATTAAAGCCAGGAA...    5.5     311  "
      ]
     },
     "execution_count": 37,
     "metadata": {},
     "output_type": "execute_result"
    }
   ],
   "source": [
    "test_data.head()"
   ]
  },
  {
   "cell_type": "code",
   "execution_count": 38,
   "metadata": {},
   "outputs": [
    {
     "name": "stdout",
     "output_type": "stream",
     "text": [
      "80\n",
      "0\n",
      "0\n",
      "0\n"
     ]
    }
   ],
   "source": [
    "print(train_data['PR Seq'].isnull().sum())\n",
    "print(train_data['RT Seq'].isnull().sum())\n",
    "print(test_data['PR Seq'].isnull().sum())\n",
    "print(test_data['RT Seq'].isnull().sum())"
   ]
  },
  {
   "cell_type": "code",
   "execution_count": 39,
   "metadata": {},
   "outputs": [],
   "source": [
    "# drop 80 rows because of NaNs\n",
    "train_data.dropna(subset=['PR Seq'], inplace=True)"
   ]
  },
  {
   "cell_type": "code",
   "execution_count": 40,
   "metadata": {},
   "outputs": [],
   "source": [
    "\n",
    "Y = train_data['Resp'].values\n",
    "X = train_data.drop(['PatientID', 'Resp'], axis=1)\n",
    "x_train, x_test, y_train, y_test = train_test_split(X, Y, test_size=0.3, random_state=42)"
   ]
  },
  {
   "cell_type": "code",
   "execution_count": 41,
   "metadata": {},
   "outputs": [
    {
     "data": {
      "text/html": [
       "<div>\n",
       "<style scoped>\n",
       "    .dataframe tbody tr th:only-of-type {\n",
       "        vertical-align: middle;\n",
       "    }\n",
       "\n",
       "    .dataframe tbody tr th {\n",
       "        vertical-align: top;\n",
       "    }\n",
       "\n",
       "    .dataframe thead th {\n",
       "        text-align: right;\n",
       "    }\n",
       "</style>\n",
       "<table border=\"1\" class=\"dataframe\">\n",
       "  <thead>\n",
       "    <tr style=\"text-align: right;\">\n",
       "      <th></th>\n",
       "      <th>PR Seq</th>\n",
       "      <th>RT Seq</th>\n",
       "      <th>VL-t0</th>\n",
       "      <th>CD4-t0</th>\n",
       "    </tr>\n",
       "  </thead>\n",
       "  <tbody>\n",
       "    <tr>\n",
       "      <th>106</th>\n",
       "      <td>CCTCAAATCACTCTTTGGCAGCGACCCATTGTTACAGTAAAGATAG...</td>\n",
       "      <td>CCCATTAGTCCTATTGAAACTGTACCAGTAAAATTAAAGCCAGGAA...</td>\n",
       "      <td>5.4</td>\n",
       "      <td>319</td>\n",
       "    </tr>\n",
       "    <tr>\n",
       "      <th>270</th>\n",
       "      <td>CCTCAGATCACTCTTTGGCAACGACCCCGCGTCACAGTAARGATAG...</td>\n",
       "      <td>CCCATTAGTCCTATTGAAACTGTACCAGTAAAATTAAAGCCAGGAA...</td>\n",
       "      <td>5.4</td>\n",
       "      <td>56</td>\n",
       "    </tr>\n",
       "    <tr>\n",
       "      <th>860</th>\n",
       "      <td>CCTCARATCACTCTTTGGCAACGACCCCTCGTCACAATAAGGATAG...</td>\n",
       "      <td>CCCATTAGTCCTATTGAAACTGTACCAGTAAAATTAAAGCCAGGAA...</td>\n",
       "      <td>4.2</td>\n",
       "      <td>496</td>\n",
       "    </tr>\n",
       "    <tr>\n",
       "      <th>435</th>\n",
       "      <td>CCTCAGATCACTCTTTGGCAACGACCCCTCGTCACAATAAAGATAG...</td>\n",
       "      <td>CCCATAAGTCCTATTGAAACTGTACCAGTAAAATTRAAGCCAGGAA...</td>\n",
       "      <td>3.9</td>\n",
       "      <td>327</td>\n",
       "    </tr>\n",
       "    <tr>\n",
       "      <th>102</th>\n",
       "      <td>CCTCAAATCACTCTTTGGCAAMGACCCCTCGTCACAATAAAGATAG...</td>\n",
       "      <td>CCCATTAGTCCTATTGAAACTGTACCAGTAAAATTAAAGCCAGGAA...</td>\n",
       "      <td>4.7</td>\n",
       "      <td>546</td>\n",
       "    </tr>\n",
       "  </tbody>\n",
       "</table>\n",
       "</div>"
      ],
      "text/plain": [
       "                                                PR Seq  \\\n",
       "106  CCTCAAATCACTCTTTGGCAGCGACCCATTGTTACAGTAAAGATAG...   \n",
       "270  CCTCAGATCACTCTTTGGCAACGACCCCGCGTCACAGTAARGATAG...   \n",
       "860  CCTCARATCACTCTTTGGCAACGACCCCTCGTCACAATAAGGATAG...   \n",
       "435  CCTCAGATCACTCTTTGGCAACGACCCCTCGTCACAATAAAGATAG...   \n",
       "102  CCTCAAATCACTCTTTGGCAAMGACCCCTCGTCACAATAAAGATAG...   \n",
       "\n",
       "                                                RT Seq  VL-t0  CD4-t0  \n",
       "106  CCCATTAGTCCTATTGAAACTGTACCAGTAAAATTAAAGCCAGGAA...    5.4     319  \n",
       "270  CCCATTAGTCCTATTGAAACTGTACCAGTAAAATTAAAGCCAGGAA...    5.4      56  \n",
       "860  CCCATTAGTCCTATTGAAACTGTACCAGTAAAATTAAAGCCAGGAA...    4.2     496  \n",
       "435  CCCATAAGTCCTATTGAAACTGTACCAGTAAAATTRAAGCCAGGAA...    3.9     327  \n",
       "102  CCCATTAGTCCTATTGAAACTGTACCAGTAAAATTAAAGCCAGGAA...    4.7     546  "
      ]
     },
     "execution_count": 41,
     "metadata": {},
     "output_type": "execute_result"
    }
   ],
   "source": [
    "x_train.tail()"
   ]
  },
  {
   "cell_type": "code",
   "execution_count": 42,
   "metadata": {},
   "outputs": [
    {
     "data": {
      "text/plain": [
       "0.8043478260869565"
      ]
     },
     "execution_count": 42,
     "metadata": {},
     "output_type": "execute_result"
    }
   ],
   "source": [
    "catboost = CatBoostClassifier(cat_features=['PR Seq', 'RT Seq'], verbose=False)\n",
    "catboost.fit(x_train, y_train)\n",
    "# on test partition of train data\n",
    "y_pred = catboost.predict(x_test)\n",
    "accuracy_score(y_true=y_test, y_pred=y_pred)"
   ]
  },
  {
   "cell_type": "code",
   "execution_count": 47,
   "metadata": {},
   "outputs": [],
   "source": [
    "import optuna\n",
    "\n",
    "# 1. Define an objective function to be maximized.\n",
    "def objective(trial):\n",
    "    \n",
    "    # 2. Suggest values of the hyperparameters using a trial object.\n",
    "    param = {\n",
    "        'depth': trial.suggest_float('depth', 6, 10)\n",
    "    }\n",
    "    \n",
    "    catboost = CatBoostClassifier(cat_features=['PR Seq', 'RT Seq'], verbose=False)\n",
    "    catboost.fit(x_train, y_train)\n",
    "    \n",
    "    \n",
    "    \n",
    "    # on test partition of train data\n",
    "    y_pred = catboost.predict(x_test)\n",
    "    return accuracy_score(y_true=y_test, y_pred=y_pred)"
   ]
  },
  {
   "cell_type": "code",
   "execution_count": 43,
   "metadata": {},
   "outputs": [
    {
     "data": {
      "text/html": [
       "<div>\n",
       "<style scoped>\n",
       "    .dataframe tbody tr th:only-of-type {\n",
       "        vertical-align: middle;\n",
       "    }\n",
       "\n",
       "    .dataframe tbody tr th {\n",
       "        vertical-align: top;\n",
       "    }\n",
       "\n",
       "    .dataframe thead th {\n",
       "        text-align: right;\n",
       "    }\n",
       "</style>\n",
       "<table border=\"1\" class=\"dataframe\">\n",
       "  <thead>\n",
       "    <tr style=\"text-align: right;\">\n",
       "      <th></th>\n",
       "      <th>PatientID</th>\n",
       "      <th>Resp</th>\n",
       "      <th>PR Seq</th>\n",
       "      <th>RT Seq</th>\n",
       "      <th>VL-t0</th>\n",
       "      <th>CD4-t0</th>\n",
       "    </tr>\n",
       "  </thead>\n",
       "  <tbody>\n",
       "    <tr>\n",
       "      <th>0</th>\n",
       "      <td>1</td>\n",
       "      <td>1</td>\n",
       "      <td>NCTCTATTAGATACAGGAGCAGATGACACAGTATTAGAAGARATGG...</td>\n",
       "      <td>CCTATTAGTCCTATTGAAACTGTACCAGTRAAATTAAAGCCAGGAA...</td>\n",
       "      <td>5.60</td>\n",
       "      <td>69</td>\n",
       "    </tr>\n",
       "    <tr>\n",
       "      <th>1</th>\n",
       "      <td>2</td>\n",
       "      <td>0</td>\n",
       "      <td>NCTCTATTAGATACAGGAGCAGATGATACAGTATTAGAAGAAATGA...</td>\n",
       "      <td>CCCATCAGTCCTATTGAAACTGTACCAGTAAAATTAAAGCCAGGAA...</td>\n",
       "      <td>5.30</td>\n",
       "      <td>119</td>\n",
       "    </tr>\n",
       "    <tr>\n",
       "      <th>2</th>\n",
       "      <td>3</td>\n",
       "      <td>1</td>\n",
       "      <td>GGGCAAATAAAGGAAGCTCTATTAGATACAGGAGCAGATGATACAG...</td>\n",
       "      <td>CCCATTAGTCCTATTGAAACTGTACCAGTAAAATTAAAGCCAGGAA...</td>\n",
       "      <td>5.70</td>\n",
       "      <td>41</td>\n",
       "    </tr>\n",
       "    <tr>\n",
       "      <th>3</th>\n",
       "      <td>4</td>\n",
       "      <td>0</td>\n",
       "      <td>GGGCAACTAAAGGAAGCTCTATTAGATACAGGAGCAGATGATACAG...</td>\n",
       "      <td>CCTATTAGTCCTATTGAAACTGTACCAGTAAAATTAAAGCCAGGAA...</td>\n",
       "      <td>5.20</td>\n",
       "      <td>48</td>\n",
       "    </tr>\n",
       "    <tr>\n",
       "      <th>4</th>\n",
       "      <td>5</td>\n",
       "      <td>1</td>\n",
       "      <td>GGGGGGCAACTAAAGGAAGCTCTATTAGATACAGGAGCAGATGATA...</td>\n",
       "      <td>CCCATTAGTCCTATTGAAACTGTACCAGTAAAATTAAAGCCAGGAA...</td>\n",
       "      <td>5.50</td>\n",
       "      <td>311</td>\n",
       "    </tr>\n",
       "    <tr>\n",
       "      <th>...</th>\n",
       "      <td>...</td>\n",
       "      <td>...</td>\n",
       "      <td>...</td>\n",
       "      <td>...</td>\n",
       "      <td>...</td>\n",
       "      <td>...</td>\n",
       "    </tr>\n",
       "    <tr>\n",
       "      <th>687</th>\n",
       "      <td>688</td>\n",
       "      <td>1</td>\n",
       "      <td>CCTCAGATCACTCTTTGGCAACGACCCCTCGTCACAATAAAGATAG...</td>\n",
       "      <td>CCCATTAGTCCTATTGAAACTGTACCAGTAAAATTAAAGCCAGGAA...</td>\n",
       "      <td>5.30</td>\n",
       "      <td>366</td>\n",
       "    </tr>\n",
       "    <tr>\n",
       "      <th>688</th>\n",
       "      <td>689</td>\n",
       "      <td>1</td>\n",
       "      <td>CCTCAGATCACTCTTTGGCAACGACCCCTCGTCACAATAAAGATAG...</td>\n",
       "      <td>CCCATTAGTCCTATTGAAACTGTACCAGTAAAATTAAAGCCAGGAA...</td>\n",
       "      <td>4.90</td>\n",
       "      <td>151</td>\n",
       "    </tr>\n",
       "    <tr>\n",
       "      <th>689</th>\n",
       "      <td>690</td>\n",
       "      <td>1</td>\n",
       "      <td>CCTCAGATCACTCTTTGGCAACGACCCCTCGTCACAATAAAGATAG...</td>\n",
       "      <td>CCTATTAGTCCTATTGAAACTGTACCAGTAAAATTAAAGCCAGGAA...</td>\n",
       "      <td>4.90</td>\n",
       "      <td>411</td>\n",
       "    </tr>\n",
       "    <tr>\n",
       "      <th>690</th>\n",
       "      <td>691</td>\n",
       "      <td>1</td>\n",
       "      <td>CCTCAGATCACTCTTTGGCAACGACCCCTCGTCACAATAAAGATAG...</td>\n",
       "      <td>CCCATTAGTCCTATTGAAACTGTACCAGTAAAATTAAAGCCAGGAA...</td>\n",
       "      <td>4.50</td>\n",
       "      <td>268</td>\n",
       "    </tr>\n",
       "    <tr>\n",
       "      <th>691</th>\n",
       "      <td>692</td>\n",
       "      <td>1</td>\n",
       "      <td>CCTCAGATCACTCTTTGGCAACGACCCCTCGTCACAATAAAGATAG...</td>\n",
       "      <td>CCCATTAGTCCTATTGARACTGTACCAGTAAAATTAAAGCCAGGAA...</td>\n",
       "      <td>5.25</td>\n",
       "      <td>239</td>\n",
       "    </tr>\n",
       "  </tbody>\n",
       "</table>\n",
       "<p>692 rows × 6 columns</p>\n",
       "</div>"
      ],
      "text/plain": [
       "     PatientID  Resp                                             PR Seq  \\\n",
       "0            1     1  NCTCTATTAGATACAGGAGCAGATGACACAGTATTAGAAGARATGG...   \n",
       "1            2     0  NCTCTATTAGATACAGGAGCAGATGATACAGTATTAGAAGAAATGA...   \n",
       "2            3     1  GGGCAAATAAAGGAAGCTCTATTAGATACAGGAGCAGATGATACAG...   \n",
       "3            4     0  GGGCAACTAAAGGAAGCTCTATTAGATACAGGAGCAGATGATACAG...   \n",
       "4            5     1  GGGGGGCAACTAAAGGAAGCTCTATTAGATACAGGAGCAGATGATA...   \n",
       "..         ...   ...                                                ...   \n",
       "687        688     1  CCTCAGATCACTCTTTGGCAACGACCCCTCGTCACAATAAAGATAG...   \n",
       "688        689     1  CCTCAGATCACTCTTTGGCAACGACCCCTCGTCACAATAAAGATAG...   \n",
       "689        690     1  CCTCAGATCACTCTTTGGCAACGACCCCTCGTCACAATAAAGATAG...   \n",
       "690        691     1  CCTCAGATCACTCTTTGGCAACGACCCCTCGTCACAATAAAGATAG...   \n",
       "691        692     1  CCTCAGATCACTCTTTGGCAACGACCCCTCGTCACAATAAAGATAG...   \n",
       "\n",
       "                                                RT Seq  VL-t0  CD4-t0  \n",
       "0    CCTATTAGTCCTATTGAAACTGTACCAGTRAAATTAAAGCCAGGAA...   5.60      69  \n",
       "1    CCCATCAGTCCTATTGAAACTGTACCAGTAAAATTAAAGCCAGGAA...   5.30     119  \n",
       "2    CCCATTAGTCCTATTGAAACTGTACCAGTAAAATTAAAGCCAGGAA...   5.70      41  \n",
       "3    CCTATTAGTCCTATTGAAACTGTACCAGTAAAATTAAAGCCAGGAA...   5.20      48  \n",
       "4    CCCATTAGTCCTATTGAAACTGTACCAGTAAAATTAAAGCCAGGAA...   5.50     311  \n",
       "..                                                 ...    ...     ...  \n",
       "687  CCCATTAGTCCTATTGAAACTGTACCAGTAAAATTAAAGCCAGGAA...   5.30     366  \n",
       "688  CCCATTAGTCCTATTGAAACTGTACCAGTAAAATTAAAGCCAGGAA...   4.90     151  \n",
       "689  CCTATTAGTCCTATTGAAACTGTACCAGTAAAATTAAAGCCAGGAA...   4.90     411  \n",
       "690  CCCATTAGTCCTATTGAAACTGTACCAGTAAAATTAAAGCCAGGAA...   4.50     268  \n",
       "691  CCCATTAGTCCTATTGARACTGTACCAGTAAAATTAAAGCCAGGAA...   5.25     239  \n",
       "\n",
       "[692 rows x 6 columns]"
      ]
     },
     "execution_count": 43,
     "metadata": {},
     "output_type": "execute_result"
    }
   ],
   "source": [
    "# instead of 0s and 1s there is an H in the response\n",
    "test_data[test_data['Resp']!='H']"
   ]
  },
  {
   "cell_type": "code",
   "execution_count": 44,
   "metadata": {},
   "outputs": [
    {
     "data": {
      "text/plain": [
       "0.5303468208092486"
      ]
     },
     "execution_count": 44,
     "metadata": {},
     "output_type": "execute_result"
    }
   ],
   "source": [
    "# apply it to the actual test set\n",
    "# catboost.fit(X, Y)\n",
    "yt_true = test_data['Resp'].values\n",
    "Xt = test_data.drop(['PatientID', 'Resp'], axis=1)\n",
    "yt_pred = catboost.predict(Xt)\n",
    "accuracy_score(y_true=yt_true, y_pred=yt_pred)"
   ]
  },
  {
   "cell_type": "code",
   "execution_count": 45,
   "metadata": {},
   "outputs": [],
   "source": [
    "# submissions = pd.DataFrame({\n",
    "#     'PatientID': np.arange(1,yt_pred.shape[0]+1),\n",
    "#     'ResponderStatus': yt_pred\n",
    "# })\n",
    "# submissions.to_csv('submission.csv', index=False)"
   ]
  }
 ],
 "metadata": {
  "interpreter": {
   "hash": "e3737b9d0d059178761ba28ab21c61029430c82223de8c0557d97311517f7b08"
  },
  "kernelspec": {
   "display_name": "Python 3.9.11 ('ipykernel_py3')",
   "language": "python",
   "name": "python3"
  },
  "language_info": {
   "codemirror_mode": {
    "name": "ipython",
    "version": 3
   },
   "file_extension": ".py",
   "mimetype": "text/x-python",
   "name": "python",
   "nbconvert_exporter": "python",
   "pygments_lexer": "ipython3",
   "version": "3.9.11"
  },
  "orig_nbformat": 4
 },
 "nbformat": 4,
 "nbformat_minor": 2
}
