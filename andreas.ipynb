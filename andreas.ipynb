{
 "cells": [
  {
   "cell_type": "markdown",
   "metadata": {},
   "source": [
    "## HIV Progression"
   ]
  },
  {
   "cell_type": "markdown",
   "metadata": {},
   "source": [
    "### Libraries"
   ]
  },
  {
   "cell_type": "code",
   "execution_count": 1,
   "metadata": {},
   "outputs": [
    {
     "name": "stderr",
     "output_type": "stream",
     "text": [
      "c:\\Users\\laberand\\Miniconda3\\envs\\ipykernel_py3\\lib\\site-packages\\xgboost\\compat.py:36: FutureWarning: pandas.Int64Index is deprecated and will be removed from pandas in a future version. Use pandas.Index with the appropriate dtype instead.\n",
      "  from pandas import MultiIndex, Int64Index\n"
     ]
    }
   ],
   "source": [
    "# import libraries\n",
    "import re\n",
    "import numpy as np\n",
    "import pandas as pd\n",
    "import optuna\n",
    "import xgboost as xgb\n",
    "from catboost import CatBoostClassifier\n",
    "from sklearn.model_selection import train_test_split\n",
    "from sklearn.metrics import accuracy_score\n",
    "from sklearn.model_selection import cross_val_score"
   ]
  },
  {
   "cell_type": "markdown",
   "metadata": {},
   "source": [
    "### Preprocessing"
   ]
  },
  {
   "cell_type": "code",
   "execution_count": 2,
   "metadata": {},
   "outputs": [],
   "source": [
    "# read data into memory\n",
    "train_data = pd.read_csv('./hivprogression/training_data.csv')\n",
    "test_data = pd.read_csv('./hivprogression/test_data_mod.csv')\n",
    "\n",
    "# drop 80 rows because of NaNs\n",
    "train_data.dropna(subset=['PR Seq'], inplace=True)"
   ]
  },
  {
   "cell_type": "code",
   "execution_count": 3,
   "metadata": {},
   "outputs": [],
   "source": [
    "PR_splits = pd.DataFrame([re.findall('...', x) for x in train_data['PR Seq']])\n",
    "PR_splits.columns = [f'PR_{x}' for x in range(0,PR_splits.shape[1])]\n",
    "RT_splits = pd.DataFrame([re.findall('...', x) for x in train_data['RT Seq']])\n",
    "RT_splits.columns = [f'RT_{x}' for x in range(0,RT_splits.shape[1])]\n",
    "train_data = pd.concat([train_data, PR_splits, RT_splits.iloc[:, :300]], axis=1)\n",
    "train_data.dropna(inplace=True)\n"
   ]
  },
  {
   "cell_type": "code",
   "execution_count": 4,
   "metadata": {},
   "outputs": [],
   "source": [
    "\n",
    "PR_splits = pd.DataFrame([re.findall('...', x) for x in test_data['PR Seq']])\n",
    "PR_splits.columns = [f'PR_{x}' for x in range(0,PR_splits.shape[1])]\n",
    "RT_splits = pd.DataFrame([re.findall('...', x) for x in test_data['RT Seq']])\n",
    "RT_splits.columns = [f'RT_{x}' for x in range(0,RT_splits.shape[1])]\n",
    "test_data = pd.concat([test_data, PR_splits, RT_splits.iloc[:, :300]], axis=1)\n",
    "test_data.dropna(inplace=True)"
   ]
  },
  {
   "cell_type": "code",
   "execution_count": 5,
   "metadata": {},
   "outputs": [],
   "source": [
    "# prepare X and y\n",
    "\n",
    "# needed when model can not handle categorical data\n",
    "if True:\n",
    "    train_data.drop(['VL-t0', 'CD4-t0', 'PR Seq', 'RT Seq'], axis=1, inplace=True)\n",
    "    test_data.drop(['VL-t0', 'CD4-t0', 'PR Seq', 'RT Seq'], axis=1, inplace=True)\n",
    "\n",
    "X = train_data.drop(['PatientID', 'Resp'], axis=1)\n",
    "y = train_data['Resp'].values"
   ]
  },
  {
   "cell_type": "code",
   "execution_count": 6,
   "metadata": {},
   "outputs": [],
   "source": [
    "categories = X.select_dtypes(exclude=[np.number]).keys()"
   ]
  },
  {
   "cell_type": "code",
   "execution_count": 7,
   "metadata": {},
   "outputs": [],
   "source": [
    "# perform train test split\n",
    "x_train, x_test, y_train, y_test = train_test_split(X, y, test_size=0.3, random_state=42, stratify=y)"
   ]
  },
  {
   "cell_type": "code",
   "execution_count": 8,
   "metadata": {},
   "outputs": [
    {
     "data": {
      "text/html": [
       "<div>\n",
       "<style scoped>\n",
       "    .dataframe tbody tr th:only-of-type {\n",
       "        vertical-align: middle;\n",
       "    }\n",
       "\n",
       "    .dataframe tbody tr th {\n",
       "        vertical-align: top;\n",
       "    }\n",
       "\n",
       "    .dataframe thead th {\n",
       "        text-align: right;\n",
       "    }\n",
       "</style>\n",
       "<table border=\"1\" class=\"dataframe\">\n",
       "  <thead>\n",
       "    <tr style=\"text-align: right;\">\n",
       "      <th></th>\n",
       "      <th>PR_0</th>\n",
       "      <th>PR_1</th>\n",
       "      <th>PR_2</th>\n",
       "      <th>PR_3</th>\n",
       "      <th>PR_4</th>\n",
       "      <th>PR_5</th>\n",
       "      <th>PR_6</th>\n",
       "      <th>PR_7</th>\n",
       "      <th>PR_8</th>\n",
       "      <th>PR_9</th>\n",
       "      <th>...</th>\n",
       "      <th>RT_290</th>\n",
       "      <th>RT_291</th>\n",
       "      <th>RT_292</th>\n",
       "      <th>RT_293</th>\n",
       "      <th>RT_294</th>\n",
       "      <th>RT_295</th>\n",
       "      <th>RT_296</th>\n",
       "      <th>RT_297</th>\n",
       "      <th>RT_298</th>\n",
       "      <th>RT_299</th>\n",
       "    </tr>\n",
       "  </thead>\n",
       "  <tbody>\n",
       "    <tr>\n",
       "      <th>456</th>\n",
       "      <td>CCT</td>\n",
       "      <td>CAG</td>\n",
       "      <td>ATC</td>\n",
       "      <td>ACT</td>\n",
       "      <td>CTT</td>\n",
       "      <td>TGG</td>\n",
       "      <td>CAA</td>\n",
       "      <td>CGA</td>\n",
       "      <td>CCC</td>\n",
       "      <td>CTC</td>\n",
       "      <td>...</td>\n",
       "      <td>GAA</td>\n",
       "      <td>ATA</td>\n",
       "      <td>GTA</td>\n",
       "      <td>CCA</td>\n",
       "      <td>CTA</td>\n",
       "      <td>ACA</td>\n",
       "      <td>GAA</td>\n",
       "      <td>GAA</td>\n",
       "      <td>GCA</td>\n",
       "      <td>GAG</td>\n",
       "    </tr>\n",
       "    <tr>\n",
       "      <th>175</th>\n",
       "      <td>CCT</td>\n",
       "      <td>CAG</td>\n",
       "      <td>ATC</td>\n",
       "      <td>ACT</td>\n",
       "      <td>CTT</td>\n",
       "      <td>TGG</td>\n",
       "      <td>CAA</td>\n",
       "      <td>CGA</td>\n",
       "      <td>CCC</td>\n",
       "      <td>ATC</td>\n",
       "      <td>...</td>\n",
       "      <td>GAA</td>\n",
       "      <td>GTA</td>\n",
       "      <td>GTA</td>\n",
       "      <td>CCT</td>\n",
       "      <td>TTA</td>\n",
       "      <td>ACA</td>\n",
       "      <td>GAA</td>\n",
       "      <td>GAA</td>\n",
       "      <td>GCA</td>\n",
       "      <td>GAG</td>\n",
       "    </tr>\n",
       "    <tr>\n",
       "      <th>89</th>\n",
       "      <td>CCT</td>\n",
       "      <td>CAA</td>\n",
       "      <td>ATC</td>\n",
       "      <td>ACT</td>\n",
       "      <td>CTT</td>\n",
       "      <td>TGG</td>\n",
       "      <td>CAA</td>\n",
       "      <td>CGA</td>\n",
       "      <td>CCC</td>\n",
       "      <td>TTC</td>\n",
       "      <td>...</td>\n",
       "      <td>GAA</td>\n",
       "      <td>GTA</td>\n",
       "      <td>ATA</td>\n",
       "      <td>CCA</td>\n",
       "      <td>CTA</td>\n",
       "      <td>ACA</td>\n",
       "      <td>GCA</td>\n",
       "      <td>GAA</td>\n",
       "      <td>GCA</td>\n",
       "      <td>GAG</td>\n",
       "    </tr>\n",
       "    <tr>\n",
       "      <th>883</th>\n",
       "      <td>CCT</td>\n",
       "      <td>CAR</td>\n",
       "      <td>ATC</td>\n",
       "      <td>ACT</td>\n",
       "      <td>CTT</td>\n",
       "      <td>TGG</td>\n",
       "      <td>CAA</td>\n",
       "      <td>CGA</td>\n",
       "      <td>CCC</td>\n",
       "      <td>MTC</td>\n",
       "      <td>...</td>\n",
       "      <td>GAA</td>\n",
       "      <td>GTA</td>\n",
       "      <td>ATA</td>\n",
       "      <td>CCT</td>\n",
       "      <td>CTA</td>\n",
       "      <td>ACA</td>\n",
       "      <td>AAA</td>\n",
       "      <td>GAA</td>\n",
       "      <td>GSA</td>\n",
       "      <td>GAG</td>\n",
       "    </tr>\n",
       "    <tr>\n",
       "      <th>461</th>\n",
       "      <td>CCT</td>\n",
       "      <td>CAG</td>\n",
       "      <td>ATC</td>\n",
       "      <td>ACT</td>\n",
       "      <td>CTT</td>\n",
       "      <td>TGG</td>\n",
       "      <td>CAA</td>\n",
       "      <td>CGA</td>\n",
       "      <td>CCC</td>\n",
       "      <td>CTC</td>\n",
       "      <td>...</td>\n",
       "      <td>GAA</td>\n",
       "      <td>GTA</td>\n",
       "      <td>GTA</td>\n",
       "      <td>CCA</td>\n",
       "      <td>CTA</td>\n",
       "      <td>ACA</td>\n",
       "      <td>GAA</td>\n",
       "      <td>GAA</td>\n",
       "      <td>GCA</td>\n",
       "      <td>GAG</td>\n",
       "    </tr>\n",
       "  </tbody>\n",
       "</table>\n",
       "<p>5 rows × 399 columns</p>\n",
       "</div>"
      ],
      "text/plain": [
       "    PR_0 PR_1 PR_2 PR_3 PR_4 PR_5 PR_6 PR_7 PR_8 PR_9  ... RT_290 RT_291  \\\n",
       "456  CCT  CAG  ATC  ACT  CTT  TGG  CAA  CGA  CCC  CTC  ...    GAA    ATA   \n",
       "175  CCT  CAG  ATC  ACT  CTT  TGG  CAA  CGA  CCC  ATC  ...    GAA    GTA   \n",
       "89   CCT  CAA  ATC  ACT  CTT  TGG  CAA  CGA  CCC  TTC  ...    GAA    GTA   \n",
       "883  CCT  CAR  ATC  ACT  CTT  TGG  CAA  CGA  CCC  MTC  ...    GAA    GTA   \n",
       "461  CCT  CAG  ATC  ACT  CTT  TGG  CAA  CGA  CCC  CTC  ...    GAA    GTA   \n",
       "\n",
       "    RT_292 RT_293 RT_294 RT_295 RT_296 RT_297 RT_298 RT_299  \n",
       "456    GTA    CCA    CTA    ACA    GAA    GAA    GCA    GAG  \n",
       "175    GTA    CCT    TTA    ACA    GAA    GAA    GCA    GAG  \n",
       "89     ATA    CCA    CTA    ACA    GCA    GAA    GCA    GAG  \n",
       "883    ATA    CCT    CTA    ACA    AAA    GAA    GSA    GAG  \n",
       "461    GTA    CCA    CTA    ACA    GAA    GAA    GCA    GAG  \n",
       "\n",
       "[5 rows x 399 columns]"
      ]
     },
     "execution_count": 8,
     "metadata": {},
     "output_type": "execute_result"
    }
   ],
   "source": [
    "x_train.head()"
   ]
  },
  {
   "cell_type": "markdown",
   "metadata": {},
   "source": [
    "### Modelling"
   ]
  },
  {
   "cell_type": "code",
   "execution_count": 9,
   "metadata": {},
   "outputs": [
    {
     "name": "stdout",
     "output_type": "stream",
     "text": [
      "0.7513513513513513\n"
     ]
    }
   ],
   "source": [
    "# best found params with optuna\n",
    "param = {'loss_function': 'CrossEntropy', 'learning_rate': 0.5956840896672528, 'l2_leaf_reg': 0.24629732316062503, 'colsample_bylevel': 0.09221224327044178, 'depth': 6, 'boosting_type': 'Plain', 'min_data_in_leaf': 3, 'one_hot_max_size': 6}\n",
    "\n",
    "catboost = CatBoostClassifier(**param, verbose=False, cat_features=categories.values)\n",
    "catboost.fit(x_train, y_train)\n",
    "\n",
    "# on test partition of train data\n",
    "y_pred = catboost.predict(x_test)\n",
    "print(accuracy_score(y_true=y_test, y_pred=y_pred))\n",
    "#print(cross_val_score(catboost, X, y, cv=3))"
   ]
  },
  {
   "cell_type": "code",
   "execution_count": 10,
   "metadata": {},
   "outputs": [
    {
     "data": {
      "text/plain": [
       "0.5119047619047619"
      ]
     },
     "execution_count": 10,
     "metadata": {},
     "output_type": "execute_result"
    }
   ],
   "source": [
    "# apply it to the actual test set\n",
    "# catboost.fit(X, y, verbose=False)\n",
    "yt_true = test_data['Resp'].values\n",
    "Xt = test_data.drop(['PatientID', 'Resp'], axis=1)\n",
    "yt = catboost.predict(Xt)\n",
    "accuracy_score(y_true=yt_true, y_pred=yt)"
   ]
  },
  {
   "cell_type": "code",
   "execution_count": null,
   "metadata": {},
   "outputs": [],
   "source": []
  },
  {
   "cell_type": "markdown",
   "metadata": {},
   "source": [
    "### Misc and Tuning"
   ]
  },
  {
   "cell_type": "code",
   "execution_count": null,
   "metadata": {},
   "outputs": [],
   "source": [
    "# submissions = pd.DataFrame({\n",
    "#     'PatientID': np.arange(1,yt_pred.shape[0]+1),\n",
    "#     'ResponderStatus': yt_pred\n",
    "# })\n",
    "# submissions.to_csv('submission.csv', index=False)"
   ]
  },
  {
   "cell_type": "code",
   "execution_count": null,
   "metadata": {},
   "outputs": [],
   "source": [
    "# 1. Define an objective function to be maximized.\n",
    "def objective(trial):\n",
    "    \n",
    "    # 2. Suggest values of the hyperparameters using a trial object.\n",
    "    param = {\n",
    "        'loss_function': trial.suggest_categorical('loss_function', ['Logloss', 'CrossEntropy']),\n",
    "        \"learning_rate\": trial.suggest_loguniform(\"learning_rate\", 1e-5, 1e0),\n",
    "        \"l2_leaf_reg\": trial.suggest_loguniform(\"l2_leaf_reg\", 1e-2, 1e0),\n",
    "        \"colsample_bylevel\": trial.suggest_float(\"colsample_bylevel\", 0.01, 0.1),\n",
    "        'depth': trial.suggest_int('depth', 6, 10),\n",
    "        \"boosting_type\": trial.suggest_categorical(\"boosting_type\", [\"Ordered\", \"Plain\"]),\n",
    "        \"min_data_in_leaf\": trial.suggest_int(\"min_data_in_leaf\", 2, 20),\n",
    "        \"one_hot_max_size\": trial.suggest_int(\"one_hot_max_size\", 2, 20),  \n",
    "    }\n",
    "    \n",
    "    catboost = CatBoostClassifier(**param) #, cat_features=['PR Seq', 'RT Seq'])\n",
    "    catboost.fit(x_train, y_train, eval_set=[(x_test, y_test)], verbose=False, early_stopping_rounds=100)\n",
    "    # on test partition of train data\n",
    "    y_pred = catboost.predict(x_test)\n",
    "    \n",
    "    return accuracy_score(y_true=y_test, y_pred=y_pred)\n",
    "\n",
    "optune = False\n",
    "if optune:\n",
    "    # 3. Create a study object and optimize the objective function.\n",
    "    study = optuna.create_study(direction='maximize')\n",
    "    study.optimize(objective, n_trials=10, timeout=60)\n",
    "\n",
    "    print(\"Number of finished trials: {}\".format(len(study.trials)))\n",
    "\n",
    "    print(\"Best trial:\")\n",
    "    trial = study.best_trial\n",
    "\n",
    "    print(\"  Value: {}\".format(trial.value))\n",
    "\n",
    "    print(\"  Params: \")\n",
    "    for key, value in trial.params.items():\n",
    "        print(\"    {}: {}\".format(key, value))\n",
    "        \n",
    "# optuna.visualization.plot_param_importances(study)\n",
    "# optuna.visualization.plot_optimization_history(study)\n",
    "# optuna.visualization.plot_slice(study, params=['depth', 'learning_rate'])"
   ]
  }
 ],
 "metadata": {
  "interpreter": {
   "hash": "e3737b9d0d059178761ba28ab21c61029430c82223de8c0557d97311517f7b08"
  },
  "kernelspec": {
   "display_name": "Python 3.9.11 ('ipykernel_py3')",
   "language": "python",
   "name": "python3"
  },
  "language_info": {
   "codemirror_mode": {
    "name": "ipython",
    "version": 3
   },
   "file_extension": ".py",
   "mimetype": "text/x-python",
   "name": "python",
   "nbconvert_exporter": "python",
   "pygments_lexer": "ipython3",
   "version": "3.9.11"
  },
  "orig_nbformat": 4
 },
 "nbformat": 4,
 "nbformat_minor": 2
}
