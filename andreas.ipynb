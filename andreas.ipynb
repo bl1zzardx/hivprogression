{
 "cells": [
  {
   "cell_type": "code",
   "execution_count": 1,
   "metadata": {},
   "outputs": [
    {
     "name": "stderr",
     "output_type": "stream",
     "text": [
      "c:\\Users\\laberand\\Miniconda3\\envs\\ipykernel_py3\\lib\\site-packages\\xgboost\\compat.py:36: FutureWarning: pandas.Int64Index is deprecated and will be removed from pandas in a future version. Use pandas.Index with the appropriate dtype instead.\n",
      "  from pandas import MultiIndex, Int64Index\n"
     ]
    }
   ],
   "source": [
    "# import libraries\n",
    "import numpy as np\n",
    "import pandas as pd\n",
    "import optuna\n",
    "import xgboost as xgb\n",
    "from catboost import CatBoostClassifier\n",
    "from sklearn.model_selection import train_test_split\n",
    "from sklearn.metrics import accuracy_score"
   ]
  },
  {
   "cell_type": "code",
   "execution_count": 2,
   "metadata": {},
   "outputs": [],
   "source": [
    "# read data into memory\n",
    "train_data = pd.read_csv('./hivprogression/training_data.csv')\n",
    "test_data = pd.read_csv('./hivprogression/test_data_mod.csv')"
   ]
  },
  {
   "cell_type": "code",
   "execution_count": 3,
   "metadata": {},
   "outputs": [
    {
     "data": {
      "text/html": [
       "<div>\n",
       "<style scoped>\n",
       "    .dataframe tbody tr th:only-of-type {\n",
       "        vertical-align: middle;\n",
       "    }\n",
       "\n",
       "    .dataframe tbody tr th {\n",
       "        vertical-align: top;\n",
       "    }\n",
       "\n",
       "    .dataframe thead th {\n",
       "        text-align: right;\n",
       "    }\n",
       "</style>\n",
       "<table border=\"1\" class=\"dataframe\">\n",
       "  <thead>\n",
       "    <tr style=\"text-align: right;\">\n",
       "      <th></th>\n",
       "      <th>PatientID</th>\n",
       "      <th>Resp</th>\n",
       "      <th>PR Seq</th>\n",
       "      <th>RT Seq</th>\n",
       "      <th>VL-t0</th>\n",
       "      <th>CD4-t0</th>\n",
       "    </tr>\n",
       "  </thead>\n",
       "  <tbody>\n",
       "    <tr>\n",
       "      <th>0</th>\n",
       "      <td>1</td>\n",
       "      <td>1</td>\n",
       "      <td>NCTCTATTAGATACAGGAGCAGATGACACAGTATTAGAAGARATGG...</td>\n",
       "      <td>CCTATTAGTCCTATTGAAACTGTACCAGTRAAATTAAAGCCAGGAA...</td>\n",
       "      <td>5.6</td>\n",
       "      <td>69</td>\n",
       "    </tr>\n",
       "    <tr>\n",
       "      <th>1</th>\n",
       "      <td>2</td>\n",
       "      <td>0</td>\n",
       "      <td>NCTCTATTAGATACAGGAGCAGATGATACAGTATTAGAAGAAATGA...</td>\n",
       "      <td>CCCATCAGTCCTATTGAAACTGTACCAGTAAAATTAAAGCCAGGAA...</td>\n",
       "      <td>5.3</td>\n",
       "      <td>119</td>\n",
       "    </tr>\n",
       "    <tr>\n",
       "      <th>2</th>\n",
       "      <td>3</td>\n",
       "      <td>1</td>\n",
       "      <td>GGGCAAATAAAGGAAGCTCTATTAGATACAGGAGCAGATGATACAG...</td>\n",
       "      <td>CCCATTAGTCCTATTGAAACTGTACCAGTAAAATTAAAGCCAGGAA...</td>\n",
       "      <td>5.7</td>\n",
       "      <td>41</td>\n",
       "    </tr>\n",
       "    <tr>\n",
       "      <th>3</th>\n",
       "      <td>4</td>\n",
       "      <td>0</td>\n",
       "      <td>GGGCAACTAAAGGAAGCTCTATTAGATACAGGAGCAGATGATACAG...</td>\n",
       "      <td>CCTATTAGTCCTATTGAAACTGTACCAGTAAAATTAAAGCCAGGAA...</td>\n",
       "      <td>5.2</td>\n",
       "      <td>48</td>\n",
       "    </tr>\n",
       "    <tr>\n",
       "      <th>4</th>\n",
       "      <td>5</td>\n",
       "      <td>1</td>\n",
       "      <td>GGGGGGCAACTAAAGGAAGCTCTATTAGATACAGGAGCAGATGATA...</td>\n",
       "      <td>CCCATTAGTCCTATTGAAACTGTACCAGTAAAATTAAAGCCAGGAA...</td>\n",
       "      <td>5.5</td>\n",
       "      <td>311</td>\n",
       "    </tr>\n",
       "  </tbody>\n",
       "</table>\n",
       "</div>"
      ],
      "text/plain": [
       "   PatientID  Resp                                             PR Seq  \\\n",
       "0          1     1  NCTCTATTAGATACAGGAGCAGATGACACAGTATTAGAAGARATGG...   \n",
       "1          2     0  NCTCTATTAGATACAGGAGCAGATGATACAGTATTAGAAGAAATGA...   \n",
       "2          3     1  GGGCAAATAAAGGAAGCTCTATTAGATACAGGAGCAGATGATACAG...   \n",
       "3          4     0  GGGCAACTAAAGGAAGCTCTATTAGATACAGGAGCAGATGATACAG...   \n",
       "4          5     1  GGGGGGCAACTAAAGGAAGCTCTATTAGATACAGGAGCAGATGATA...   \n",
       "\n",
       "                                              RT Seq  VL-t0  CD4-t0  \n",
       "0  CCTATTAGTCCTATTGAAACTGTACCAGTRAAATTAAAGCCAGGAA...    5.6      69  \n",
       "1  CCCATCAGTCCTATTGAAACTGTACCAGTAAAATTAAAGCCAGGAA...    5.3     119  \n",
       "2  CCCATTAGTCCTATTGAAACTGTACCAGTAAAATTAAAGCCAGGAA...    5.7      41  \n",
       "3  CCTATTAGTCCTATTGAAACTGTACCAGTAAAATTAAAGCCAGGAA...    5.2      48  \n",
       "4  CCCATTAGTCCTATTGAAACTGTACCAGTAAAATTAAAGCCAGGAA...    5.5     311  "
      ]
     },
     "execution_count": 3,
     "metadata": {},
     "output_type": "execute_result"
    }
   ],
   "source": [
    "test_data.head()"
   ]
  },
  {
   "cell_type": "code",
   "execution_count": 4,
   "metadata": {},
   "outputs": [],
   "source": [
    "# print(train_data['PR Seq'].isnull().sum())\n",
    "# print(train_data['RT Seq'].isnull().sum())\n",
    "# print(test_data['PR Seq'].isnull().sum())\n",
    "# print(test_data['RT Seq'].isnull().sum())\n",
    "\n",
    "# drop 80 rows because of NaNs\n",
    "train_data.dropna(subset=['PR Seq'], inplace=True)"
   ]
  },
  {
   "cell_type": "code",
   "execution_count": 5,
   "metadata": {},
   "outputs": [],
   "source": [
    "# prepare X and y\n",
    "\n",
    "# needed when model can not handle categorical data\n",
    "train_data.drop(['PR Seq', 'RT Seq'], axis=1, inplace=True)\n",
    "test_data.drop(['PR Seq', 'RT Seq'], axis=1, inplace=True)\n",
    "\n",
    "X = train_data.drop(['PatientID', 'Resp'], axis=1)\n",
    "Y = train_data['Resp'].values"
   ]
  },
  {
   "cell_type": "code",
   "execution_count": 6,
   "metadata": {},
   "outputs": [],
   "source": [
    "# split sequences into multiple columns\n",
    "# TODO: "
   ]
  },
  {
   "cell_type": "code",
   "execution_count": 7,
   "metadata": {},
   "outputs": [
    {
     "data": {
      "text/html": [
       "<div>\n",
       "<style scoped>\n",
       "    .dataframe tbody tr th:only-of-type {\n",
       "        vertical-align: middle;\n",
       "    }\n",
       "\n",
       "    .dataframe tbody tr th {\n",
       "        vertical-align: top;\n",
       "    }\n",
       "\n",
       "    .dataframe thead th {\n",
       "        text-align: right;\n",
       "    }\n",
       "</style>\n",
       "<table border=\"1\" class=\"dataframe\">\n",
       "  <thead>\n",
       "    <tr style=\"text-align: right;\">\n",
       "      <th></th>\n",
       "      <th>VL-t0</th>\n",
       "      <th>CD4-t0</th>\n",
       "    </tr>\n",
       "  </thead>\n",
       "  <tbody>\n",
       "    <tr>\n",
       "      <th>106</th>\n",
       "      <td>5.4</td>\n",
       "      <td>319</td>\n",
       "    </tr>\n",
       "    <tr>\n",
       "      <th>270</th>\n",
       "      <td>5.4</td>\n",
       "      <td>56</td>\n",
       "    </tr>\n",
       "    <tr>\n",
       "      <th>860</th>\n",
       "      <td>4.2</td>\n",
       "      <td>496</td>\n",
       "    </tr>\n",
       "    <tr>\n",
       "      <th>435</th>\n",
       "      <td>3.9</td>\n",
       "      <td>327</td>\n",
       "    </tr>\n",
       "    <tr>\n",
       "      <th>102</th>\n",
       "      <td>4.7</td>\n",
       "      <td>546</td>\n",
       "    </tr>\n",
       "  </tbody>\n",
       "</table>\n",
       "</div>"
      ],
      "text/plain": [
       "     VL-t0  CD4-t0\n",
       "106    5.4     319\n",
       "270    5.4      56\n",
       "860    4.2     496\n",
       "435    3.9     327\n",
       "102    4.7     546"
      ]
     },
     "execution_count": 7,
     "metadata": {},
     "output_type": "execute_result"
    }
   ],
   "source": [
    "# perform train test split\n",
    "x_train, x_test, y_train, y_test = train_test_split(X, Y, test_size=0.3, random_state=42)\n",
    "x_train.tail()"
   ]
  },
  {
   "cell_type": "code",
   "execution_count": 8,
   "metadata": {},
   "outputs": [
    {
     "name": "stdout",
     "output_type": "stream",
     "text": [
      "0:\tlearn: 0.5336523\ttotal: 139ms\tremaining: 2m 18s\n",
      "1:\tlearn: 0.4651043\ttotal: 140ms\tremaining: 1m 9s\n",
      "2:\tlearn: 0.4635248\ttotal: 141ms\tremaining: 47s\n",
      "3:\tlearn: 0.4632709\ttotal: 144ms\tremaining: 35.7s\n",
      "4:\tlearn: 0.4632297\ttotal: 144ms\tremaining: 28.8s\n",
      "5:\tlearn: 0.4632230\ttotal: 146ms\tremaining: 24.1s\n",
      "6:\tlearn: 0.4632219\ttotal: 147ms\tremaining: 20.9s\n",
      "7:\tlearn: 0.4632217\ttotal: 148ms\tremaining: 18.4s\n",
      "8:\tlearn: 0.4632217\ttotal: 149ms\tremaining: 16.4s\n",
      "9:\tlearn: 0.4632216\ttotal: 150ms\tremaining: 14.9s\n",
      "10:\tlearn: 0.4632216\ttotal: 151ms\tremaining: 13.6s\n",
      "11:\tlearn: 0.4632216\ttotal: 152ms\tremaining: 12.5s\n",
      "12:\tlearn: 0.4632216\ttotal: 155ms\tremaining: 11.7s\n",
      "13:\tlearn: 0.4490962\ttotal: 161ms\tremaining: 11.4s\n",
      "14:\tlearn: 0.4490942\ttotal: 163ms\tremaining: 10.7s\n",
      "15:\tlearn: 0.4490939\ttotal: 164ms\tremaining: 10.1s\n",
      "16:\tlearn: 0.4490938\ttotal: 165ms\tremaining: 9.54s\n",
      "17:\tlearn: 0.4393509\ttotal: 167ms\tremaining: 9.09s\n",
      "18:\tlearn: 0.4342242\ttotal: 168ms\tremaining: 8.68s\n",
      "19:\tlearn: 0.4342148\ttotal: 170ms\tremaining: 8.31s\n",
      "20:\tlearn: 0.4342132\ttotal: 171ms\tremaining: 7.96s\n",
      "21:\tlearn: 0.4342131\ttotal: 172ms\tremaining: 7.64s\n",
      "22:\tlearn: 0.4342130\ttotal: 173ms\tremaining: 7.36s\n",
      "23:\tlearn: 0.4310320\ttotal: 177ms\tremaining: 7.2s\n",
      "24:\tlearn: 0.4310320\ttotal: 178ms\tremaining: 6.96s\n",
      "25:\tlearn: 0.4310320\ttotal: 180ms\tremaining: 6.73s\n",
      "26:\tlearn: 0.4310320\ttotal: 181ms\tremaining: 6.52s\n",
      "27:\tlearn: 0.4310320\ttotal: 183ms\tremaining: 6.34s\n",
      "28:\tlearn: 0.4310320\ttotal: 183ms\tremaining: 6.14s\n",
      "29:\tlearn: 0.4310320\ttotal: 184ms\tremaining: 5.95s\n",
      "30:\tlearn: 0.4310320\ttotal: 185ms\tremaining: 5.78s\n",
      "31:\tlearn: 0.4310320\ttotal: 186ms\tremaining: 5.63s\n",
      "32:\tlearn: 0.4310320\ttotal: 187ms\tremaining: 5.48s\n",
      "33:\tlearn: 0.4267695\ttotal: 189ms\tremaining: 5.36s\n",
      "34:\tlearn: 0.4257285\ttotal: 190ms\tremaining: 5.24s\n",
      "35:\tlearn: 0.4257285\ttotal: 191ms\tremaining: 5.12s\n",
      "36:\tlearn: 0.4257284\ttotal: 192ms\tremaining: 5.01s\n",
      "37:\tlearn: 0.4257283\ttotal: 194ms\tremaining: 4.9s\n",
      "38:\tlearn: 0.4257283\ttotal: 195ms\tremaining: 4.8s\n",
      "39:\tlearn: 0.4257283\ttotal: 196ms\tremaining: 4.71s\n",
      "40:\tlearn: 0.4250181\ttotal: 198ms\tremaining: 4.63s\n",
      "41:\tlearn: 0.4250180\ttotal: 199ms\tremaining: 4.53s\n",
      "42:\tlearn: 0.4250180\ttotal: 200ms\tremaining: 4.45s\n",
      "43:\tlearn: 0.4250180\ttotal: 201ms\tremaining: 4.37s\n",
      "44:\tlearn: 0.4250180\ttotal: 202ms\tremaining: 4.28s\n",
      "45:\tlearn: 0.4250180\ttotal: 203ms\tremaining: 4.2s\n",
      "46:\tlearn: 0.4250180\ttotal: 204ms\tremaining: 4.13s\n",
      "47:\tlearn: 0.4250180\ttotal: 204ms\tremaining: 4.05s\n",
      "48:\tlearn: 0.4250180\ttotal: 205ms\tremaining: 3.98s\n",
      "49:\tlearn: 0.4250180\ttotal: 206ms\tremaining: 3.91s\n",
      "50:\tlearn: 0.4236046\ttotal: 207ms\tremaining: 3.86s\n",
      "51:\tlearn: 0.4204825\ttotal: 209ms\tremaining: 3.81s\n",
      "52:\tlearn: 0.4204819\ttotal: 211ms\tremaining: 3.76s\n",
      "53:\tlearn: 0.4204818\ttotal: 212ms\tremaining: 3.71s\n",
      "54:\tlearn: 0.4204818\ttotal: 213ms\tremaining: 3.67s\n",
      "55:\tlearn: 0.4204818\ttotal: 215ms\tremaining: 3.63s\n",
      "56:\tlearn: 0.4204818\ttotal: 217ms\tremaining: 3.58s\n",
      "57:\tlearn: 0.4204818\ttotal: 219ms\tremaining: 3.55s\n",
      "58:\tlearn: 0.4204818\ttotal: 220ms\tremaining: 3.51s\n",
      "59:\tlearn: 0.4204818\ttotal: 221ms\tremaining: 3.47s\n",
      "60:\tlearn: 0.4204818\ttotal: 223ms\tremaining: 3.43s\n",
      "61:\tlearn: 0.4204818\ttotal: 224ms\tremaining: 3.39s\n",
      "62:\tlearn: 0.4204818\ttotal: 225ms\tremaining: 3.35s\n",
      "63:\tlearn: 0.4204818\ttotal: 226ms\tremaining: 3.31s\n",
      "64:\tlearn: 0.4194128\ttotal: 228ms\tremaining: 3.27s\n",
      "65:\tlearn: 0.4194125\ttotal: 229ms\tremaining: 3.24s\n",
      "66:\tlearn: 0.4194125\ttotal: 230ms\tremaining: 3.2s\n",
      "67:\tlearn: 0.4194125\ttotal: 231ms\tremaining: 3.16s\n",
      "68:\tlearn: 0.4194125\ttotal: 232ms\tremaining: 3.13s\n",
      "69:\tlearn: 0.4194125\ttotal: 233ms\tremaining: 3.1s\n",
      "70:\tlearn: 0.4194125\ttotal: 234ms\tremaining: 3.06s\n",
      "71:\tlearn: 0.4187714\ttotal: 236ms\tremaining: 3.04s\n",
      "72:\tlearn: 0.4187714\ttotal: 237ms\tremaining: 3.01s\n",
      "73:\tlearn: 0.4187714\ttotal: 238ms\tremaining: 2.97s\n",
      "74:\tlearn: 0.4187714\ttotal: 238ms\tremaining: 2.94s\n",
      "75:\tlearn: 0.4187714\ttotal: 239ms\tremaining: 2.9s\n",
      "76:\tlearn: 0.4187714\ttotal: 240ms\tremaining: 2.88s\n",
      "77:\tlearn: 0.4187714\ttotal: 241ms\tremaining: 2.85s\n",
      "78:\tlearn: 0.4187714\ttotal: 242ms\tremaining: 2.83s\n",
      "79:\tlearn: 0.4187714\ttotal: 243ms\tremaining: 2.8s\n",
      "80:\tlearn: 0.4187714\ttotal: 245ms\tremaining: 2.77s\n",
      "81:\tlearn: 0.4187714\ttotal: 246ms\tremaining: 2.75s\n",
      "82:\tlearn: 0.4187714\ttotal: 246ms\tremaining: 2.72s\n",
      "83:\tlearn: 0.4187714\ttotal: 247ms\tremaining: 2.69s\n",
      "84:\tlearn: 0.4187714\ttotal: 248ms\tremaining: 2.67s\n",
      "85:\tlearn: 0.4187714\ttotal: 249ms\tremaining: 2.65s\n",
      "86:\tlearn: 0.4187714\ttotal: 250ms\tremaining: 2.63s\n",
      "87:\tlearn: 0.4187714\ttotal: 251ms\tremaining: 2.6s\n",
      "88:\tlearn: 0.4187714\ttotal: 252ms\tremaining: 2.58s\n",
      "89:\tlearn: 0.4181562\ttotal: 253ms\tremaining: 2.56s\n",
      "90:\tlearn: 0.4181562\ttotal: 254ms\tremaining: 2.54s\n",
      "91:\tlearn: 0.4172101\ttotal: 255ms\tremaining: 2.52s\n",
      "92:\tlearn: 0.4172100\ttotal: 256ms\tremaining: 2.5s\n",
      "93:\tlearn: 0.4172100\ttotal: 257ms\tremaining: 2.47s\n",
      "94:\tlearn: 0.4172100\ttotal: 258ms\tremaining: 2.46s\n",
      "95:\tlearn: 0.4172100\ttotal: 259ms\tremaining: 2.44s\n",
      "96:\tlearn: 0.4172100\ttotal: 260ms\tremaining: 2.42s\n",
      "97:\tlearn: 0.4172100\ttotal: 261ms\tremaining: 2.4s\n",
      "98:\tlearn: 0.4156725\ttotal: 262ms\tremaining: 2.38s\n",
      "99:\tlearn: 0.4156725\ttotal: 263ms\tremaining: 2.37s\n",
      "100:\tlearn: 0.4156725\ttotal: 264ms\tremaining: 2.35s\n",
      "101:\tlearn: 0.4156725\ttotal: 265ms\tremaining: 2.33s\n",
      "102:\tlearn: 0.4156725\ttotal: 266ms\tremaining: 2.31s\n",
      "103:\tlearn: 0.4156725\ttotal: 266ms\tremaining: 2.29s\n",
      "104:\tlearn: 0.4156725\ttotal: 267ms\tremaining: 2.28s\n",
      "105:\tlearn: 0.4116202\ttotal: 268ms\tremaining: 2.26s\n",
      "106:\tlearn: 0.4116200\ttotal: 269ms\tremaining: 2.25s\n",
      "107:\tlearn: 0.4116199\ttotal: 270ms\tremaining: 2.23s\n",
      "108:\tlearn: 0.4116197\ttotal: 271ms\tremaining: 2.21s\n",
      "109:\tlearn: 0.4116196\ttotal: 271ms\tremaining: 2.2s\n",
      "110:\tlearn: 0.4116195\ttotal: 272ms\tremaining: 2.18s\n",
      "111:\tlearn: 0.4116195\ttotal: 273ms\tremaining: 2.17s\n",
      "112:\tlearn: 0.4116195\ttotal: 274ms\tremaining: 2.15s\n",
      "113:\tlearn: 0.4116195\ttotal: 275ms\tremaining: 2.14s\n",
      "114:\tlearn: 0.4116195\ttotal: 276ms\tremaining: 2.13s\n",
      "115:\tlearn: 0.4116195\ttotal: 278ms\tremaining: 2.12s\n",
      "116:\tlearn: 0.4116195\ttotal: 279ms\tremaining: 2.1s\n",
      "117:\tlearn: 0.4116195\ttotal: 279ms\tremaining: 2.09s\n",
      "118:\tlearn: 0.4116195\ttotal: 280ms\tremaining: 2.07s\n",
      "119:\tlearn: 0.4111690\ttotal: 281ms\tremaining: 2.06s\n",
      "120:\tlearn: 0.4111690\ttotal: 282ms\tremaining: 2.05s\n",
      "121:\tlearn: 0.4111690\ttotal: 282ms\tremaining: 2.03s\n",
      "122:\tlearn: 0.4111690\ttotal: 284ms\tremaining: 2.03s\n",
      "123:\tlearn: 0.4111690\ttotal: 285ms\tremaining: 2.02s\n",
      "124:\tlearn: 0.4111690\ttotal: 286ms\tremaining: 2s\n",
      "125:\tlearn: 0.4108590\ttotal: 287ms\tremaining: 1.99s\n",
      "126:\tlearn: 0.4108590\ttotal: 288ms\tremaining: 1.98s\n",
      "127:\tlearn: 0.4108590\ttotal: 289ms\tremaining: 1.97s\n",
      "128:\tlearn: 0.4108590\ttotal: 290ms\tremaining: 1.96s\n",
      "129:\tlearn: 0.4105681\ttotal: 291ms\tremaining: 1.95s\n",
      "130:\tlearn: 0.4099164\ttotal: 292ms\tremaining: 1.94s\n",
      "131:\tlearn: 0.4099164\ttotal: 293ms\tremaining: 1.93s\n",
      "132:\tlearn: 0.4093021\ttotal: 294ms\tremaining: 1.92s\n",
      "133:\tlearn: 0.4093020\ttotal: 295ms\tremaining: 1.9s\n",
      "134:\tlearn: 0.4093020\ttotal: 295ms\tremaining: 1.89s\n",
      "135:\tlearn: 0.4093020\ttotal: 296ms\tremaining: 1.88s\n",
      "136:\tlearn: 0.4093020\ttotal: 297ms\tremaining: 1.87s\n",
      "137:\tlearn: 0.4086264\ttotal: 298ms\tremaining: 1.86s\n",
      "138:\tlearn: 0.4073105\ttotal: 299ms\tremaining: 1.85s\n",
      "139:\tlearn: 0.4073100\ttotal: 299ms\tremaining: 1.84s\n",
      "140:\tlearn: 0.4073100\ttotal: 300ms\tremaining: 1.83s\n",
      "141:\tlearn: 0.4073100\ttotal: 301ms\tremaining: 1.82s\n",
      "142:\tlearn: 0.4073100\ttotal: 302ms\tremaining: 1.81s\n",
      "143:\tlearn: 0.4073100\ttotal: 303ms\tremaining: 1.8s\n",
      "144:\tlearn: 0.4073100\ttotal: 304ms\tremaining: 1.79s\n",
      "145:\tlearn: 0.4073100\ttotal: 304ms\tremaining: 1.78s\n",
      "146:\tlearn: 0.4073100\ttotal: 306ms\tremaining: 1.77s\n",
      "147:\tlearn: 0.4073100\ttotal: 306ms\tremaining: 1.76s\n",
      "148:\tlearn: 0.4073099\ttotal: 307ms\tremaining: 1.75s\n",
      "149:\tlearn: 0.4073099\ttotal: 308ms\tremaining: 1.74s\n",
      "150:\tlearn: 0.4073099\ttotal: 309ms\tremaining: 1.74s\n",
      "151:\tlearn: 0.4073099\ttotal: 309ms\tremaining: 1.73s\n",
      "152:\tlearn: 0.4073099\ttotal: 310ms\tremaining: 1.72s\n",
      "153:\tlearn: 0.4073099\ttotal: 311ms\tremaining: 1.71s\n",
      "154:\tlearn: 0.4073099\ttotal: 312ms\tremaining: 1.7s\n",
      "155:\tlearn: 0.4073099\ttotal: 312ms\tremaining: 1.69s\n",
      "156:\tlearn: 0.4069929\ttotal: 313ms\tremaining: 1.68s\n",
      "157:\tlearn: 0.4069929\ttotal: 314ms\tremaining: 1.67s\n",
      "158:\tlearn: 0.4069929\ttotal: 315ms\tremaining: 1.66s\n",
      "159:\tlearn: 0.4069929\ttotal: 316ms\tremaining: 1.66s\n",
      "160:\tlearn: 0.4069929\ttotal: 316ms\tremaining: 1.65s\n",
      "161:\tlearn: 0.4069929\ttotal: 317ms\tremaining: 1.64s\n",
      "162:\tlearn: 0.4069929\ttotal: 318ms\tremaining: 1.63s\n",
      "163:\tlearn: 0.4069929\ttotal: 319ms\tremaining: 1.63s\n",
      "164:\tlearn: 0.4069929\ttotal: 320ms\tremaining: 1.62s\n",
      "165:\tlearn: 0.4069929\ttotal: 321ms\tremaining: 1.61s\n",
      "166:\tlearn: 0.4069929\ttotal: 321ms\tremaining: 1.6s\n",
      "167:\tlearn: 0.4069929\ttotal: 322ms\tremaining: 1.59s\n",
      "168:\tlearn: 0.4066056\ttotal: 323ms\tremaining: 1.59s\n",
      "169:\tlearn: 0.4063820\ttotal: 324ms\tremaining: 1.58s\n",
      "170:\tlearn: 0.4063820\ttotal: 325ms\tremaining: 1.57s\n",
      "171:\tlearn: 0.4063820\ttotal: 326ms\tremaining: 1.57s\n",
      "172:\tlearn: 0.4063820\ttotal: 326ms\tremaining: 1.56s\n",
      "173:\tlearn: 0.4063820\ttotal: 327ms\tremaining: 1.55s\n",
      "174:\tlearn: 0.4063820\ttotal: 328ms\tremaining: 1.55s\n",
      "175:\tlearn: 0.4063820\ttotal: 329ms\tremaining: 1.54s\n",
      "176:\tlearn: 0.4063820\ttotal: 330ms\tremaining: 1.53s\n",
      "177:\tlearn: 0.4063820\ttotal: 331ms\tremaining: 1.53s\n",
      "178:\tlearn: 0.4063820\ttotal: 332ms\tremaining: 1.52s\n",
      "179:\tlearn: 0.4063820\ttotal: 333ms\tremaining: 1.52s\n",
      "180:\tlearn: 0.4046411\ttotal: 334ms\tremaining: 1.51s\n",
      "181:\tlearn: 0.4044051\ttotal: 336ms\tremaining: 1.51s\n",
      "182:\tlearn: 0.4044051\ttotal: 337ms\tremaining: 1.5s\n",
      "183:\tlearn: 0.4044051\ttotal: 337ms\tremaining: 1.5s\n",
      "184:\tlearn: 0.4044051\ttotal: 338ms\tremaining: 1.49s\n",
      "185:\tlearn: 0.4044051\ttotal: 339ms\tremaining: 1.48s\n",
      "186:\tlearn: 0.4044051\ttotal: 340ms\tremaining: 1.48s\n",
      "187:\tlearn: 0.4044051\ttotal: 340ms\tremaining: 1.47s\n",
      "188:\tlearn: 0.4044051\ttotal: 341ms\tremaining: 1.46s\n",
      "189:\tlearn: 0.4044051\ttotal: 342ms\tremaining: 1.46s\n",
      "190:\tlearn: 0.4044051\ttotal: 343ms\tremaining: 1.45s\n",
      "191:\tlearn: 0.4044051\ttotal: 344ms\tremaining: 1.45s\n",
      "192:\tlearn: 0.4037995\ttotal: 345ms\tremaining: 1.44s\n",
      "193:\tlearn: 0.4031928\ttotal: 346ms\tremaining: 1.44s\n",
      "194:\tlearn: 0.4031927\ttotal: 347ms\tremaining: 1.43s\n",
      "195:\tlearn: 0.4031927\ttotal: 348ms\tremaining: 1.43s\n",
      "196:\tlearn: 0.4031927\ttotal: 348ms\tremaining: 1.42s\n",
      "197:\tlearn: 0.4031927\ttotal: 349ms\tremaining: 1.41s\n",
      "198:\tlearn: 0.4031927\ttotal: 350ms\tremaining: 1.41s\n",
      "199:\tlearn: 0.4031927\ttotal: 351ms\tremaining: 1.4s\n",
      "200:\tlearn: 0.4031927\ttotal: 352ms\tremaining: 1.4s\n",
      "201:\tlearn: 0.4029582\ttotal: 353ms\tremaining: 1.4s\n",
      "202:\tlearn: 0.4029582\ttotal: 354ms\tremaining: 1.39s\n",
      "203:\tlearn: 0.4025125\ttotal: 356ms\tremaining: 1.39s\n",
      "204:\tlearn: 0.4025125\ttotal: 357ms\tremaining: 1.38s\n",
      "205:\tlearn: 0.4021463\ttotal: 358ms\tremaining: 1.38s\n",
      "206:\tlearn: 0.4021463\ttotal: 360ms\tremaining: 1.38s\n",
      "207:\tlearn: 0.4021463\ttotal: 361ms\tremaining: 1.37s\n",
      "208:\tlearn: 0.3976067\ttotal: 362ms\tremaining: 1.37s\n",
      "209:\tlearn: 0.3976066\ttotal: 363ms\tremaining: 1.37s\n",
      "210:\tlearn: 0.3968967\ttotal: 365ms\tremaining: 1.36s\n",
      "211:\tlearn: 0.3968966\ttotal: 366ms\tremaining: 1.36s\n",
      "212:\tlearn: 0.3912691\ttotal: 367ms\tremaining: 1.36s\n",
      "213:\tlearn: 0.3909278\ttotal: 368ms\tremaining: 1.35s\n",
      "214:\tlearn: 0.3909277\ttotal: 369ms\tremaining: 1.35s\n",
      "215:\tlearn: 0.3909269\ttotal: 370ms\tremaining: 1.34s\n",
      "216:\tlearn: 0.3909266\ttotal: 370ms\tremaining: 1.34s\n",
      "217:\tlearn: 0.3909265\ttotal: 371ms\tremaining: 1.33s\n",
      "218:\tlearn: 0.3909265\ttotal: 372ms\tremaining: 1.33s\n",
      "219:\tlearn: 0.3909265\ttotal: 373ms\tremaining: 1.32s\n",
      "220:\tlearn: 0.3909265\ttotal: 374ms\tremaining: 1.32s\n",
      "221:\tlearn: 0.3909265\ttotal: 375ms\tremaining: 1.31s\n",
      "222:\tlearn: 0.3907239\ttotal: 376ms\tremaining: 1.31s\n",
      "223:\tlearn: 0.3907239\ttotal: 376ms\tremaining: 1.3s\n",
      "224:\tlearn: 0.3905543\ttotal: 377ms\tremaining: 1.3s\n",
      "225:\tlearn: 0.3905543\ttotal: 378ms\tremaining: 1.29s\n",
      "226:\tlearn: 0.3905543\ttotal: 378ms\tremaining: 1.29s\n",
      "227:\tlearn: 0.3905543\ttotal: 379ms\tremaining: 1.28s\n",
      "228:\tlearn: 0.3901609\ttotal: 381ms\tremaining: 1.28s\n",
      "229:\tlearn: 0.3901609\ttotal: 382ms\tremaining: 1.28s\n",
      "230:\tlearn: 0.3901609\ttotal: 382ms\tremaining: 1.27s\n",
      "231:\tlearn: 0.3901609\ttotal: 383ms\tremaining: 1.27s\n",
      "232:\tlearn: 0.3901609\ttotal: 384ms\tremaining: 1.26s\n",
      "233:\tlearn: 0.3901609\ttotal: 385ms\tremaining: 1.26s\n",
      "234:\tlearn: 0.3897697\ttotal: 387ms\tremaining: 1.26s\n",
      "235:\tlearn: 0.3897697\ttotal: 389ms\tremaining: 1.26s\n",
      "236:\tlearn: 0.3897697\ttotal: 390ms\tremaining: 1.25s\n",
      "237:\tlearn: 0.3897697\ttotal: 391ms\tremaining: 1.25s\n",
      "238:\tlearn: 0.3897697\ttotal: 392ms\tremaining: 1.25s\n",
      "239:\tlearn: 0.3873949\ttotal: 393ms\tremaining: 1.24s\n",
      "240:\tlearn: 0.3873949\ttotal: 394ms\tremaining: 1.24s\n",
      "241:\tlearn: 0.3873949\ttotal: 395ms\tremaining: 1.24s\n",
      "242:\tlearn: 0.3873949\ttotal: 396ms\tremaining: 1.23s\n",
      "243:\tlearn: 0.3863132\ttotal: 397ms\tremaining: 1.23s\n",
      "244:\tlearn: 0.3862397\ttotal: 398ms\tremaining: 1.23s\n",
      "245:\tlearn: 0.3862397\ttotal: 398ms\tremaining: 1.22s\n",
      "246:\tlearn: 0.3862397\ttotal: 399ms\tremaining: 1.22s\n",
      "247:\tlearn: 0.3860638\ttotal: 400ms\tremaining: 1.21s\n",
      "248:\tlearn: 0.3860638\ttotal: 402ms\tremaining: 1.21s\n",
      "249:\tlearn: 0.3860638\ttotal: 402ms\tremaining: 1.21s\n",
      "250:\tlearn: 0.3860638\ttotal: 403ms\tremaining: 1.2s\n",
      "251:\tlearn: 0.3860638\ttotal: 404ms\tremaining: 1.2s\n",
      "252:\tlearn: 0.3860638\ttotal: 405ms\tremaining: 1.19s\n",
      "253:\tlearn: 0.3860638\ttotal: 405ms\tremaining: 1.19s\n",
      "254:\tlearn: 0.3860638\ttotal: 406ms\tremaining: 1.19s\n",
      "255:\tlearn: 0.3860638\ttotal: 407ms\tremaining: 1.18s\n",
      "256:\tlearn: 0.3840771\ttotal: 408ms\tremaining: 1.18s\n",
      "257:\tlearn: 0.3840771\ttotal: 409ms\tremaining: 1.18s\n",
      "258:\tlearn: 0.3840771\ttotal: 410ms\tremaining: 1.17s\n",
      "259:\tlearn: 0.3840771\ttotal: 411ms\tremaining: 1.17s\n",
      "260:\tlearn: 0.3831966\ttotal: 412ms\tremaining: 1.17s\n",
      "261:\tlearn: 0.3831966\ttotal: 413ms\tremaining: 1.16s\n",
      "262:\tlearn: 0.3831966\ttotal: 414ms\tremaining: 1.16s\n",
      "263:\tlearn: 0.3831966\ttotal: 414ms\tremaining: 1.16s\n",
      "264:\tlearn: 0.3828832\ttotal: 416ms\tremaining: 1.15s\n",
      "265:\tlearn: 0.3826364\ttotal: 418ms\tremaining: 1.15s\n",
      "266:\tlearn: 0.3826364\ttotal: 419ms\tremaining: 1.15s\n",
      "267:\tlearn: 0.3824427\ttotal: 420ms\tremaining: 1.15s\n",
      "268:\tlearn: 0.3824427\ttotal: 421ms\tremaining: 1.14s\n",
      "269:\tlearn: 0.3824427\ttotal: 422ms\tremaining: 1.14s\n",
      "270:\tlearn: 0.3824427\ttotal: 423ms\tremaining: 1.14s\n",
      "271:\tlearn: 0.3824427\ttotal: 424ms\tremaining: 1.14s\n",
      "272:\tlearn: 0.3824427\ttotal: 425ms\tremaining: 1.13s\n",
      "273:\tlearn: 0.3822217\ttotal: 426ms\tremaining: 1.13s\n",
      "274:\tlearn: 0.3822217\ttotal: 427ms\tremaining: 1.13s\n",
      "275:\tlearn: 0.3822217\ttotal: 428ms\tremaining: 1.12s\n",
      "276:\tlearn: 0.3822217\ttotal: 430ms\tremaining: 1.12s\n",
      "277:\tlearn: 0.3822217\ttotal: 431ms\tremaining: 1.12s\n",
      "278:\tlearn: 0.3822217\ttotal: 432ms\tremaining: 1.11s\n",
      "279:\tlearn: 0.3822217\ttotal: 433ms\tremaining: 1.11s\n",
      "280:\tlearn: 0.3822217\ttotal: 434ms\tremaining: 1.11s\n",
      "281:\tlearn: 0.3822217\ttotal: 435ms\tremaining: 1.11s\n",
      "282:\tlearn: 0.3822217\ttotal: 437ms\tremaining: 1.11s\n",
      "283:\tlearn: 0.3822217\ttotal: 438ms\tremaining: 1.1s\n",
      "284:\tlearn: 0.3822217\ttotal: 439ms\tremaining: 1.1s\n",
      "285:\tlearn: 0.3822217\ttotal: 442ms\tremaining: 1.1s\n",
      "286:\tlearn: 0.3822217\ttotal: 444ms\tremaining: 1.1s\n",
      "287:\tlearn: 0.3822217\ttotal: 445ms\tremaining: 1.1s\n",
      "288:\tlearn: 0.3822217\ttotal: 446ms\tremaining: 1.1s\n",
      "289:\tlearn: 0.3818868\ttotal: 448ms\tremaining: 1.1s\n",
      "290:\tlearn: 0.3816626\ttotal: 449ms\tremaining: 1.09s\n",
      "291:\tlearn: 0.3816626\ttotal: 450ms\tremaining: 1.09s\n",
      "292:\tlearn: 0.3815731\ttotal: 452ms\tremaining: 1.09s\n",
      "293:\tlearn: 0.3815731\ttotal: 453ms\tremaining: 1.09s\n",
      "294:\tlearn: 0.3815731\ttotal: 454ms\tremaining: 1.08s\n",
      "295:\tlearn: 0.3815731\ttotal: 455ms\tremaining: 1.08s\n",
      "296:\tlearn: 0.3815731\ttotal: 457ms\tremaining: 1.08s\n",
      "297:\tlearn: 0.3815731\ttotal: 458ms\tremaining: 1.08s\n",
      "298:\tlearn: 0.3815731\ttotal: 459ms\tremaining: 1.08s\n",
      "299:\tlearn: 0.3814703\ttotal: 461ms\tremaining: 1.07s\n",
      "300:\tlearn: 0.3814703\ttotal: 462ms\tremaining: 1.07s\n",
      "301:\tlearn: 0.3814703\ttotal: 462ms\tremaining: 1.07s\n",
      "302:\tlearn: 0.3814703\ttotal: 464ms\tremaining: 1.07s\n",
      "303:\tlearn: 0.3814703\ttotal: 465ms\tremaining: 1.06s\n",
      "304:\tlearn: 0.3814703\ttotal: 466ms\tremaining: 1.06s\n",
      "305:\tlearn: 0.3814703\ttotal: 467ms\tremaining: 1.06s\n",
      "306:\tlearn: 0.3814703\ttotal: 468ms\tremaining: 1.06s\n",
      "307:\tlearn: 0.3814703\ttotal: 469ms\tremaining: 1.05s\n",
      "308:\tlearn: 0.3814703\ttotal: 470ms\tremaining: 1.05s\n",
      "309:\tlearn: 0.3814703\ttotal: 472ms\tremaining: 1.05s\n",
      "310:\tlearn: 0.3814703\ttotal: 473ms\tremaining: 1.05s\n",
      "311:\tlearn: 0.3814703\ttotal: 474ms\tremaining: 1.04s\n",
      "312:\tlearn: 0.3812278\ttotal: 476ms\tremaining: 1.04s\n",
      "313:\tlearn: 0.3812278\ttotal: 477ms\tremaining: 1.04s\n",
      "314:\tlearn: 0.3812278\ttotal: 478ms\tremaining: 1.04s\n",
      "315:\tlearn: 0.3812278\ttotal: 480ms\tremaining: 1.04s\n",
      "316:\tlearn: 0.3812278\ttotal: 481ms\tremaining: 1.04s\n",
      "317:\tlearn: 0.3812278\ttotal: 483ms\tremaining: 1.03s\n",
      "318:\tlearn: 0.3812278\ttotal: 485ms\tremaining: 1.03s\n",
      "319:\tlearn: 0.3812278\ttotal: 486ms\tremaining: 1.03s\n",
      "320:\tlearn: 0.3811785\ttotal: 487ms\tremaining: 1.03s\n",
      "321:\tlearn: 0.3811785\ttotal: 488ms\tremaining: 1.03s\n",
      "322:\tlearn: 0.3811785\ttotal: 489ms\tremaining: 1.02s\n",
      "323:\tlearn: 0.3811785\ttotal: 490ms\tremaining: 1.02s\n",
      "324:\tlearn: 0.3811785\ttotal: 491ms\tremaining: 1.02s\n",
      "325:\tlearn: 0.3811785\ttotal: 492ms\tremaining: 1.02s\n",
      "326:\tlearn: 0.3811785\ttotal: 493ms\tremaining: 1.01s\n",
      "327:\tlearn: 0.3811785\ttotal: 494ms\tremaining: 1.01s\n",
      "328:\tlearn: 0.3774486\ttotal: 496ms\tremaining: 1.01s\n",
      "329:\tlearn: 0.3774484\ttotal: 496ms\tremaining: 1.01s\n",
      "330:\tlearn: 0.3774481\ttotal: 498ms\tremaining: 1.01s\n",
      "331:\tlearn: 0.3773634\ttotal: 500ms\tremaining: 1s\n",
      "332:\tlearn: 0.3773634\ttotal: 501ms\tremaining: 1s\n",
      "333:\tlearn: 0.3773633\ttotal: 502ms\tremaining: 1s\n",
      "334:\tlearn: 0.3773632\ttotal: 503ms\tremaining: 998ms\n",
      "335:\tlearn: 0.3773632\ttotal: 504ms\tremaining: 995ms\n",
      "336:\tlearn: 0.3773632\ttotal: 505ms\tremaining: 993ms\n",
      "337:\tlearn: 0.3773632\ttotal: 506ms\tremaining: 991ms\n",
      "338:\tlearn: 0.3773632\ttotal: 507ms\tremaining: 989ms\n",
      "339:\tlearn: 0.3772700\ttotal: 509ms\tremaining: 988ms\n",
      "340:\tlearn: 0.3771011\ttotal: 511ms\tremaining: 988ms\n",
      "341:\tlearn: 0.3769144\ttotal: 513ms\tremaining: 986ms\n",
      "342:\tlearn: 0.3769144\ttotal: 514ms\tremaining: 985ms\n",
      "343:\tlearn: 0.3769144\ttotal: 515ms\tremaining: 983ms\n",
      "344:\tlearn: 0.3769144\ttotal: 517ms\tremaining: 981ms\n",
      "345:\tlearn: 0.3768639\ttotal: 518ms\tremaining: 979ms\n",
      "346:\tlearn: 0.3768639\ttotal: 519ms\tremaining: 977ms\n",
      "347:\tlearn: 0.3768639\ttotal: 520ms\tremaining: 975ms\n",
      "348:\tlearn: 0.3768639\ttotal: 521ms\tremaining: 972ms\n",
      "349:\tlearn: 0.3768639\ttotal: 522ms\tremaining: 970ms\n",
      "350:\tlearn: 0.3768639\ttotal: 524ms\tremaining: 968ms\n",
      "351:\tlearn: 0.3768639\ttotal: 525ms\tremaining: 966ms\n",
      "352:\tlearn: 0.3768639\ttotal: 525ms\tremaining: 963ms\n",
      "353:\tlearn: 0.3768639\ttotal: 526ms\tremaining: 960ms\n",
      "354:\tlearn: 0.3768639\ttotal: 527ms\tremaining: 958ms\n",
      "355:\tlearn: 0.3768639\ttotal: 528ms\tremaining: 955ms\n",
      "356:\tlearn: 0.3768639\ttotal: 529ms\tremaining: 952ms\n",
      "357:\tlearn: 0.3768639\ttotal: 530ms\tremaining: 950ms\n",
      "358:\tlearn: 0.3768639\ttotal: 531ms\tremaining: 947ms\n",
      "359:\tlearn: 0.3768639\ttotal: 531ms\tremaining: 945ms\n",
      "360:\tlearn: 0.3768639\ttotal: 532ms\tremaining: 942ms\n",
      "361:\tlearn: 0.3768639\ttotal: 533ms\tremaining: 940ms\n",
      "362:\tlearn: 0.3768639\ttotal: 534ms\tremaining: 937ms\n",
      "363:\tlearn: 0.3768639\ttotal: 535ms\tremaining: 934ms\n",
      "364:\tlearn: 0.3765507\ttotal: 536ms\tremaining: 933ms\n",
      "365:\tlearn: 0.3765507\ttotal: 538ms\tremaining: 931ms\n",
      "366:\tlearn: 0.3765507\ttotal: 539ms\tremaining: 929ms\n",
      "367:\tlearn: 0.3765507\ttotal: 540ms\tremaining: 927ms\n",
      "368:\tlearn: 0.3765507\ttotal: 541ms\tremaining: 925ms\n",
      "369:\tlearn: 0.3765507\ttotal: 542ms\tremaining: 923ms\n",
      "370:\tlearn: 0.3765507\ttotal: 543ms\tremaining: 921ms\n",
      "371:\tlearn: 0.3765507\ttotal: 544ms\tremaining: 919ms\n",
      "372:\tlearn: 0.3746049\ttotal: 546ms\tremaining: 918ms\n",
      "373:\tlearn: 0.3746047\ttotal: 547ms\tremaining: 916ms\n",
      "374:\tlearn: 0.3746047\ttotal: 548ms\tremaining: 914ms\n",
      "375:\tlearn: 0.3746047\ttotal: 550ms\tremaining: 912ms\n",
      "376:\tlearn: 0.3743346\ttotal: 551ms\tremaining: 911ms\n",
      "377:\tlearn: 0.3743346\ttotal: 552ms\tremaining: 909ms\n",
      "378:\tlearn: 0.3725005\ttotal: 554ms\tremaining: 907ms\n",
      "379:\tlearn: 0.3725005\ttotal: 555ms\tremaining: 905ms\n",
      "380:\tlearn: 0.3725005\ttotal: 556ms\tremaining: 903ms\n",
      "381:\tlearn: 0.3725005\ttotal: 557ms\tremaining: 901ms\n",
      "382:\tlearn: 0.3725005\ttotal: 558ms\tremaining: 899ms\n",
      "383:\tlearn: 0.3725005\ttotal: 559ms\tremaining: 897ms\n",
      "384:\tlearn: 0.3725005\ttotal: 560ms\tremaining: 895ms\n",
      "385:\tlearn: 0.3725005\ttotal: 562ms\tremaining: 893ms\n",
      "386:\tlearn: 0.3718538\ttotal: 563ms\tremaining: 892ms\n",
      "387:\tlearn: 0.3718538\ttotal: 564ms\tremaining: 889ms\n",
      "388:\tlearn: 0.3714117\ttotal: 565ms\tremaining: 888ms\n",
      "389:\tlearn: 0.3706448\ttotal: 567ms\tremaining: 886ms\n",
      "390:\tlearn: 0.3704541\ttotal: 568ms\tremaining: 884ms\n",
      "391:\tlearn: 0.3704541\ttotal: 569ms\tremaining: 882ms\n",
      "392:\tlearn: 0.3704541\ttotal: 570ms\tremaining: 880ms\n",
      "393:\tlearn: 0.3704541\ttotal: 571ms\tremaining: 878ms\n",
      "394:\tlearn: 0.3703705\ttotal: 573ms\tremaining: 877ms\n",
      "395:\tlearn: 0.3703705\ttotal: 574ms\tremaining: 875ms\n",
      "396:\tlearn: 0.3703705\ttotal: 575ms\tremaining: 873ms\n",
      "397:\tlearn: 0.3698618\ttotal: 576ms\tremaining: 872ms\n",
      "398:\tlearn: 0.3698618\ttotal: 577ms\tremaining: 870ms\n",
      "399:\tlearn: 0.3698618\ttotal: 579ms\tremaining: 868ms\n",
      "400:\tlearn: 0.3698618\ttotal: 580ms\tremaining: 867ms\n",
      "401:\tlearn: 0.3698253\ttotal: 581ms\tremaining: 865ms\n",
      "402:\tlearn: 0.3698253\ttotal: 582ms\tremaining: 862ms\n",
      "403:\tlearn: 0.3698253\ttotal: 583ms\tremaining: 860ms\n",
      "404:\tlearn: 0.3698253\ttotal: 584ms\tremaining: 858ms\n",
      "405:\tlearn: 0.3698253\ttotal: 585ms\tremaining: 856ms\n",
      "406:\tlearn: 0.3698253\ttotal: 586ms\tremaining: 854ms\n",
      "407:\tlearn: 0.3696428\ttotal: 588ms\tremaining: 853ms\n",
      "408:\tlearn: 0.3696428\ttotal: 589ms\tremaining: 851ms\n",
      "409:\tlearn: 0.3696428\ttotal: 590ms\tremaining: 849ms\n",
      "410:\tlearn: 0.3696428\ttotal: 592ms\tremaining: 848ms\n",
      "411:\tlearn: 0.3696037\ttotal: 594ms\tremaining: 847ms\n",
      "412:\tlearn: 0.3696037\ttotal: 595ms\tremaining: 846ms\n",
      "413:\tlearn: 0.3696037\ttotal: 596ms\tremaining: 844ms\n",
      "414:\tlearn: 0.3696037\ttotal: 597ms\tremaining: 842ms\n",
      "415:\tlearn: 0.3696037\ttotal: 598ms\tremaining: 840ms\n",
      "416:\tlearn: 0.3695653\ttotal: 600ms\tremaining: 838ms\n",
      "417:\tlearn: 0.3695653\ttotal: 601ms\tremaining: 836ms\n",
      "418:\tlearn: 0.3695653\ttotal: 602ms\tremaining: 834ms\n",
      "419:\tlearn: 0.3695653\ttotal: 603ms\tremaining: 832ms\n",
      "420:\tlearn: 0.3695653\ttotal: 604ms\tremaining: 830ms\n",
      "421:\tlearn: 0.3695653\ttotal: 605ms\tremaining: 828ms\n",
      "422:\tlearn: 0.3695653\ttotal: 606ms\tremaining: 827ms\n",
      "423:\tlearn: 0.3695653\ttotal: 607ms\tremaining: 825ms\n",
      "424:\tlearn: 0.3695653\ttotal: 608ms\tremaining: 822ms\n",
      "425:\tlearn: 0.3695653\ttotal: 609ms\tremaining: 820ms\n",
      "426:\tlearn: 0.3694573\ttotal: 610ms\tremaining: 818ms\n",
      "427:\tlearn: 0.3694573\ttotal: 611ms\tremaining: 816ms\n",
      "428:\tlearn: 0.3694573\ttotal: 611ms\tremaining: 814ms\n",
      "429:\tlearn: 0.3694573\ttotal: 612ms\tremaining: 812ms\n",
      "430:\tlearn: 0.3691510\ttotal: 614ms\tremaining: 810ms\n",
      "431:\tlearn: 0.3691510\ttotal: 615ms\tremaining: 808ms\n",
      "432:\tlearn: 0.3688156\ttotal: 616ms\tremaining: 807ms\n",
      "433:\tlearn: 0.3655565\ttotal: 618ms\tremaining: 806ms\n",
      "434:\tlearn: 0.3655565\ttotal: 620ms\tremaining: 805ms\n",
      "435:\tlearn: 0.3654736\ttotal: 621ms\tremaining: 804ms\n",
      "436:\tlearn: 0.3648984\ttotal: 623ms\tremaining: 802ms\n",
      "437:\tlearn: 0.3646968\ttotal: 624ms\tremaining: 801ms\n",
      "438:\tlearn: 0.3646968\ttotal: 625ms\tremaining: 799ms\n",
      "439:\tlearn: 0.3646406\ttotal: 627ms\tremaining: 797ms\n",
      "440:\tlearn: 0.3646273\ttotal: 628ms\tremaining: 796ms\n",
      "441:\tlearn: 0.3646273\ttotal: 629ms\tremaining: 794ms\n",
      "442:\tlearn: 0.3646273\ttotal: 630ms\tremaining: 793ms\n",
      "443:\tlearn: 0.3645816\ttotal: 633ms\tremaining: 792ms\n",
      "444:\tlearn: 0.3645816\ttotal: 634ms\tremaining: 790ms\n",
      "445:\tlearn: 0.3645816\ttotal: 635ms\tremaining: 789ms\n",
      "446:\tlearn: 0.3645816\ttotal: 636ms\tremaining: 787ms\n",
      "447:\tlearn: 0.3645816\ttotal: 637ms\tremaining: 785ms\n",
      "448:\tlearn: 0.3645816\ttotal: 638ms\tremaining: 783ms\n",
      "449:\tlearn: 0.3645816\ttotal: 639ms\tremaining: 781ms\n",
      "450:\tlearn: 0.3645816\ttotal: 641ms\tremaining: 780ms\n",
      "451:\tlearn: 0.3642152\ttotal: 642ms\tremaining: 779ms\n",
      "452:\tlearn: 0.3641158\ttotal: 644ms\tremaining: 777ms\n",
      "453:\tlearn: 0.3641158\ttotal: 645ms\tremaining: 776ms\n",
      "454:\tlearn: 0.3641158\ttotal: 646ms\tremaining: 774ms\n",
      "455:\tlearn: 0.3637744\ttotal: 648ms\tremaining: 773ms\n",
      "456:\tlearn: 0.3637744\ttotal: 649ms\tremaining: 771ms\n",
      "457:\tlearn: 0.3637744\ttotal: 650ms\tremaining: 770ms\n",
      "458:\tlearn: 0.3637744\ttotal: 652ms\tremaining: 768ms\n",
      "459:\tlearn: 0.3637744\ttotal: 653ms\tremaining: 767ms\n",
      "460:\tlearn: 0.3637744\ttotal: 654ms\tremaining: 765ms\n",
      "461:\tlearn: 0.3634004\ttotal: 656ms\tremaining: 764ms\n",
      "462:\tlearn: 0.3634004\ttotal: 657ms\tremaining: 762ms\n",
      "463:\tlearn: 0.3634004\ttotal: 659ms\tremaining: 762ms\n",
      "464:\tlearn: 0.3634004\ttotal: 661ms\tremaining: 760ms\n",
      "465:\tlearn: 0.3634004\ttotal: 662ms\tremaining: 758ms\n",
      "466:\tlearn: 0.3634004\ttotal: 663ms\tremaining: 757ms\n",
      "467:\tlearn: 0.3634004\ttotal: 664ms\tremaining: 755ms\n",
      "468:\tlearn: 0.3634004\ttotal: 665ms\tremaining: 753ms\n",
      "469:\tlearn: 0.3634004\ttotal: 666ms\tremaining: 751ms\n",
      "470:\tlearn: 0.3632358\ttotal: 667ms\tremaining: 749ms\n",
      "471:\tlearn: 0.3632358\ttotal: 668ms\tremaining: 747ms\n",
      "472:\tlearn: 0.3630122\ttotal: 669ms\tremaining: 746ms\n",
      "473:\tlearn: 0.3630122\ttotal: 671ms\tremaining: 744ms\n",
      "474:\tlearn: 0.3626767\ttotal: 672ms\tremaining: 742ms\n",
      "475:\tlearn: 0.3626767\ttotal: 673ms\tremaining: 741ms\n",
      "476:\tlearn: 0.3623722\ttotal: 675ms\tremaining: 740ms\n",
      "477:\tlearn: 0.3623722\ttotal: 675ms\tremaining: 738ms\n",
      "478:\tlearn: 0.3622786\ttotal: 676ms\tremaining: 736ms\n",
      "479:\tlearn: 0.3598645\ttotal: 678ms\tremaining: 735ms\n",
      "480:\tlearn: 0.3598644\ttotal: 680ms\tremaining: 733ms\n",
      "481:\tlearn: 0.3598644\ttotal: 681ms\tremaining: 732ms\n",
      "482:\tlearn: 0.3598643\ttotal: 683ms\tremaining: 731ms\n",
      "483:\tlearn: 0.3598643\ttotal: 684ms\tremaining: 729ms\n",
      "484:\tlearn: 0.3598643\ttotal: 685ms\tremaining: 727ms\n",
      "485:\tlearn: 0.3598643\ttotal: 686ms\tremaining: 726ms\n",
      "486:\tlearn: 0.3598643\ttotal: 688ms\tremaining: 725ms\n",
      "487:\tlearn: 0.3598643\ttotal: 689ms\tremaining: 723ms\n",
      "488:\tlearn: 0.3598643\ttotal: 690ms\tremaining: 721ms\n",
      "489:\tlearn: 0.3598643\ttotal: 691ms\tremaining: 719ms\n",
      "490:\tlearn: 0.3598643\ttotal: 692ms\tremaining: 717ms\n",
      "491:\tlearn: 0.3598643\ttotal: 693ms\tremaining: 716ms\n",
      "492:\tlearn: 0.3598643\ttotal: 694ms\tremaining: 714ms\n",
      "493:\tlearn: 0.3598643\ttotal: 695ms\tremaining: 712ms\n",
      "494:\tlearn: 0.3598643\ttotal: 696ms\tremaining: 710ms\n",
      "495:\tlearn: 0.3598643\ttotal: 697ms\tremaining: 708ms\n",
      "496:\tlearn: 0.3598643\ttotal: 698ms\tremaining: 706ms\n",
      "497:\tlearn: 0.3598643\ttotal: 699ms\tremaining: 704ms\n",
      "498:\tlearn: 0.3598643\ttotal: 700ms\tremaining: 703ms\n",
      "499:\tlearn: 0.3598643\ttotal: 701ms\tremaining: 701ms\n",
      "500:\tlearn: 0.3596689\ttotal: 702ms\tremaining: 699ms\n",
      "501:\tlearn: 0.3596689\ttotal: 703ms\tremaining: 697ms\n",
      "502:\tlearn: 0.3596689\ttotal: 704ms\tremaining: 695ms\n",
      "503:\tlearn: 0.3592914\ttotal: 705ms\tremaining: 694ms\n",
      "504:\tlearn: 0.3592914\ttotal: 706ms\tremaining: 692ms\n",
      "505:\tlearn: 0.3592914\ttotal: 706ms\tremaining: 690ms\n",
      "506:\tlearn: 0.3592914\ttotal: 707ms\tremaining: 688ms\n",
      "507:\tlearn: 0.3592914\ttotal: 708ms\tremaining: 686ms\n",
      "508:\tlearn: 0.3592704\ttotal: 709ms\tremaining: 684ms\n",
      "509:\tlearn: 0.3589396\ttotal: 710ms\tremaining: 683ms\n",
      "510:\tlearn: 0.3589149\ttotal: 711ms\tremaining: 681ms\n",
      "511:\tlearn: 0.3589149\ttotal: 712ms\tremaining: 679ms\n",
      "512:\tlearn: 0.3589149\ttotal: 713ms\tremaining: 677ms\n",
      "513:\tlearn: 0.3589149\ttotal: 714ms\tremaining: 675ms\n",
      "514:\tlearn: 0.3586750\ttotal: 715ms\tremaining: 674ms\n",
      "515:\tlearn: 0.3586750\ttotal: 717ms\tremaining: 672ms\n",
      "516:\tlearn: 0.3519795\ttotal: 718ms\tremaining: 671ms\n",
      "517:\tlearn: 0.3519793\ttotal: 719ms\tremaining: 669ms\n",
      "518:\tlearn: 0.3519791\ttotal: 720ms\tremaining: 667ms\n",
      "519:\tlearn: 0.3460725\ttotal: 721ms\tremaining: 666ms\n",
      "520:\tlearn: 0.3460628\ttotal: 722ms\tremaining: 664ms\n",
      "521:\tlearn: 0.3460613\ttotal: 723ms\tremaining: 662ms\n",
      "522:\tlearn: 0.3447602\ttotal: 725ms\tremaining: 661ms\n",
      "523:\tlearn: 0.3447601\ttotal: 726ms\tremaining: 659ms\n",
      "524:\tlearn: 0.3447601\ttotal: 726ms\tremaining: 657ms\n",
      "525:\tlearn: 0.3447601\ttotal: 727ms\tremaining: 656ms\n",
      "526:\tlearn: 0.3447601\ttotal: 729ms\tremaining: 654ms\n",
      "527:\tlearn: 0.3447601\ttotal: 730ms\tremaining: 653ms\n",
      "528:\tlearn: 0.3447601\ttotal: 732ms\tremaining: 651ms\n",
      "529:\tlearn: 0.3447601\ttotal: 733ms\tremaining: 650ms\n",
      "530:\tlearn: 0.3447601\ttotal: 734ms\tremaining: 648ms\n",
      "531:\tlearn: 0.3447601\ttotal: 735ms\tremaining: 647ms\n",
      "532:\tlearn: 0.3447601\ttotal: 736ms\tremaining: 645ms\n",
      "533:\tlearn: 0.3445795\ttotal: 737ms\tremaining: 644ms\n",
      "534:\tlearn: 0.3445795\ttotal: 739ms\tremaining: 642ms\n",
      "535:\tlearn: 0.3445228\ttotal: 740ms\tremaining: 640ms\n",
      "536:\tlearn: 0.3445228\ttotal: 741ms\tremaining: 639ms\n",
      "537:\tlearn: 0.3445228\ttotal: 742ms\tremaining: 638ms\n",
      "538:\tlearn: 0.3445228\ttotal: 744ms\tremaining: 636ms\n",
      "539:\tlearn: 0.3445228\ttotal: 745ms\tremaining: 635ms\n",
      "540:\tlearn: 0.3444446\ttotal: 747ms\tremaining: 634ms\n",
      "541:\tlearn: 0.3444446\ttotal: 748ms\tremaining: 632ms\n",
      "542:\tlearn: 0.3444446\ttotal: 749ms\tremaining: 631ms\n",
      "543:\tlearn: 0.3444446\ttotal: 750ms\tremaining: 629ms\n",
      "544:\tlearn: 0.3442689\ttotal: 752ms\tremaining: 628ms\n",
      "545:\tlearn: 0.3442689\ttotal: 753ms\tremaining: 626ms\n",
      "546:\tlearn: 0.3442689\ttotal: 754ms\tremaining: 625ms\n",
      "547:\tlearn: 0.3442689\ttotal: 756ms\tremaining: 624ms\n",
      "548:\tlearn: 0.3442689\ttotal: 757ms\tremaining: 622ms\n",
      "549:\tlearn: 0.3442689\ttotal: 758ms\tremaining: 620ms\n",
      "550:\tlearn: 0.3442689\ttotal: 759ms\tremaining: 618ms\n",
      "551:\tlearn: 0.3442689\ttotal: 760ms\tremaining: 617ms\n",
      "552:\tlearn: 0.3442689\ttotal: 761ms\tremaining: 615ms\n",
      "553:\tlearn: 0.3442689\ttotal: 762ms\tremaining: 613ms\n",
      "554:\tlearn: 0.3442689\ttotal: 763ms\tremaining: 611ms\n",
      "555:\tlearn: 0.3440209\ttotal: 764ms\tremaining: 610ms\n",
      "556:\tlearn: 0.3440209\ttotal: 765ms\tremaining: 608ms\n",
      "557:\tlearn: 0.3434826\ttotal: 766ms\tremaining: 607ms\n",
      "558:\tlearn: 0.3434826\ttotal: 767ms\tremaining: 605ms\n",
      "559:\tlearn: 0.3434826\ttotal: 768ms\tremaining: 603ms\n",
      "560:\tlearn: 0.3434826\ttotal: 769ms\tremaining: 602ms\n",
      "561:\tlearn: 0.3434826\ttotal: 770ms\tremaining: 600ms\n",
      "562:\tlearn: 0.3434826\ttotal: 771ms\tremaining: 599ms\n",
      "563:\tlearn: 0.3434826\ttotal: 773ms\tremaining: 597ms\n",
      "564:\tlearn: 0.3434826\ttotal: 774ms\tremaining: 596ms\n",
      "565:\tlearn: 0.3434826\ttotal: 776ms\tremaining: 595ms\n",
      "566:\tlearn: 0.3434826\ttotal: 777ms\tremaining: 593ms\n",
      "567:\tlearn: 0.3434826\ttotal: 778ms\tremaining: 592ms\n",
      "568:\tlearn: 0.3434826\ttotal: 779ms\tremaining: 590ms\n",
      "569:\tlearn: 0.3434826\ttotal: 780ms\tremaining: 589ms\n",
      "570:\tlearn: 0.3434826\ttotal: 782ms\tremaining: 587ms\n",
      "571:\tlearn: 0.3431819\ttotal: 784ms\tremaining: 586ms\n",
      "572:\tlearn: 0.3431819\ttotal: 785ms\tremaining: 585ms\n",
      "573:\tlearn: 0.3431819\ttotal: 786ms\tremaining: 583ms\n",
      "574:\tlearn: 0.3431819\ttotal: 787ms\tremaining: 581ms\n",
      "575:\tlearn: 0.3428501\ttotal: 788ms\tremaining: 580ms\n",
      "576:\tlearn: 0.3426022\ttotal: 789ms\tremaining: 579ms\n",
      "577:\tlearn: 0.3426022\ttotal: 791ms\tremaining: 577ms\n",
      "578:\tlearn: 0.3426022\ttotal: 792ms\tremaining: 576ms\n",
      "579:\tlearn: 0.3426022\ttotal: 793ms\tremaining: 574ms\n",
      "580:\tlearn: 0.3418852\ttotal: 794ms\tremaining: 573ms\n",
      "581:\tlearn: 0.3418852\ttotal: 795ms\tremaining: 571ms\n",
      "582:\tlearn: 0.3418852\ttotal: 796ms\tremaining: 569ms\n",
      "583:\tlearn: 0.3418852\ttotal: 797ms\tremaining: 568ms\n",
      "584:\tlearn: 0.3418601\ttotal: 798ms\tremaining: 566ms\n",
      "585:\tlearn: 0.3418567\ttotal: 800ms\tremaining: 565ms\n",
      "586:\tlearn: 0.3418567\ttotal: 801ms\tremaining: 564ms\n",
      "587:\tlearn: 0.3417429\ttotal: 803ms\tremaining: 562ms\n",
      "588:\tlearn: 0.3417429\ttotal: 804ms\tremaining: 561ms\n",
      "589:\tlearn: 0.3417429\ttotal: 805ms\tremaining: 559ms\n",
      "590:\tlearn: 0.3415339\ttotal: 807ms\tremaining: 558ms\n",
      "591:\tlearn: 0.3415339\ttotal: 808ms\tremaining: 557ms\n",
      "592:\tlearn: 0.3415339\ttotal: 809ms\tremaining: 555ms\n",
      "593:\tlearn: 0.3413821\ttotal: 810ms\tremaining: 554ms\n",
      "594:\tlearn: 0.3413821\ttotal: 811ms\tremaining: 552ms\n",
      "595:\tlearn: 0.3413821\ttotal: 812ms\tremaining: 550ms\n",
      "596:\tlearn: 0.3413821\ttotal: 813ms\tremaining: 549ms\n",
      "597:\tlearn: 0.3413821\ttotal: 814ms\tremaining: 547ms\n",
      "598:\tlearn: 0.3413821\ttotal: 815ms\tremaining: 545ms\n",
      "599:\tlearn: 0.3413821\ttotal: 816ms\tremaining: 544ms\n",
      "600:\tlearn: 0.3413821\ttotal: 817ms\tremaining: 542ms\n",
      "601:\tlearn: 0.3413821\ttotal: 818ms\tremaining: 541ms\n",
      "602:\tlearn: 0.3413821\ttotal: 818ms\tremaining: 539ms\n",
      "603:\tlearn: 0.3413821\ttotal: 820ms\tremaining: 537ms\n",
      "604:\tlearn: 0.3413821\ttotal: 821ms\tremaining: 536ms\n",
      "605:\tlearn: 0.3413821\ttotal: 822ms\tremaining: 534ms\n",
      "606:\tlearn: 0.3413821\ttotal: 823ms\tremaining: 533ms\n",
      "607:\tlearn: 0.3413821\ttotal: 824ms\tremaining: 531ms\n",
      "608:\tlearn: 0.3413821\ttotal: 825ms\tremaining: 530ms\n",
      "609:\tlearn: 0.3413821\ttotal: 826ms\tremaining: 528ms\n",
      "610:\tlearn: 0.3412426\ttotal: 826ms\tremaining: 526ms\n",
      "611:\tlearn: 0.3412426\ttotal: 827ms\tremaining: 524ms\n",
      "612:\tlearn: 0.3412426\ttotal: 828ms\tremaining: 523ms\n",
      "613:\tlearn: 0.3412426\ttotal: 829ms\tremaining: 521ms\n",
      "614:\tlearn: 0.3411333\ttotal: 830ms\tremaining: 520ms\n",
      "615:\tlearn: 0.3411333\ttotal: 831ms\tremaining: 518ms\n",
      "616:\tlearn: 0.3411333\ttotal: 832ms\tremaining: 517ms\n",
      "617:\tlearn: 0.3410671\ttotal: 833ms\tremaining: 515ms\n",
      "618:\tlearn: 0.3408857\ttotal: 835ms\tremaining: 514ms\n",
      "619:\tlearn: 0.3408857\ttotal: 836ms\tremaining: 512ms\n",
      "620:\tlearn: 0.3408857\ttotal: 837ms\tremaining: 511ms\n",
      "621:\tlearn: 0.3405667\ttotal: 839ms\tremaining: 510ms\n",
      "622:\tlearn: 0.3405667\ttotal: 839ms\tremaining: 508ms\n",
      "623:\tlearn: 0.3405667\ttotal: 840ms\tremaining: 506ms\n",
      "624:\tlearn: 0.3403512\ttotal: 842ms\tremaining: 505ms\n",
      "625:\tlearn: 0.3403512\ttotal: 843ms\tremaining: 504ms\n",
      "626:\tlearn: 0.3403512\ttotal: 844ms\tremaining: 502ms\n",
      "627:\tlearn: 0.3403512\ttotal: 845ms\tremaining: 501ms\n",
      "628:\tlearn: 0.3403512\ttotal: 846ms\tremaining: 499ms\n",
      "629:\tlearn: 0.3403512\ttotal: 847ms\tremaining: 497ms\n",
      "630:\tlearn: 0.3403512\ttotal: 848ms\tremaining: 496ms\n",
      "631:\tlearn: 0.3403512\ttotal: 849ms\tremaining: 494ms\n",
      "632:\tlearn: 0.3403512\ttotal: 850ms\tremaining: 493ms\n",
      "633:\tlearn: 0.3401103\ttotal: 851ms\tremaining: 491ms\n",
      "634:\tlearn: 0.3400746\ttotal: 852ms\tremaining: 490ms\n",
      "635:\tlearn: 0.3400746\ttotal: 853ms\tremaining: 488ms\n",
      "636:\tlearn: 0.3400746\ttotal: 854ms\tremaining: 487ms\n",
      "637:\tlearn: 0.3400746\ttotal: 855ms\tremaining: 485ms\n",
      "638:\tlearn: 0.3400746\ttotal: 856ms\tremaining: 483ms\n",
      "639:\tlearn: 0.3400746\ttotal: 857ms\tremaining: 482ms\n",
      "640:\tlearn: 0.3400746\ttotal: 858ms\tremaining: 481ms\n",
      "641:\tlearn: 0.3400746\ttotal: 859ms\tremaining: 479ms\n",
      "642:\tlearn: 0.3400746\ttotal: 860ms\tremaining: 478ms\n",
      "643:\tlearn: 0.3400746\ttotal: 862ms\tremaining: 476ms\n",
      "644:\tlearn: 0.3400746\ttotal: 863ms\tremaining: 475ms\n",
      "645:\tlearn: 0.3400746\ttotal: 864ms\tremaining: 474ms\n",
      "646:\tlearn: 0.3400746\ttotal: 865ms\tremaining: 472ms\n",
      "647:\tlearn: 0.3399688\ttotal: 867ms\tremaining: 471ms\n",
      "648:\tlearn: 0.3399688\ttotal: 868ms\tremaining: 469ms\n",
      "649:\tlearn: 0.3399688\ttotal: 869ms\tremaining: 468ms\n",
      "650:\tlearn: 0.3399688\ttotal: 869ms\tremaining: 466ms\n",
      "651:\tlearn: 0.3399688\ttotal: 870ms\tremaining: 464ms\n",
      "652:\tlearn: 0.3399688\ttotal: 871ms\tremaining: 463ms\n",
      "653:\tlearn: 0.3399688\ttotal: 872ms\tremaining: 461ms\n",
      "654:\tlearn: 0.3398205\ttotal: 873ms\tremaining: 460ms\n",
      "655:\tlearn: 0.3398205\ttotal: 874ms\tremaining: 458ms\n",
      "656:\tlearn: 0.3398205\ttotal: 875ms\tremaining: 457ms\n",
      "657:\tlearn: 0.3398205\ttotal: 876ms\tremaining: 455ms\n",
      "658:\tlearn: 0.3398205\ttotal: 877ms\tremaining: 454ms\n",
      "659:\tlearn: 0.3398205\ttotal: 878ms\tremaining: 452ms\n",
      "660:\tlearn: 0.3398205\ttotal: 879ms\tremaining: 451ms\n",
      "661:\tlearn: 0.3398205\ttotal: 880ms\tremaining: 449ms\n",
      "662:\tlearn: 0.3397832\ttotal: 882ms\tremaining: 448ms\n",
      "663:\tlearn: 0.3397832\ttotal: 883ms\tremaining: 447ms\n",
      "664:\tlearn: 0.3397832\ttotal: 884ms\tremaining: 445ms\n",
      "665:\tlearn: 0.3397832\ttotal: 885ms\tremaining: 444ms\n",
      "666:\tlearn: 0.3397832\ttotal: 886ms\tremaining: 442ms\n",
      "667:\tlearn: 0.3397832\ttotal: 887ms\tremaining: 441ms\n",
      "668:\tlearn: 0.3397832\ttotal: 888ms\tremaining: 439ms\n",
      "669:\tlearn: 0.3397832\ttotal: 888ms\tremaining: 438ms\n",
      "670:\tlearn: 0.3397832\ttotal: 889ms\tremaining: 436ms\n",
      "671:\tlearn: 0.3397832\ttotal: 890ms\tremaining: 435ms\n",
      "672:\tlearn: 0.3397832\ttotal: 892ms\tremaining: 433ms\n",
      "673:\tlearn: 0.3395544\ttotal: 893ms\tremaining: 432ms\n",
      "674:\tlearn: 0.3393836\ttotal: 894ms\tremaining: 431ms\n",
      "675:\tlearn: 0.3393836\ttotal: 895ms\tremaining: 429ms\n",
      "676:\tlearn: 0.3393081\ttotal: 897ms\tremaining: 428ms\n",
      "677:\tlearn: 0.3393081\ttotal: 898ms\tremaining: 426ms\n",
      "678:\tlearn: 0.3384725\ttotal: 900ms\tremaining: 426ms\n",
      "679:\tlearn: 0.3384725\ttotal: 901ms\tremaining: 424ms\n",
      "680:\tlearn: 0.3384725\ttotal: 902ms\tremaining: 423ms\n",
      "681:\tlearn: 0.3384725\ttotal: 903ms\tremaining: 421ms\n",
      "682:\tlearn: 0.3384725\ttotal: 904ms\tremaining: 419ms\n",
      "683:\tlearn: 0.3361674\ttotal: 905ms\tremaining: 418ms\n",
      "684:\tlearn: 0.3361674\ttotal: 907ms\tremaining: 417ms\n",
      "685:\tlearn: 0.3361674\ttotal: 908ms\tremaining: 416ms\n",
      "686:\tlearn: 0.3361674\ttotal: 909ms\tremaining: 414ms\n",
      "687:\tlearn: 0.3361674\ttotal: 910ms\tremaining: 413ms\n",
      "688:\tlearn: 0.3361674\ttotal: 911ms\tremaining: 411ms\n",
      "689:\tlearn: 0.3361674\ttotal: 912ms\tremaining: 410ms\n",
      "690:\tlearn: 0.3356874\ttotal: 913ms\tremaining: 408ms\n",
      "691:\tlearn: 0.3356874\ttotal: 914ms\tremaining: 407ms\n",
      "692:\tlearn: 0.3356874\ttotal: 915ms\tremaining: 406ms\n",
      "693:\tlearn: 0.3356874\ttotal: 917ms\tremaining: 404ms\n",
      "694:\tlearn: 0.3356874\ttotal: 918ms\tremaining: 403ms\n",
      "695:\tlearn: 0.3356874\ttotal: 919ms\tremaining: 401ms\n",
      "696:\tlearn: 0.3356874\ttotal: 920ms\tremaining: 400ms\n",
      "697:\tlearn: 0.3356874\ttotal: 921ms\tremaining: 399ms\n",
      "698:\tlearn: 0.3356874\ttotal: 922ms\tremaining: 397ms\n",
      "699:\tlearn: 0.3356874\ttotal: 924ms\tremaining: 396ms\n",
      "700:\tlearn: 0.3356874\ttotal: 925ms\tremaining: 395ms\n",
      "701:\tlearn: 0.3356874\ttotal: 926ms\tremaining: 393ms\n",
      "702:\tlearn: 0.3354574\ttotal: 928ms\tremaining: 392ms\n",
      "703:\tlearn: 0.3354574\ttotal: 929ms\tremaining: 391ms\n",
      "704:\tlearn: 0.3354574\ttotal: 930ms\tremaining: 389ms\n",
      "705:\tlearn: 0.3354574\ttotal: 931ms\tremaining: 388ms\n",
      "706:\tlearn: 0.3354574\ttotal: 933ms\tremaining: 387ms\n",
      "707:\tlearn: 0.3354574\ttotal: 934ms\tremaining: 385ms\n",
      "708:\tlearn: 0.3354574\ttotal: 935ms\tremaining: 384ms\n",
      "709:\tlearn: 0.3354574\ttotal: 936ms\tremaining: 382ms\n",
      "710:\tlearn: 0.3354574\ttotal: 937ms\tremaining: 381ms\n",
      "711:\tlearn: 0.3354574\ttotal: 939ms\tremaining: 380ms\n",
      "712:\tlearn: 0.3354574\ttotal: 940ms\tremaining: 378ms\n",
      "713:\tlearn: 0.3354574\ttotal: 941ms\tremaining: 377ms\n",
      "714:\tlearn: 0.3352255\ttotal: 943ms\tremaining: 376ms\n",
      "715:\tlearn: 0.3352254\ttotal: 944ms\tremaining: 374ms\n",
      "716:\tlearn: 0.3352254\ttotal: 945ms\tremaining: 373ms\n",
      "717:\tlearn: 0.3352254\ttotal: 947ms\tremaining: 372ms\n",
      "718:\tlearn: 0.3352001\ttotal: 948ms\tremaining: 370ms\n",
      "719:\tlearn: 0.3352001\ttotal: 949ms\tremaining: 369ms\n",
      "720:\tlearn: 0.3352001\ttotal: 951ms\tremaining: 368ms\n",
      "721:\tlearn: 0.3352001\ttotal: 951ms\tremaining: 366ms\n",
      "722:\tlearn: 0.3352001\ttotal: 952ms\tremaining: 365ms\n",
      "723:\tlearn: 0.3352001\ttotal: 953ms\tremaining: 363ms\n",
      "724:\tlearn: 0.3352001\ttotal: 954ms\tremaining: 362ms\n",
      "725:\tlearn: 0.3352001\ttotal: 955ms\tremaining: 361ms\n",
      "726:\tlearn: 0.3352001\ttotal: 956ms\tremaining: 359ms\n",
      "727:\tlearn: 0.3351768\ttotal: 958ms\tremaining: 358ms\n",
      "728:\tlearn: 0.3351768\ttotal: 959ms\tremaining: 356ms\n",
      "729:\tlearn: 0.3351768\ttotal: 961ms\tremaining: 355ms\n",
      "730:\tlearn: 0.3351768\ttotal: 962ms\tremaining: 354ms\n",
      "731:\tlearn: 0.3351768\ttotal: 964ms\tremaining: 353ms\n",
      "732:\tlearn: 0.3351768\ttotal: 965ms\tremaining: 351ms\n",
      "733:\tlearn: 0.3351768\ttotal: 966ms\tremaining: 350ms\n",
      "734:\tlearn: 0.3351768\ttotal: 968ms\tremaining: 349ms\n",
      "735:\tlearn: 0.3351768\ttotal: 969ms\tremaining: 348ms\n",
      "736:\tlearn: 0.3351468\ttotal: 971ms\tremaining: 346ms\n",
      "737:\tlearn: 0.3351468\ttotal: 973ms\tremaining: 345ms\n",
      "738:\tlearn: 0.3351468\ttotal: 974ms\tremaining: 344ms\n",
      "739:\tlearn: 0.3346645\ttotal: 976ms\tremaining: 343ms\n",
      "740:\tlearn: 0.3346645\ttotal: 977ms\tremaining: 342ms\n",
      "741:\tlearn: 0.3346645\ttotal: 978ms\tremaining: 340ms\n",
      "742:\tlearn: 0.3346645\ttotal: 980ms\tremaining: 339ms\n",
      "743:\tlearn: 0.3346645\ttotal: 981ms\tremaining: 338ms\n",
      "744:\tlearn: 0.3324457\ttotal: 983ms\tremaining: 336ms\n",
      "745:\tlearn: 0.3324457\ttotal: 984ms\tremaining: 335ms\n",
      "746:\tlearn: 0.3324457\ttotal: 985ms\tremaining: 333ms\n",
      "747:\tlearn: 0.3324250\ttotal: 987ms\tremaining: 332ms\n",
      "748:\tlearn: 0.3324250\ttotal: 988ms\tremaining: 331ms\n",
      "749:\tlearn: 0.3324250\ttotal: 989ms\tremaining: 330ms\n",
      "750:\tlearn: 0.3324250\ttotal: 990ms\tremaining: 328ms\n",
      "751:\tlearn: 0.3324250\ttotal: 991ms\tremaining: 327ms\n",
      "752:\tlearn: 0.3324250\ttotal: 992ms\tremaining: 325ms\n",
      "753:\tlearn: 0.3324250\ttotal: 993ms\tremaining: 324ms\n",
      "754:\tlearn: 0.3324250\ttotal: 994ms\tremaining: 323ms\n",
      "755:\tlearn: 0.3324250\ttotal: 996ms\tremaining: 321ms\n",
      "756:\tlearn: 0.3324250\ttotal: 997ms\tremaining: 320ms\n",
      "757:\tlearn: 0.3324250\ttotal: 998ms\tremaining: 319ms\n",
      "758:\tlearn: 0.3324250\ttotal: 999ms\tremaining: 317ms\n",
      "759:\tlearn: 0.3324250\ttotal: 1s\tremaining: 316ms\n",
      "760:\tlearn: 0.3324250\ttotal: 1s\tremaining: 315ms\n",
      "761:\tlearn: 0.3324250\ttotal: 1s\tremaining: 313ms\n",
      "762:\tlearn: 0.3323938\ttotal: 1s\tremaining: 312ms\n",
      "763:\tlearn: 0.3323938\ttotal: 1s\tremaining: 310ms\n",
      "764:\tlearn: 0.3323938\ttotal: 1s\tremaining: 309ms\n",
      "765:\tlearn: 0.3323938\ttotal: 1.01s\tremaining: 308ms\n",
      "766:\tlearn: 0.3323938\ttotal: 1.01s\tremaining: 306ms\n",
      "767:\tlearn: 0.3322277\ttotal: 1.01s\tremaining: 305ms\n",
      "768:\tlearn: 0.3319981\ttotal: 1.01s\tremaining: 303ms\n",
      "769:\tlearn: 0.3319981\ttotal: 1.01s\tremaining: 302ms\n",
      "770:\tlearn: 0.3319981\ttotal: 1.01s\tremaining: 301ms\n",
      "771:\tlearn: 0.3319802\ttotal: 1.01s\tremaining: 300ms\n",
      "772:\tlearn: 0.3317580\ttotal: 1.01s\tremaining: 298ms\n",
      "773:\tlearn: 0.3317580\ttotal: 1.02s\tremaining: 297ms\n",
      "774:\tlearn: 0.3317580\ttotal: 1.02s\tremaining: 295ms\n",
      "775:\tlearn: 0.3317580\ttotal: 1.02s\tremaining: 294ms\n",
      "776:\tlearn: 0.3317580\ttotal: 1.02s\tremaining: 292ms\n",
      "777:\tlearn: 0.3316401\ttotal: 1.02s\tremaining: 291ms\n",
      "778:\tlearn: 0.3316401\ttotal: 1.02s\tremaining: 290ms\n",
      "779:\tlearn: 0.3314978\ttotal: 1.02s\tremaining: 288ms\n",
      "780:\tlearn: 0.3314978\ttotal: 1.02s\tremaining: 287ms\n",
      "781:\tlearn: 0.3314780\ttotal: 1.02s\tremaining: 285ms\n",
      "782:\tlearn: 0.3314780\ttotal: 1.02s\tremaining: 284ms\n",
      "783:\tlearn: 0.3314780\ttotal: 1.02s\tremaining: 282ms\n",
      "784:\tlearn: 0.3314780\ttotal: 1.03s\tremaining: 281ms\n",
      "785:\tlearn: 0.3314780\ttotal: 1.03s\tremaining: 280ms\n",
      "786:\tlearn: 0.3314780\ttotal: 1.03s\tremaining: 278ms\n",
      "787:\tlearn: 0.3314780\ttotal: 1.03s\tremaining: 277ms\n",
      "788:\tlearn: 0.3314780\ttotal: 1.03s\tremaining: 276ms\n",
      "789:\tlearn: 0.3314007\ttotal: 1.03s\tremaining: 274ms\n",
      "790:\tlearn: 0.3314007\ttotal: 1.03s\tremaining: 273ms\n",
      "791:\tlearn: 0.3314007\ttotal: 1.03s\tremaining: 272ms\n",
      "792:\tlearn: 0.3314007\ttotal: 1.03s\tremaining: 270ms\n",
      "793:\tlearn: 0.3314007\ttotal: 1.04s\tremaining: 269ms\n",
      "794:\tlearn: 0.3314007\ttotal: 1.04s\tremaining: 267ms\n",
      "795:\tlearn: 0.3313536\ttotal: 1.04s\tremaining: 266ms\n",
      "796:\tlearn: 0.3311943\ttotal: 1.04s\tremaining: 265ms\n",
      "797:\tlearn: 0.3311943\ttotal: 1.04s\tremaining: 263ms\n",
      "798:\tlearn: 0.3311943\ttotal: 1.04s\tremaining: 262ms\n",
      "799:\tlearn: 0.3311943\ttotal: 1.04s\tremaining: 261ms\n",
      "800:\tlearn: 0.3311943\ttotal: 1.04s\tremaining: 259ms\n",
      "801:\tlearn: 0.3311943\ttotal: 1.04s\tremaining: 258ms\n",
      "802:\tlearn: 0.3311943\ttotal: 1.04s\tremaining: 257ms\n",
      "803:\tlearn: 0.3311943\ttotal: 1.05s\tremaining: 255ms\n",
      "804:\tlearn: 0.3311943\ttotal: 1.05s\tremaining: 254ms\n",
      "805:\tlearn: 0.3311943\ttotal: 1.05s\tremaining: 252ms\n",
      "806:\tlearn: 0.3311943\ttotal: 1.05s\tremaining: 251ms\n",
      "807:\tlearn: 0.3311943\ttotal: 1.05s\tremaining: 250ms\n",
      "808:\tlearn: 0.3309821\ttotal: 1.05s\tremaining: 248ms\n",
      "809:\tlearn: 0.3309821\ttotal: 1.05s\tremaining: 247ms\n",
      "810:\tlearn: 0.3309821\ttotal: 1.05s\tremaining: 246ms\n",
      "811:\tlearn: 0.3309821\ttotal: 1.06s\tremaining: 245ms\n",
      "812:\tlearn: 0.3309821\ttotal: 1.06s\tremaining: 243ms\n",
      "813:\tlearn: 0.3309821\ttotal: 1.06s\tremaining: 242ms\n",
      "814:\tlearn: 0.3309821\ttotal: 1.06s\tremaining: 240ms\n",
      "815:\tlearn: 0.3309821\ttotal: 1.06s\tremaining: 239ms\n",
      "816:\tlearn: 0.3309821\ttotal: 1.06s\tremaining: 238ms\n",
      "817:\tlearn: 0.3309781\ttotal: 1.06s\tremaining: 237ms\n",
      "818:\tlearn: 0.3305829\ttotal: 1.06s\tremaining: 235ms\n",
      "819:\tlearn: 0.3305829\ttotal: 1.06s\tremaining: 234ms\n",
      "820:\tlearn: 0.3305829\ttotal: 1.07s\tremaining: 233ms\n",
      "821:\tlearn: 0.3305829\ttotal: 1.07s\tremaining: 231ms\n",
      "822:\tlearn: 0.3305829\ttotal: 1.07s\tremaining: 230ms\n",
      "823:\tlearn: 0.3305829\ttotal: 1.07s\tremaining: 229ms\n",
      "824:\tlearn: 0.3305829\ttotal: 1.07s\tremaining: 227ms\n",
      "825:\tlearn: 0.3305310\ttotal: 1.07s\tremaining: 226ms\n",
      "826:\tlearn: 0.3305310\ttotal: 1.07s\tremaining: 225ms\n",
      "827:\tlearn: 0.3305310\ttotal: 1.07s\tremaining: 223ms\n",
      "828:\tlearn: 0.3305310\ttotal: 1.07s\tremaining: 222ms\n",
      "829:\tlearn: 0.3305310\ttotal: 1.08s\tremaining: 220ms\n",
      "830:\tlearn: 0.3305310\ttotal: 1.08s\tremaining: 219ms\n",
      "831:\tlearn: 0.3305310\ttotal: 1.08s\tremaining: 218ms\n",
      "832:\tlearn: 0.3305310\ttotal: 1.08s\tremaining: 216ms\n",
      "833:\tlearn: 0.3305310\ttotal: 1.08s\tremaining: 215ms\n",
      "834:\tlearn: 0.3304248\ttotal: 1.08s\tremaining: 214ms\n",
      "835:\tlearn: 0.3303944\ttotal: 1.08s\tremaining: 213ms\n",
      "836:\tlearn: 0.3303944\ttotal: 1.08s\tremaining: 211ms\n",
      "837:\tlearn: 0.3303291\ttotal: 1.09s\tremaining: 210ms\n",
      "838:\tlearn: 0.3303291\ttotal: 1.09s\tremaining: 209ms\n",
      "839:\tlearn: 0.3303291\ttotal: 1.09s\tremaining: 207ms\n",
      "840:\tlearn: 0.3303291\ttotal: 1.09s\tremaining: 206ms\n",
      "841:\tlearn: 0.3303291\ttotal: 1.09s\tremaining: 204ms\n",
      "842:\tlearn: 0.3303291\ttotal: 1.09s\tremaining: 203ms\n",
      "843:\tlearn: 0.3303291\ttotal: 1.09s\tremaining: 202ms\n",
      "844:\tlearn: 0.3302783\ttotal: 1.09s\tremaining: 200ms\n",
      "845:\tlearn: 0.3302783\ttotal: 1.09s\tremaining: 199ms\n",
      "846:\tlearn: 0.3301770\ttotal: 1.09s\tremaining: 198ms\n",
      "847:\tlearn: 0.3301770\ttotal: 1.1s\tremaining: 197ms\n",
      "848:\tlearn: 0.3301770\ttotal: 1.1s\tremaining: 195ms\n",
      "849:\tlearn: 0.3301770\ttotal: 1.1s\tremaining: 194ms\n",
      "850:\tlearn: 0.3300802\ttotal: 1.1s\tremaining: 193ms\n",
      "851:\tlearn: 0.3300802\ttotal: 1.1s\tremaining: 191ms\n",
      "852:\tlearn: 0.3300802\ttotal: 1.1s\tremaining: 190ms\n",
      "853:\tlearn: 0.3300802\ttotal: 1.1s\tremaining: 189ms\n",
      "854:\tlearn: 0.3300561\ttotal: 1.1s\tremaining: 187ms\n",
      "855:\tlearn: 0.3300561\ttotal: 1.1s\tremaining: 186ms\n",
      "856:\tlearn: 0.3300561\ttotal: 1.1s\tremaining: 185ms\n",
      "857:\tlearn: 0.3300561\ttotal: 1.11s\tremaining: 183ms\n",
      "858:\tlearn: 0.3300561\ttotal: 1.11s\tremaining: 182ms\n",
      "859:\tlearn: 0.3300561\ttotal: 1.11s\tremaining: 181ms\n",
      "860:\tlearn: 0.3300561\ttotal: 1.11s\tremaining: 179ms\n",
      "861:\tlearn: 0.3300561\ttotal: 1.11s\tremaining: 178ms\n",
      "862:\tlearn: 0.3300561\ttotal: 1.11s\tremaining: 177ms\n",
      "863:\tlearn: 0.3300561\ttotal: 1.11s\tremaining: 175ms\n",
      "864:\tlearn: 0.3300561\ttotal: 1.11s\tremaining: 174ms\n",
      "865:\tlearn: 0.3300561\ttotal: 1.12s\tremaining: 173ms\n",
      "866:\tlearn: 0.3300561\ttotal: 1.12s\tremaining: 172ms\n",
      "867:\tlearn: 0.3300561\ttotal: 1.12s\tremaining: 170ms\n",
      "868:\tlearn: 0.3300561\ttotal: 1.12s\tremaining: 169ms\n",
      "869:\tlearn: 0.3299694\ttotal: 1.12s\tremaining: 168ms\n",
      "870:\tlearn: 0.3299694\ttotal: 1.12s\tremaining: 166ms\n",
      "871:\tlearn: 0.3299694\ttotal: 1.13s\tremaining: 165ms\n",
      "872:\tlearn: 0.3299694\ttotal: 1.13s\tremaining: 164ms\n",
      "873:\tlearn: 0.3299694\ttotal: 1.13s\tremaining: 163ms\n",
      "874:\tlearn: 0.3299694\ttotal: 1.13s\tremaining: 161ms\n",
      "875:\tlearn: 0.3265175\ttotal: 1.13s\tremaining: 160ms\n",
      "876:\tlearn: 0.3265174\ttotal: 1.13s\tremaining: 159ms\n",
      "877:\tlearn: 0.3265174\ttotal: 1.13s\tremaining: 158ms\n",
      "878:\tlearn: 0.3265174\ttotal: 1.14s\tremaining: 156ms\n",
      "879:\tlearn: 0.3265174\ttotal: 1.14s\tremaining: 155ms\n",
      "880:\tlearn: 0.3265174\ttotal: 1.14s\tremaining: 154ms\n",
      "881:\tlearn: 0.3265174\ttotal: 1.14s\tremaining: 153ms\n",
      "882:\tlearn: 0.3265174\ttotal: 1.14s\tremaining: 151ms\n",
      "883:\tlearn: 0.3265174\ttotal: 1.14s\tremaining: 150ms\n",
      "884:\tlearn: 0.3265174\ttotal: 1.14s\tremaining: 149ms\n",
      "885:\tlearn: 0.3265174\ttotal: 1.15s\tremaining: 147ms\n",
      "886:\tlearn: 0.3265174\ttotal: 1.15s\tremaining: 146ms\n",
      "887:\tlearn: 0.3265174\ttotal: 1.15s\tremaining: 145ms\n",
      "888:\tlearn: 0.3265174\ttotal: 1.15s\tremaining: 144ms\n",
      "889:\tlearn: 0.3265174\ttotal: 1.15s\tremaining: 142ms\n",
      "890:\tlearn: 0.3265174\ttotal: 1.15s\tremaining: 141ms\n",
      "891:\tlearn: 0.3263385\ttotal: 1.15s\tremaining: 140ms\n",
      "892:\tlearn: 0.3263385\ttotal: 1.15s\tremaining: 138ms\n",
      "893:\tlearn: 0.3263385\ttotal: 1.16s\tremaining: 137ms\n",
      "894:\tlearn: 0.3263385\ttotal: 1.16s\tremaining: 136ms\n",
      "895:\tlearn: 0.3263385\ttotal: 1.16s\tremaining: 134ms\n",
      "896:\tlearn: 0.3261846\ttotal: 1.16s\tremaining: 133ms\n",
      "897:\tlearn: 0.3261846\ttotal: 1.16s\tremaining: 132ms\n",
      "898:\tlearn: 0.3260508\ttotal: 1.16s\tremaining: 131ms\n",
      "899:\tlearn: 0.3260508\ttotal: 1.16s\tremaining: 129ms\n",
      "900:\tlearn: 0.3260508\ttotal: 1.17s\tremaining: 128ms\n",
      "901:\tlearn: 0.3260508\ttotal: 1.17s\tremaining: 127ms\n",
      "902:\tlearn: 0.3260508\ttotal: 1.17s\tremaining: 125ms\n",
      "903:\tlearn: 0.3260508\ttotal: 1.17s\tremaining: 124ms\n",
      "904:\tlearn: 0.3260508\ttotal: 1.17s\tremaining: 123ms\n",
      "905:\tlearn: 0.3259916\ttotal: 1.17s\tremaining: 121ms\n",
      "906:\tlearn: 0.3259916\ttotal: 1.17s\tremaining: 120ms\n",
      "907:\tlearn: 0.3259916\ttotal: 1.17s\tremaining: 119ms\n",
      "908:\tlearn: 0.3259916\ttotal: 1.17s\tremaining: 118ms\n",
      "909:\tlearn: 0.3259916\ttotal: 1.18s\tremaining: 116ms\n",
      "910:\tlearn: 0.3259916\ttotal: 1.18s\tremaining: 115ms\n",
      "911:\tlearn: 0.3259676\ttotal: 1.18s\tremaining: 114ms\n",
      "912:\tlearn: 0.3258627\ttotal: 1.18s\tremaining: 112ms\n",
      "913:\tlearn: 0.3258627\ttotal: 1.18s\tremaining: 111ms\n",
      "914:\tlearn: 0.3258627\ttotal: 1.18s\tremaining: 110ms\n",
      "915:\tlearn: 0.3258627\ttotal: 1.18s\tremaining: 108ms\n",
      "916:\tlearn: 0.3258627\ttotal: 1.18s\tremaining: 107ms\n",
      "917:\tlearn: 0.3257044\ttotal: 1.19s\tremaining: 106ms\n",
      "918:\tlearn: 0.3257044\ttotal: 1.19s\tremaining: 105ms\n",
      "919:\tlearn: 0.3257044\ttotal: 1.19s\tremaining: 103ms\n",
      "920:\tlearn: 0.3256778\ttotal: 1.19s\tremaining: 102ms\n",
      "921:\tlearn: 0.3256778\ttotal: 1.19s\tremaining: 101ms\n",
      "922:\tlearn: 0.3256778\ttotal: 1.19s\tremaining: 99.5ms\n",
      "923:\tlearn: 0.3256778\ttotal: 1.19s\tremaining: 98.2ms\n",
      "924:\tlearn: 0.3256778\ttotal: 1.19s\tremaining: 96.9ms\n",
      "925:\tlearn: 0.3256109\ttotal: 1.2s\tremaining: 95.6ms\n",
      "926:\tlearn: 0.3229507\ttotal: 1.2s\tremaining: 94.3ms\n",
      "927:\tlearn: 0.3228652\ttotal: 1.2s\tremaining: 93.1ms\n",
      "928:\tlearn: 0.3228652\ttotal: 1.2s\tremaining: 91.8ms\n",
      "929:\tlearn: 0.3228652\ttotal: 1.2s\tremaining: 90.5ms\n",
      "930:\tlearn: 0.3228652\ttotal: 1.2s\tremaining: 89.2ms\n",
      "931:\tlearn: 0.3228652\ttotal: 1.21s\tremaining: 88ms\n",
      "932:\tlearn: 0.3228652\ttotal: 1.21s\tremaining: 86.7ms\n",
      "933:\tlearn: 0.3227993\ttotal: 1.21s\tremaining: 85.4ms\n",
      "934:\tlearn: 0.3227065\ttotal: 1.21s\tremaining: 84.1ms\n",
      "935:\tlearn: 0.3227065\ttotal: 1.21s\tremaining: 82.8ms\n",
      "936:\tlearn: 0.3227065\ttotal: 1.21s\tremaining: 81.5ms\n",
      "937:\tlearn: 0.3227065\ttotal: 1.21s\tremaining: 80.2ms\n",
      "938:\tlearn: 0.3227065\ttotal: 1.21s\tremaining: 78.9ms\n",
      "939:\tlearn: 0.3227065\ttotal: 1.22s\tremaining: 77.6ms\n",
      "940:\tlearn: 0.3227065\ttotal: 1.22s\tremaining: 76.4ms\n",
      "941:\tlearn: 0.3227065\ttotal: 1.22s\tremaining: 75.1ms\n",
      "942:\tlearn: 0.3227065\ttotal: 1.22s\tremaining: 73.8ms\n",
      "943:\tlearn: 0.3227065\ttotal: 1.22s\tremaining: 72.5ms\n",
      "944:\tlearn: 0.3227065\ttotal: 1.22s\tremaining: 71.2ms\n",
      "945:\tlearn: 0.3227065\ttotal: 1.22s\tremaining: 69.9ms\n",
      "946:\tlearn: 0.3227065\ttotal: 1.23s\tremaining: 68.6ms\n",
      "947:\tlearn: 0.3227065\ttotal: 1.23s\tremaining: 67.3ms\n",
      "948:\tlearn: 0.3227065\ttotal: 1.23s\tremaining: 66ms\n",
      "949:\tlearn: 0.3227065\ttotal: 1.23s\tremaining: 64.7ms\n",
      "950:\tlearn: 0.3227065\ttotal: 1.23s\tremaining: 63.4ms\n",
      "951:\tlearn: 0.3227065\ttotal: 1.23s\tremaining: 62.2ms\n",
      "952:\tlearn: 0.3227065\ttotal: 1.23s\tremaining: 60.9ms\n",
      "953:\tlearn: 0.3227065\ttotal: 1.24s\tremaining: 59.6ms\n",
      "954:\tlearn: 0.3227065\ttotal: 1.24s\tremaining: 58.3ms\n",
      "955:\tlearn: 0.3227065\ttotal: 1.24s\tremaining: 57ms\n",
      "956:\tlearn: 0.3226978\ttotal: 1.24s\tremaining: 55.7ms\n",
      "957:\tlearn: 0.3226978\ttotal: 1.24s\tremaining: 54.4ms\n",
      "958:\tlearn: 0.3201610\ttotal: 1.24s\tremaining: 53.1ms\n",
      "959:\tlearn: 0.3201123\ttotal: 1.24s\tremaining: 51.8ms\n",
      "960:\tlearn: 0.3201123\ttotal: 1.25s\tremaining: 50.5ms\n",
      "961:\tlearn: 0.3201123\ttotal: 1.25s\tremaining: 49.3ms\n",
      "962:\tlearn: 0.3201122\ttotal: 1.25s\tremaining: 48ms\n",
      "963:\tlearn: 0.3201122\ttotal: 1.25s\tremaining: 46.7ms\n",
      "964:\tlearn: 0.3201122\ttotal: 1.25s\tremaining: 45.4ms\n",
      "965:\tlearn: 0.3186826\ttotal: 1.25s\tremaining: 44.1ms\n",
      "966:\tlearn: 0.3185400\ttotal: 1.25s\tremaining: 42.8ms\n",
      "967:\tlearn: 0.3185400\ttotal: 1.26s\tremaining: 41.5ms\n",
      "968:\tlearn: 0.3185400\ttotal: 1.26s\tremaining: 40.2ms\n",
      "969:\tlearn: 0.3171817\ttotal: 1.26s\tremaining: 39ms\n",
      "970:\tlearn: 0.3171788\ttotal: 1.26s\tremaining: 37.7ms\n",
      "971:\tlearn: 0.3171788\ttotal: 1.26s\tremaining: 36.4ms\n",
      "972:\tlearn: 0.3171788\ttotal: 1.26s\tremaining: 35.1ms\n",
      "973:\tlearn: 0.3171788\ttotal: 1.26s\tremaining: 33.8ms\n",
      "974:\tlearn: 0.3171788\ttotal: 1.26s\tremaining: 32.5ms\n",
      "975:\tlearn: 0.3171788\ttotal: 1.27s\tremaining: 31.2ms\n",
      "976:\tlearn: 0.3171788\ttotal: 1.27s\tremaining: 29.8ms\n",
      "977:\tlearn: 0.3171788\ttotal: 1.27s\tremaining: 28.5ms\n",
      "978:\tlearn: 0.3171788\ttotal: 1.27s\tremaining: 27.2ms\n",
      "979:\tlearn: 0.3171788\ttotal: 1.27s\tremaining: 25.9ms\n",
      "980:\tlearn: 0.3171788\ttotal: 1.27s\tremaining: 24.6ms\n",
      "981:\tlearn: 0.3171788\ttotal: 1.27s\tremaining: 23.4ms\n",
      "982:\tlearn: 0.3171788\ttotal: 1.27s\tremaining: 22ms\n",
      "983:\tlearn: 0.3156748\ttotal: 1.28s\tremaining: 20.8ms\n",
      "984:\tlearn: 0.3156233\ttotal: 1.28s\tremaining: 19.5ms\n",
      "985:\tlearn: 0.3156233\ttotal: 1.28s\tremaining: 18.2ms\n",
      "986:\tlearn: 0.3156233\ttotal: 1.28s\tremaining: 16.9ms\n",
      "987:\tlearn: 0.3156233\ttotal: 1.28s\tremaining: 15.6ms\n",
      "988:\tlearn: 0.3156233\ttotal: 1.28s\tremaining: 14.3ms\n",
      "989:\tlearn: 0.3153990\ttotal: 1.28s\tremaining: 13ms\n",
      "990:\tlearn: 0.3152436\ttotal: 1.28s\tremaining: 11.7ms\n",
      "991:\tlearn: 0.3151712\ttotal: 1.28s\tremaining: 10.4ms\n",
      "992:\tlearn: 0.3151712\ttotal: 1.29s\tremaining: 9.07ms\n",
      "993:\tlearn: 0.3151712\ttotal: 1.29s\tremaining: 7.77ms\n",
      "994:\tlearn: 0.3151712\ttotal: 1.29s\tremaining: 6.47ms\n",
      "995:\tlearn: 0.3151712\ttotal: 1.29s\tremaining: 5.18ms\n",
      "996:\tlearn: 0.3151712\ttotal: 1.29s\tremaining: 3.88ms\n",
      "997:\tlearn: 0.3151712\ttotal: 1.29s\tremaining: 2.59ms\n",
      "998:\tlearn: 0.3151712\ttotal: 1.29s\tremaining: 1.29ms\n",
      "999:\tlearn: 0.3151712\ttotal: 1.29s\tremaining: 0us\n"
     ]
    },
    {
     "data": {
      "text/plain": [
       "0.7572463768115942"
      ]
     },
     "execution_count": 8,
     "metadata": {},
     "output_type": "execute_result"
    }
   ],
   "source": [
    "# best found params with optuna\n",
    "param = {'loss_function': 'CrossEntropy', 'learning_rate': 0.5956840896672528, 'l2_leaf_reg': 0.24629732316062503, 'colsample_bylevel': 0.09221224327044178, 'depth': 6, 'boosting_type': 'Plain', 'min_data_in_leaf': 3, 'one_hot_max_size': 6}\n",
    "\n",
    "catboost = CatBoostClassifier(**param, verbose=False) #, cat_features=['PR Seq', 'RT Seq'])\n",
    "catboost.fit(x_train, y_train)\n",
    "\n",
    "# on test partition of train data\n",
    "y_pred = catboost.predict(x_test)\n",
    "accuracy_score(y_true=y_test, y_pred=y_pred)"
   ]
  },
  {
   "cell_type": "code",
   "execution_count": 10,
   "metadata": {},
   "outputs": [
    {
     "name": "stderr",
     "output_type": "stream",
     "text": [
      "\u001b[32m[I 2022-05-11 10:19:44,946]\u001b[0m A new study created in memory with name: no-name-ae9c7fc1-620c-433d-8eb2-b2aedc96e812\u001b[0m\n",
      "\u001b[32m[I 2022-05-11 10:19:46,157]\u001b[0m Trial 0 finished with value: 0.8152173913043478 and parameters: {'loss_function': 'Logloss', 'learning_rate': 0.00932882418626806, 'l2_leaf_reg': 0.9513388943642612, 'colsample_bylevel': 0.0869742928063322, 'depth': 6, 'boosting_type': 'Plain', 'min_data_in_leaf': 14, 'one_hot_max_size': 19}. Best is trial 0 with value: 0.8152173913043478.\u001b[0m\n",
      "\u001b[32m[I 2022-05-11 10:19:47,439]\u001b[0m Trial 1 finished with value: 0.8152173913043478 and parameters: {'loss_function': 'CrossEntropy', 'learning_rate': 0.0007359086224772867, 'l2_leaf_reg': 0.21591626812425035, 'colsample_bylevel': 0.03215775751722875, 'depth': 10, 'boosting_type': 'Plain', 'min_data_in_leaf': 15, 'one_hot_max_size': 17}. Best is trial 0 with value: 0.8152173913043478.\u001b[0m\n",
      "\u001b[32m[I 2022-05-11 10:19:50,438]\u001b[0m Trial 2 finished with value: 0.8152173913043478 and parameters: {'loss_function': 'Logloss', 'learning_rate': 3.240915212030255e-05, 'l2_leaf_reg': 0.019009737627506094, 'colsample_bylevel': 0.034540090167661984, 'depth': 6, 'boosting_type': 'Ordered', 'min_data_in_leaf': 13, 'one_hot_max_size': 16}. Best is trial 0 with value: 0.8152173913043478.\u001b[0m\n",
      "\u001b[32m[I 2022-05-11 10:19:51,534]\u001b[0m Trial 3 finished with value: 0.8152173913043478 and parameters: {'loss_function': 'Logloss', 'learning_rate': 1.6712272626079927e-05, 'l2_leaf_reg': 0.013964181321291028, 'colsample_bylevel': 0.027221888924267607, 'depth': 7, 'boosting_type': 'Plain', 'min_data_in_leaf': 13, 'one_hot_max_size': 12}. Best is trial 0 with value: 0.8152173913043478.\u001b[0m\n",
      "\u001b[32m[I 2022-05-11 10:19:52,592]\u001b[0m Trial 4 finished with value: 0.8152173913043478 and parameters: {'loss_function': 'Logloss', 'learning_rate': 0.00346234446108593, 'l2_leaf_reg': 0.6119802471180608, 'colsample_bylevel': 0.019040672210000654, 'depth': 10, 'boosting_type': 'Plain', 'min_data_in_leaf': 9, 'one_hot_max_size': 2}. Best is trial 0 with value: 0.8152173913043478.\u001b[0m\n",
      "\u001b[32m[I 2022-05-11 10:19:54,263]\u001b[0m Trial 5 finished with value: 0.8152173913043478 and parameters: {'loss_function': 'CrossEntropy', 'learning_rate': 0.16959560583278388, 'l2_leaf_reg': 0.05226891294626396, 'colsample_bylevel': 0.028177058255995174, 'depth': 7, 'boosting_type': 'Ordered', 'min_data_in_leaf': 6, 'one_hot_max_size': 16}. Best is trial 0 with value: 0.8152173913043478.\u001b[0m\n",
      "\u001b[32m[I 2022-05-11 10:19:57,042]\u001b[0m Trial 6 finished with value: 0.8152173913043478 and parameters: {'loss_function': 'Logloss', 'learning_rate': 0.0055332839010311195, 'l2_leaf_reg': 0.563115158384682, 'colsample_bylevel': 0.060189112777790654, 'depth': 7, 'boosting_type': 'Ordered', 'min_data_in_leaf': 20, 'one_hot_max_size': 13}. Best is trial 0 with value: 0.8152173913043478.\u001b[0m\n",
      "\u001b[32m[I 2022-05-11 10:19:57,921]\u001b[0m Trial 7 finished with value: 0.8152173913043478 and parameters: {'loss_function': 'Logloss', 'learning_rate': 0.015215349498977106, 'l2_leaf_reg': 0.11328851035052016, 'colsample_bylevel': 0.011579265218133608, 'depth': 10, 'boosting_type': 'Plain', 'min_data_in_leaf': 19, 'one_hot_max_size': 20}. Best is trial 0 with value: 0.8152173913043478.\u001b[0m\n",
      "\u001b[32m[I 2022-05-11 10:19:59,014]\u001b[0m Trial 8 finished with value: 0.8152173913043478 and parameters: {'loss_function': 'Logloss', 'learning_rate': 0.0039531203703061105, 'l2_leaf_reg': 0.02615416827245279, 'colsample_bylevel': 0.050002191329317984, 'depth': 7, 'boosting_type': 'Plain', 'min_data_in_leaf': 13, 'one_hot_max_size': 18}. Best is trial 0 with value: 0.8152173913043478.\u001b[0m\n",
      "\u001b[32m[I 2022-05-11 10:20:01,978]\u001b[0m Trial 9 finished with value: 0.8152173913043478 and parameters: {'loss_function': 'CrossEntropy', 'learning_rate': 1.3332918342524711e-05, 'l2_leaf_reg': 0.04329594730299744, 'colsample_bylevel': 0.07735323087465674, 'depth': 8, 'boosting_type': 'Ordered', 'min_data_in_leaf': 3, 'one_hot_max_size': 8}. Best is trial 0 with value: 0.8152173913043478.\u001b[0m\n"
     ]
    },
    {
     "name": "stdout",
     "output_type": "stream",
     "text": [
      "Number of finished trials: 10\n",
      "Best trial:\n",
      "  Value: 0.8152173913043478\n",
      "  Params: \n",
      "    loss_function: Logloss\n",
      "    learning_rate: 0.00932882418626806\n",
      "    l2_leaf_reg: 0.9513388943642612\n",
      "    colsample_bylevel: 0.0869742928063322\n",
      "    depth: 6\n",
      "    boosting_type: Plain\n",
      "    min_data_in_leaf: 14\n",
      "    one_hot_max_size: 19\n"
     ]
    }
   ],
   "source": [
    "# 1. Define an objective function to be maximized.\n",
    "def objective(trial):\n",
    "    \n",
    "    # 2. Suggest values of the hyperparameters using a trial object.\n",
    "    param = {\n",
    "        'loss_function': trial.suggest_categorical('loss_function', ['Logloss', 'CrossEntropy']),\n",
    "        \"learning_rate\": trial.suggest_loguniform(\"learning_rate\", 1e-5, 1e0),\n",
    "        \"l2_leaf_reg\": trial.suggest_loguniform(\"l2_leaf_reg\", 1e-2, 1e0),\n",
    "        \"colsample_bylevel\": trial.suggest_float(\"colsample_bylevel\", 0.01, 0.1),\n",
    "        'depth': trial.suggest_int('depth', 6, 10),\n",
    "        \"boosting_type\": trial.suggest_categorical(\"boosting_type\", [\"Ordered\", \"Plain\"]),\n",
    "        \"min_data_in_leaf\": trial.suggest_int(\"min_data_in_leaf\", 2, 20),\n",
    "        \"one_hot_max_size\": trial.suggest_int(\"one_hot_max_size\", 2, 20),  \n",
    "    }\n",
    "    \n",
    "    catboost = CatBoostClassifier(**param) #, cat_features=['PR Seq', 'RT Seq'])\n",
    "    catboost.fit(x_train, y_train, eval_set=[(x_test, y_test)], verbose=False, early_stopping_rounds=100)\n",
    "    # on test partition of train data\n",
    "    y_pred = catboost.predict(x_test)\n",
    "    \n",
    "    return accuracy_score(y_true=y_test, y_pred=y_pred)\n",
    "\n",
    "optune = False\n",
    "if optune:\n",
    "    # 3. Create a study object and optimize the objective function.\n",
    "    study = optuna.create_study(direction='maximize')\n",
    "    study.optimize(objective, n_trials=10, timeout=60)\n",
    "\n",
    "    print(\"Number of finished trials: {}\".format(len(study.trials)))\n",
    "\n",
    "    print(\"Best trial:\")\n",
    "    trial = study.best_trial\n",
    "\n",
    "    print(\"  Value: {}\".format(trial.value))\n",
    "\n",
    "    print(\"  Params: \")\n",
    "    for key, value in trial.params.items():\n",
    "        print(\"    {}: {}\".format(key, value))"
   ]
  },
  {
   "cell_type": "code",
   "execution_count": 17,
   "metadata": {},
   "outputs": [
    {
     "data": {
      "application/vnd.plotly.v1+json": {
       "config": {
        "plotlyServerURL": "https://plot.ly"
       },
       "data": [
        {
         "marker": {
          "color": [
           0,
           1,
           2,
           3,
           4,
           5,
           6,
           7,
           8,
           9
          ],
          "colorbar": {
           "title": {
            "text": "#Trials"
           },
           "x": 1,
           "xpad": 40
          },
          "colorscale": [
           [
            0,
            "rgb(247,251,255)"
           ],
           [
            0.125,
            "rgb(222,235,247)"
           ],
           [
            0.25,
            "rgb(198,219,239)"
           ],
           [
            0.375,
            "rgb(158,202,225)"
           ],
           [
            0.5,
            "rgb(107,174,214)"
           ],
           [
            0.625,
            "rgb(66,146,198)"
           ],
           [
            0.75,
            "rgb(33,113,181)"
           ],
           [
            0.875,
            "rgb(8,81,156)"
           ],
           [
            1,
            "rgb(8,48,107)"
           ]
          ],
          "line": {
           "color": "Grey",
           "width": 0.5
          },
          "showscale": true
         },
         "mode": "markers",
         "showlegend": false,
         "type": "scatter",
         "x": [
          6,
          10,
          6,
          7,
          10,
          7,
          7,
          10,
          7,
          8
         ],
         "xaxis": "x",
         "y": [
          0.8152173913043478,
          0.8152173913043478,
          0.8152173913043478,
          0.8152173913043478,
          0.8152173913043478,
          0.8152173913043478,
          0.8152173913043478,
          0.8152173913043478,
          0.8152173913043478,
          0.8152173913043478
         ],
         "yaxis": "y"
        },
        {
         "marker": {
          "color": [
           0,
           1,
           2,
           3,
           4,
           5,
           6,
           7,
           8,
           9
          ],
          "colorbar": {
           "title": {
            "text": "#Trials"
           },
           "x": 1,
           "xpad": 40
          },
          "colorscale": [
           [
            0,
            "rgb(247,251,255)"
           ],
           [
            0.125,
            "rgb(222,235,247)"
           ],
           [
            0.25,
            "rgb(198,219,239)"
           ],
           [
            0.375,
            "rgb(158,202,225)"
           ],
           [
            0.5,
            "rgb(107,174,214)"
           ],
           [
            0.625,
            "rgb(66,146,198)"
           ],
           [
            0.75,
            "rgb(33,113,181)"
           ],
           [
            0.875,
            "rgb(8,81,156)"
           ],
           [
            1,
            "rgb(8,48,107)"
           ]
          ],
          "line": {
           "color": "Grey",
           "width": 0.5
          },
          "showscale": false
         },
         "mode": "markers",
         "showlegend": false,
         "type": "scatter",
         "x": [
          0.00932882418626806,
          0.0007359086224772867,
          0.00003240915212030255,
          0.000016712272626079927,
          0.00346234446108593,
          0.16959560583278388,
          0.0055332839010311195,
          0.015215349498977106,
          0.0039531203703061105,
          0.000013332918342524711
         ],
         "xaxis": "x2",
         "y": [
          0.8152173913043478,
          0.8152173913043478,
          0.8152173913043478,
          0.8152173913043478,
          0.8152173913043478,
          0.8152173913043478,
          0.8152173913043478,
          0.8152173913043478,
          0.8152173913043478,
          0.8152173913043478
         ],
         "yaxis": "y2"
        }
       ],
       "layout": {
        "template": {
         "data": {
          "bar": [
           {
            "error_x": {
             "color": "#2a3f5f"
            },
            "error_y": {
             "color": "#2a3f5f"
            },
            "marker": {
             "line": {
              "color": "#E5ECF6",
              "width": 0.5
             },
             "pattern": {
              "fillmode": "overlay",
              "size": 10,
              "solidity": 0.2
             }
            },
            "type": "bar"
           }
          ],
          "barpolar": [
           {
            "marker": {
             "line": {
              "color": "#E5ECF6",
              "width": 0.5
             },
             "pattern": {
              "fillmode": "overlay",
              "size": 10,
              "solidity": 0.2
             }
            },
            "type": "barpolar"
           }
          ],
          "carpet": [
           {
            "aaxis": {
             "endlinecolor": "#2a3f5f",
             "gridcolor": "white",
             "linecolor": "white",
             "minorgridcolor": "white",
             "startlinecolor": "#2a3f5f"
            },
            "baxis": {
             "endlinecolor": "#2a3f5f",
             "gridcolor": "white",
             "linecolor": "white",
             "minorgridcolor": "white",
             "startlinecolor": "#2a3f5f"
            },
            "type": "carpet"
           }
          ],
          "choropleth": [
           {
            "colorbar": {
             "outlinewidth": 0,
             "ticks": ""
            },
            "type": "choropleth"
           }
          ],
          "contour": [
           {
            "colorbar": {
             "outlinewidth": 0,
             "ticks": ""
            },
            "colorscale": [
             [
              0,
              "#0d0887"
             ],
             [
              0.1111111111111111,
              "#46039f"
             ],
             [
              0.2222222222222222,
              "#7201a8"
             ],
             [
              0.3333333333333333,
              "#9c179e"
             ],
             [
              0.4444444444444444,
              "#bd3786"
             ],
             [
              0.5555555555555556,
              "#d8576b"
             ],
             [
              0.6666666666666666,
              "#ed7953"
             ],
             [
              0.7777777777777778,
              "#fb9f3a"
             ],
             [
              0.8888888888888888,
              "#fdca26"
             ],
             [
              1,
              "#f0f921"
             ]
            ],
            "type": "contour"
           }
          ],
          "contourcarpet": [
           {
            "colorbar": {
             "outlinewidth": 0,
             "ticks": ""
            },
            "type": "contourcarpet"
           }
          ],
          "heatmap": [
           {
            "colorbar": {
             "outlinewidth": 0,
             "ticks": ""
            },
            "colorscale": [
             [
              0,
              "#0d0887"
             ],
             [
              0.1111111111111111,
              "#46039f"
             ],
             [
              0.2222222222222222,
              "#7201a8"
             ],
             [
              0.3333333333333333,
              "#9c179e"
             ],
             [
              0.4444444444444444,
              "#bd3786"
             ],
             [
              0.5555555555555556,
              "#d8576b"
             ],
             [
              0.6666666666666666,
              "#ed7953"
             ],
             [
              0.7777777777777778,
              "#fb9f3a"
             ],
             [
              0.8888888888888888,
              "#fdca26"
             ],
             [
              1,
              "#f0f921"
             ]
            ],
            "type": "heatmap"
           }
          ],
          "heatmapgl": [
           {
            "colorbar": {
             "outlinewidth": 0,
             "ticks": ""
            },
            "colorscale": [
             [
              0,
              "#0d0887"
             ],
             [
              0.1111111111111111,
              "#46039f"
             ],
             [
              0.2222222222222222,
              "#7201a8"
             ],
             [
              0.3333333333333333,
              "#9c179e"
             ],
             [
              0.4444444444444444,
              "#bd3786"
             ],
             [
              0.5555555555555556,
              "#d8576b"
             ],
             [
              0.6666666666666666,
              "#ed7953"
             ],
             [
              0.7777777777777778,
              "#fb9f3a"
             ],
             [
              0.8888888888888888,
              "#fdca26"
             ],
             [
              1,
              "#f0f921"
             ]
            ],
            "type": "heatmapgl"
           }
          ],
          "histogram": [
           {
            "marker": {
             "pattern": {
              "fillmode": "overlay",
              "size": 10,
              "solidity": 0.2
             }
            },
            "type": "histogram"
           }
          ],
          "histogram2d": [
           {
            "colorbar": {
             "outlinewidth": 0,
             "ticks": ""
            },
            "colorscale": [
             [
              0,
              "#0d0887"
             ],
             [
              0.1111111111111111,
              "#46039f"
             ],
             [
              0.2222222222222222,
              "#7201a8"
             ],
             [
              0.3333333333333333,
              "#9c179e"
             ],
             [
              0.4444444444444444,
              "#bd3786"
             ],
             [
              0.5555555555555556,
              "#d8576b"
             ],
             [
              0.6666666666666666,
              "#ed7953"
             ],
             [
              0.7777777777777778,
              "#fb9f3a"
             ],
             [
              0.8888888888888888,
              "#fdca26"
             ],
             [
              1,
              "#f0f921"
             ]
            ],
            "type": "histogram2d"
           }
          ],
          "histogram2dcontour": [
           {
            "colorbar": {
             "outlinewidth": 0,
             "ticks": ""
            },
            "colorscale": [
             [
              0,
              "#0d0887"
             ],
             [
              0.1111111111111111,
              "#46039f"
             ],
             [
              0.2222222222222222,
              "#7201a8"
             ],
             [
              0.3333333333333333,
              "#9c179e"
             ],
             [
              0.4444444444444444,
              "#bd3786"
             ],
             [
              0.5555555555555556,
              "#d8576b"
             ],
             [
              0.6666666666666666,
              "#ed7953"
             ],
             [
              0.7777777777777778,
              "#fb9f3a"
             ],
             [
              0.8888888888888888,
              "#fdca26"
             ],
             [
              1,
              "#f0f921"
             ]
            ],
            "type": "histogram2dcontour"
           }
          ],
          "mesh3d": [
           {
            "colorbar": {
             "outlinewidth": 0,
             "ticks": ""
            },
            "type": "mesh3d"
           }
          ],
          "parcoords": [
           {
            "line": {
             "colorbar": {
              "outlinewidth": 0,
              "ticks": ""
             }
            },
            "type": "parcoords"
           }
          ],
          "pie": [
           {
            "automargin": true,
            "type": "pie"
           }
          ],
          "scatter": [
           {
            "marker": {
             "colorbar": {
              "outlinewidth": 0,
              "ticks": ""
             }
            },
            "type": "scatter"
           }
          ],
          "scatter3d": [
           {
            "line": {
             "colorbar": {
              "outlinewidth": 0,
              "ticks": ""
             }
            },
            "marker": {
             "colorbar": {
              "outlinewidth": 0,
              "ticks": ""
             }
            },
            "type": "scatter3d"
           }
          ],
          "scattercarpet": [
           {
            "marker": {
             "colorbar": {
              "outlinewidth": 0,
              "ticks": ""
             }
            },
            "type": "scattercarpet"
           }
          ],
          "scattergeo": [
           {
            "marker": {
             "colorbar": {
              "outlinewidth": 0,
              "ticks": ""
             }
            },
            "type": "scattergeo"
           }
          ],
          "scattergl": [
           {
            "marker": {
             "colorbar": {
              "outlinewidth": 0,
              "ticks": ""
             }
            },
            "type": "scattergl"
           }
          ],
          "scattermapbox": [
           {
            "marker": {
             "colorbar": {
              "outlinewidth": 0,
              "ticks": ""
             }
            },
            "type": "scattermapbox"
           }
          ],
          "scatterpolar": [
           {
            "marker": {
             "colorbar": {
              "outlinewidth": 0,
              "ticks": ""
             }
            },
            "type": "scatterpolar"
           }
          ],
          "scatterpolargl": [
           {
            "marker": {
             "colorbar": {
              "outlinewidth": 0,
              "ticks": ""
             }
            },
            "type": "scatterpolargl"
           }
          ],
          "scatterternary": [
           {
            "marker": {
             "colorbar": {
              "outlinewidth": 0,
              "ticks": ""
             }
            },
            "type": "scatterternary"
           }
          ],
          "surface": [
           {
            "colorbar": {
             "outlinewidth": 0,
             "ticks": ""
            },
            "colorscale": [
             [
              0,
              "#0d0887"
             ],
             [
              0.1111111111111111,
              "#46039f"
             ],
             [
              0.2222222222222222,
              "#7201a8"
             ],
             [
              0.3333333333333333,
              "#9c179e"
             ],
             [
              0.4444444444444444,
              "#bd3786"
             ],
             [
              0.5555555555555556,
              "#d8576b"
             ],
             [
              0.6666666666666666,
              "#ed7953"
             ],
             [
              0.7777777777777778,
              "#fb9f3a"
             ],
             [
              0.8888888888888888,
              "#fdca26"
             ],
             [
              1,
              "#f0f921"
             ]
            ],
            "type": "surface"
           }
          ],
          "table": [
           {
            "cells": {
             "fill": {
              "color": "#EBF0F8"
             },
             "line": {
              "color": "white"
             }
            },
            "header": {
             "fill": {
              "color": "#C8D4E3"
             },
             "line": {
              "color": "white"
             }
            },
            "type": "table"
           }
          ]
         },
         "layout": {
          "annotationdefaults": {
           "arrowcolor": "#2a3f5f",
           "arrowhead": 0,
           "arrowwidth": 1
          },
          "autotypenumbers": "strict",
          "coloraxis": {
           "colorbar": {
            "outlinewidth": 0,
            "ticks": ""
           }
          },
          "colorscale": {
           "diverging": [
            [
             0,
             "#8e0152"
            ],
            [
             0.1,
             "#c51b7d"
            ],
            [
             0.2,
             "#de77ae"
            ],
            [
             0.3,
             "#f1b6da"
            ],
            [
             0.4,
             "#fde0ef"
            ],
            [
             0.5,
             "#f7f7f7"
            ],
            [
             0.6,
             "#e6f5d0"
            ],
            [
             0.7,
             "#b8e186"
            ],
            [
             0.8,
             "#7fbc41"
            ],
            [
             0.9,
             "#4d9221"
            ],
            [
             1,
             "#276419"
            ]
           ],
           "sequential": [
            [
             0,
             "#0d0887"
            ],
            [
             0.1111111111111111,
             "#46039f"
            ],
            [
             0.2222222222222222,
             "#7201a8"
            ],
            [
             0.3333333333333333,
             "#9c179e"
            ],
            [
             0.4444444444444444,
             "#bd3786"
            ],
            [
             0.5555555555555556,
             "#d8576b"
            ],
            [
             0.6666666666666666,
             "#ed7953"
            ],
            [
             0.7777777777777778,
             "#fb9f3a"
            ],
            [
             0.8888888888888888,
             "#fdca26"
            ],
            [
             1,
             "#f0f921"
            ]
           ],
           "sequentialminus": [
            [
             0,
             "#0d0887"
            ],
            [
             0.1111111111111111,
             "#46039f"
            ],
            [
             0.2222222222222222,
             "#7201a8"
            ],
            [
             0.3333333333333333,
             "#9c179e"
            ],
            [
             0.4444444444444444,
             "#bd3786"
            ],
            [
             0.5555555555555556,
             "#d8576b"
            ],
            [
             0.6666666666666666,
             "#ed7953"
            ],
            [
             0.7777777777777778,
             "#fb9f3a"
            ],
            [
             0.8888888888888888,
             "#fdca26"
            ],
            [
             1,
             "#f0f921"
            ]
           ]
          },
          "colorway": [
           "#636efa",
           "#EF553B",
           "#00cc96",
           "#ab63fa",
           "#FFA15A",
           "#19d3f3",
           "#FF6692",
           "#B6E880",
           "#FF97FF",
           "#FECB52"
          ],
          "font": {
           "color": "#2a3f5f"
          },
          "geo": {
           "bgcolor": "white",
           "lakecolor": "white",
           "landcolor": "#E5ECF6",
           "showlakes": true,
           "showland": true,
           "subunitcolor": "white"
          },
          "hoverlabel": {
           "align": "left"
          },
          "hovermode": "closest",
          "mapbox": {
           "style": "light"
          },
          "paper_bgcolor": "white",
          "plot_bgcolor": "#E5ECF6",
          "polar": {
           "angularaxis": {
            "gridcolor": "white",
            "linecolor": "white",
            "ticks": ""
           },
           "bgcolor": "#E5ECF6",
           "radialaxis": {
            "gridcolor": "white",
            "linecolor": "white",
            "ticks": ""
           }
          },
          "scene": {
           "xaxis": {
            "backgroundcolor": "#E5ECF6",
            "gridcolor": "white",
            "gridwidth": 2,
            "linecolor": "white",
            "showbackground": true,
            "ticks": "",
            "zerolinecolor": "white"
           },
           "yaxis": {
            "backgroundcolor": "#E5ECF6",
            "gridcolor": "white",
            "gridwidth": 2,
            "linecolor": "white",
            "showbackground": true,
            "ticks": "",
            "zerolinecolor": "white"
           },
           "zaxis": {
            "backgroundcolor": "#E5ECF6",
            "gridcolor": "white",
            "gridwidth": 2,
            "linecolor": "white",
            "showbackground": true,
            "ticks": "",
            "zerolinecolor": "white"
           }
          },
          "shapedefaults": {
           "line": {
            "color": "#2a3f5f"
           }
          },
          "ternary": {
           "aaxis": {
            "gridcolor": "white",
            "linecolor": "white",
            "ticks": ""
           },
           "baxis": {
            "gridcolor": "white",
            "linecolor": "white",
            "ticks": ""
           },
           "bgcolor": "#E5ECF6",
           "caxis": {
            "gridcolor": "white",
            "linecolor": "white",
            "ticks": ""
           }
          },
          "title": {
           "x": 0.05
          },
          "xaxis": {
           "automargin": true,
           "gridcolor": "white",
           "linecolor": "white",
           "ticks": "",
           "title": {
            "standoff": 15
           },
           "zerolinecolor": "white",
           "zerolinewidth": 2
          },
          "yaxis": {
           "automargin": true,
           "gridcolor": "white",
           "linecolor": "white",
           "ticks": "",
           "title": {
            "standoff": 15
           },
           "zerolinecolor": "white",
           "zerolinewidth": 2
          }
         }
        },
        "title": {
         "text": "Slice Plot"
        },
        "xaxis": {
         "anchor": "y",
         "domain": [
          0,
          0.45
         ],
         "title": {
          "text": "depth"
         }
        },
        "xaxis2": {
         "anchor": "y2",
         "domain": [
          0.55,
          1
         ],
         "title": {
          "text": "learning_rate"
         },
         "type": "log"
        },
        "yaxis": {
         "anchor": "x",
         "domain": [
          0,
          1
         ],
         "title": {
          "text": "Objective Value"
         }
        },
        "yaxis2": {
         "anchor": "x2",
         "domain": [
          0,
          1
         ],
         "matches": "y",
         "showticklabels": false
        }
       }
      }
     },
     "metadata": {},
     "output_type": "display_data"
    }
   ],
   "source": [
    "# optuna.visualization.plot_param_importances(study)\n",
    "# optuna.visualization.plot_optimization_history(study)\n",
    "# optuna.visualization.plot_slice(study, params=['depth', 'learning_rate'])"
   ]
  },
  {
   "cell_type": "code",
   "execution_count": 11,
   "metadata": {},
   "outputs": [
    {
     "data": {
      "text/html": [
       "<div>\n",
       "<style scoped>\n",
       "    .dataframe tbody tr th:only-of-type {\n",
       "        vertical-align: middle;\n",
       "    }\n",
       "\n",
       "    .dataframe tbody tr th {\n",
       "        vertical-align: top;\n",
       "    }\n",
       "\n",
       "    .dataframe thead th {\n",
       "        text-align: right;\n",
       "    }\n",
       "</style>\n",
       "<table border=\"1\" class=\"dataframe\">\n",
       "  <thead>\n",
       "    <tr style=\"text-align: right;\">\n",
       "      <th></th>\n",
       "      <th>PatientID</th>\n",
       "      <th>Resp</th>\n",
       "      <th>VL-t0</th>\n",
       "      <th>CD4-t0</th>\n",
       "    </tr>\n",
       "  </thead>\n",
       "  <tbody>\n",
       "    <tr>\n",
       "      <th>0</th>\n",
       "      <td>1</td>\n",
       "      <td>1</td>\n",
       "      <td>5.60</td>\n",
       "      <td>69</td>\n",
       "    </tr>\n",
       "    <tr>\n",
       "      <th>1</th>\n",
       "      <td>2</td>\n",
       "      <td>0</td>\n",
       "      <td>5.30</td>\n",
       "      <td>119</td>\n",
       "    </tr>\n",
       "    <tr>\n",
       "      <th>2</th>\n",
       "      <td>3</td>\n",
       "      <td>1</td>\n",
       "      <td>5.70</td>\n",
       "      <td>41</td>\n",
       "    </tr>\n",
       "    <tr>\n",
       "      <th>3</th>\n",
       "      <td>4</td>\n",
       "      <td>0</td>\n",
       "      <td>5.20</td>\n",
       "      <td>48</td>\n",
       "    </tr>\n",
       "    <tr>\n",
       "      <th>4</th>\n",
       "      <td>5</td>\n",
       "      <td>1</td>\n",
       "      <td>5.50</td>\n",
       "      <td>311</td>\n",
       "    </tr>\n",
       "    <tr>\n",
       "      <th>...</th>\n",
       "      <td>...</td>\n",
       "      <td>...</td>\n",
       "      <td>...</td>\n",
       "      <td>...</td>\n",
       "    </tr>\n",
       "    <tr>\n",
       "      <th>687</th>\n",
       "      <td>688</td>\n",
       "      <td>1</td>\n",
       "      <td>5.30</td>\n",
       "      <td>366</td>\n",
       "    </tr>\n",
       "    <tr>\n",
       "      <th>688</th>\n",
       "      <td>689</td>\n",
       "      <td>1</td>\n",
       "      <td>4.90</td>\n",
       "      <td>151</td>\n",
       "    </tr>\n",
       "    <tr>\n",
       "      <th>689</th>\n",
       "      <td>690</td>\n",
       "      <td>1</td>\n",
       "      <td>4.90</td>\n",
       "      <td>411</td>\n",
       "    </tr>\n",
       "    <tr>\n",
       "      <th>690</th>\n",
       "      <td>691</td>\n",
       "      <td>1</td>\n",
       "      <td>4.50</td>\n",
       "      <td>268</td>\n",
       "    </tr>\n",
       "    <tr>\n",
       "      <th>691</th>\n",
       "      <td>692</td>\n",
       "      <td>1</td>\n",
       "      <td>5.25</td>\n",
       "      <td>239</td>\n",
       "    </tr>\n",
       "  </tbody>\n",
       "</table>\n",
       "<p>692 rows × 4 columns</p>\n",
       "</div>"
      ],
      "text/plain": [
       "     PatientID  Resp  VL-t0  CD4-t0\n",
       "0            1     1   5.60      69\n",
       "1            2     0   5.30     119\n",
       "2            3     1   5.70      41\n",
       "3            4     0   5.20      48\n",
       "4            5     1   5.50     311\n",
       "..         ...   ...    ...     ...\n",
       "687        688     1   5.30     366\n",
       "688        689     1   4.90     151\n",
       "689        690     1   4.90     411\n",
       "690        691     1   4.50     268\n",
       "691        692     1   5.25     239\n",
       "\n",
       "[692 rows x 4 columns]"
      ]
     },
     "execution_count": 11,
     "metadata": {},
     "output_type": "execute_result"
    }
   ],
   "source": [
    "# instead of 0s and 1s there is an H in the response\n",
    "test_data[test_data['Resp']!='H']"
   ]
  },
  {
   "cell_type": "code",
   "execution_count": 13,
   "metadata": {},
   "outputs": [
    {
     "data": {
      "text/plain": [
       "0.5375722543352601"
      ]
     },
     "execution_count": 13,
     "metadata": {},
     "output_type": "execute_result"
    }
   ],
   "source": [
    "# apply it to the actual test set\n",
    "catboost.fit(X, Y, verbose=False)\n",
    "yt_true = test_data['Resp'].values\n",
    "Xt = test_data.drop(['PatientID', 'Resp'], axis=1)\n",
    "Yt = catboost.predict(Xt)\n",
    "accuracy_score(y_true=yt_true, y_pred=Yt)"
   ]
  },
  {
   "cell_type": "code",
   "execution_count": null,
   "metadata": {},
   "outputs": [],
   "source": [
    "# submissions = pd.DataFrame({\n",
    "#     'PatientID': np.arange(1,yt_pred.shape[0]+1),\n",
    "#     'ResponderStatus': yt_pred\n",
    "# })\n",
    "# submissions.to_csv('submission.csv', index=False)"
   ]
  }
 ],
 "metadata": {
  "interpreter": {
   "hash": "e3737b9d0d059178761ba28ab21c61029430c82223de8c0557d97311517f7b08"
  },
  "kernelspec": {
   "display_name": "Python 3.9.11 ('ipykernel_py3')",
   "language": "python",
   "name": "python3"
  },
  "language_info": {
   "codemirror_mode": {
    "name": "ipython",
    "version": 3
   },
   "file_extension": ".py",
   "mimetype": "text/x-python",
   "name": "python",
   "nbconvert_exporter": "python",
   "pygments_lexer": "ipython3",
   "version": "3.9.11"
  },
  "orig_nbformat": 4
 },
 "nbformat": 4,
 "nbformat_minor": 2
}
