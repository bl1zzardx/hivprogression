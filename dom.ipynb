{
 "cells": [
  {
   "cell_type": "code",
   "execution_count": 1,
   "id": "e8f5a076-a981-47dc-ba30-4bd7903e8ab5",
   "metadata": {},
   "outputs": [],
   "source": [
    "import pandas as pd\n",
    "import numpy as np\n",
    "import matplotlib.pyplot as plt\n",
    "from collections import Counter\n",
    "from sklearn.feature_extraction.text import CountVectorizer\n",
    "from sklearn.model_selection import train_test_split\n",
    "from sklearn.naive_bayes import MultinomialNB\n",
    "from sklearn.metrics import accuracy_score, f1_score, precision_score, recall_score\n",
    "from itertools import chain\n"
   ]
  },
  {
   "cell_type": "code",
   "execution_count": 2,
   "id": "6d09ae31",
   "metadata": {},
   "outputs": [
    {
     "data": {
      "text/html": [
       "<div>\n",
       "<style scoped>\n",
       "    .dataframe tbody tr th:only-of-type {\n",
       "        vertical-align: middle;\n",
       "    }\n",
       "\n",
       "    .dataframe tbody tr th {\n",
       "        vertical-align: top;\n",
       "    }\n",
       "\n",
       "    .dataframe thead th {\n",
       "        text-align: right;\n",
       "    }\n",
       "</style>\n",
       "<table border=\"1\" class=\"dataframe\">\n",
       "  <thead>\n",
       "    <tr style=\"text-align: right;\">\n",
       "      <th></th>\n",
       "      <th>PatientID</th>\n",
       "      <th>Resp</th>\n",
       "      <th>PR Seq</th>\n",
       "      <th>RT Seq</th>\n",
       "      <th>VL-t0</th>\n",
       "      <th>CD4-t0</th>\n",
       "    </tr>\n",
       "  </thead>\n",
       "  <tbody>\n",
       "    <tr>\n",
       "      <th>0</th>\n",
       "      <td>1</td>\n",
       "      <td>0</td>\n",
       "      <td>CCTCAAATCACTCTTTGGCAACGACCCCTCGTCCCAATAAGGATAG...</td>\n",
       "      <td>CCCATTAGTCCTATTGAAACTGTACCAGTAAAGCTAAAGCCAGGAA...</td>\n",
       "      <td>4.3</td>\n",
       "      <td>145</td>\n",
       "    </tr>\n",
       "    <tr>\n",
       "      <th>1</th>\n",
       "      <td>2</td>\n",
       "      <td>0</td>\n",
       "      <td>CCTCAAATCACTCTTTGGCAACGACCCCTCGTCGCAATAAAGATAG...</td>\n",
       "      <td>CCCATTAGTCCTATTGAAACTGTACCAGTAAAATTAAAGCCAGGAA...</td>\n",
       "      <td>3.6</td>\n",
       "      <td>224</td>\n",
       "    </tr>\n",
       "    <tr>\n",
       "      <th>2</th>\n",
       "      <td>3</td>\n",
       "      <td>0</td>\n",
       "      <td>CCTCAAATCACTCTTTGGCAACGACCCCTCGTCGCAATAAAGGTAG...</td>\n",
       "      <td>CCCATTAGTCCTATTGAAACTGTACCAGTAAAATTAAAGCCAGGAA...</td>\n",
       "      <td>3.2</td>\n",
       "      <td>1017</td>\n",
       "    </tr>\n",
       "    <tr>\n",
       "      <th>3</th>\n",
       "      <td>4</td>\n",
       "      <td>0</td>\n",
       "      <td>CCTCAAATCACTCTTTGGCAACGACCCCTCGTCGCAATAAGGATAG...</td>\n",
       "      <td>CCCATTAGTCCTATTGAAACTGTACCAGTAAAATTAAAGCCAGGAA...</td>\n",
       "      <td>5.7</td>\n",
       "      <td>206</td>\n",
       "    </tr>\n",
       "    <tr>\n",
       "      <th>4</th>\n",
       "      <td>5</td>\n",
       "      <td>0</td>\n",
       "      <td>CCTCAAATCACTCTTTGGCAACGACCCCTCGTCGCAGTAAAGATAG...</td>\n",
       "      <td>CCCATTAGTCCTATTGAAACTGTACCAGTAAAATTAAAGCCAGGAA...</td>\n",
       "      <td>3.5</td>\n",
       "      <td>572</td>\n",
       "    </tr>\n",
       "  </tbody>\n",
       "</table>\n",
       "</div>"
      ],
      "text/plain": [
       "   PatientID  Resp                                             PR Seq  \\\n",
       "0          1     0  CCTCAAATCACTCTTTGGCAACGACCCCTCGTCCCAATAAGGATAG...   \n",
       "1          2     0  CCTCAAATCACTCTTTGGCAACGACCCCTCGTCGCAATAAAGATAG...   \n",
       "2          3     0  CCTCAAATCACTCTTTGGCAACGACCCCTCGTCGCAATAAAGGTAG...   \n",
       "3          4     0  CCTCAAATCACTCTTTGGCAACGACCCCTCGTCGCAATAAGGATAG...   \n",
       "4          5     0  CCTCAAATCACTCTTTGGCAACGACCCCTCGTCGCAGTAAAGATAG...   \n",
       "\n",
       "                                              RT Seq  VL-t0  CD4-t0  \n",
       "0  CCCATTAGTCCTATTGAAACTGTACCAGTAAAGCTAAAGCCAGGAA...    4.3     145  \n",
       "1  CCCATTAGTCCTATTGAAACTGTACCAGTAAAATTAAAGCCAGGAA...    3.6     224  \n",
       "2  CCCATTAGTCCTATTGAAACTGTACCAGTAAAATTAAAGCCAGGAA...    3.2    1017  \n",
       "3  CCCATTAGTCCTATTGAAACTGTACCAGTAAAATTAAAGCCAGGAA...    5.7     206  \n",
       "4  CCCATTAGTCCTATTGAAACTGTACCAGTAAAATTAAAGCCAGGAA...    3.5     572  "
      ]
     },
     "execution_count": 2,
     "metadata": {},
     "output_type": "execute_result"
    }
   ],
   "source": [
    "train_data = pd.read_csv('hivprogression/training_data.csv')\n",
    "train_data.head()"
   ]
  },
  {
   "cell_type": "code",
   "execution_count": 3,
   "id": "1334b880",
   "metadata": {},
   "outputs": [
    {
     "data": {
      "text/html": [
       "<div>\n",
       "<style scoped>\n",
       "    .dataframe tbody tr th:only-of-type {\n",
       "        vertical-align: middle;\n",
       "    }\n",
       "\n",
       "    .dataframe tbody tr th {\n",
       "        vertical-align: top;\n",
       "    }\n",
       "\n",
       "    .dataframe thead th {\n",
       "        text-align: right;\n",
       "    }\n",
       "</style>\n",
       "<table border=\"1\" class=\"dataframe\">\n",
       "  <thead>\n",
       "    <tr style=\"text-align: right;\">\n",
       "      <th></th>\n",
       "      <th>PatientID</th>\n",
       "      <th>PR Seq</th>\n",
       "      <th>RT Seq</th>\n",
       "      <th>VL-t0</th>\n",
       "      <th>CD4-t0</th>\n",
       "      <th>Resp</th>\n",
       "    </tr>\n",
       "  </thead>\n",
       "  <tbody>\n",
       "    <tr>\n",
       "      <th>0</th>\n",
       "      <td>1</td>\n",
       "      <td>NCTCTATTAGATACAGGAGCAGATGACACAGTATTAGAAGARATGG...</td>\n",
       "      <td>CCTATTAGTCCTATTGAAACTGTACCAGTRAAATTAAAGCCAGGAA...</td>\n",
       "      <td>5.6</td>\n",
       "      <td>69</td>\n",
       "      <td>1</td>\n",
       "    </tr>\n",
       "    <tr>\n",
       "      <th>1</th>\n",
       "      <td>2</td>\n",
       "      <td>NCTCTATTAGATACAGGAGCAGATGATACAGTATTAGAAGAAATGA...</td>\n",
       "      <td>CCCATCAGTCCTATTGAAACTGTACCAGTAAAATTAAAGCCAGGAA...</td>\n",
       "      <td>5.3</td>\n",
       "      <td>119</td>\n",
       "      <td>0</td>\n",
       "    </tr>\n",
       "    <tr>\n",
       "      <th>2</th>\n",
       "      <td>3</td>\n",
       "      <td>GGGCAAATAAAGGAAGCTCTATTAGATACAGGAGCAGATGATACAG...</td>\n",
       "      <td>CCCATTAGTCCTATTGAAACTGTACCAGTAAAATTAAAGCCAGGAA...</td>\n",
       "      <td>5.7</td>\n",
       "      <td>41</td>\n",
       "      <td>1</td>\n",
       "    </tr>\n",
       "    <tr>\n",
       "      <th>3</th>\n",
       "      <td>4</td>\n",
       "      <td>GGGCAACTAAAGGAAGCTCTATTAGATACAGGAGCAGATGATACAG...</td>\n",
       "      <td>CCTATTAGTCCTATTGAAACTGTACCAGTAAAATTAAAGCCAGGAA...</td>\n",
       "      <td>5.2</td>\n",
       "      <td>48</td>\n",
       "      <td>0</td>\n",
       "    </tr>\n",
       "    <tr>\n",
       "      <th>4</th>\n",
       "      <td>5</td>\n",
       "      <td>GGGGGGCAACTAAAGGAAGCTCTATTAGATACAGGAGCAGATGATA...</td>\n",
       "      <td>CCCATTAGTCCTATTGAAACTGTACCAGTAAAATTAAAGCCAGGAA...</td>\n",
       "      <td>5.5</td>\n",
       "      <td>311</td>\n",
       "      <td>1</td>\n",
       "    </tr>\n",
       "  </tbody>\n",
       "</table>\n",
       "</div>"
      ],
      "text/plain": [
       "   PatientID                                             PR Seq  \\\n",
       "0          1  NCTCTATTAGATACAGGAGCAGATGACACAGTATTAGAAGARATGG...   \n",
       "1          2  NCTCTATTAGATACAGGAGCAGATGATACAGTATTAGAAGAAATGA...   \n",
       "2          3  GGGCAAATAAAGGAAGCTCTATTAGATACAGGAGCAGATGATACAG...   \n",
       "3          4  GGGCAACTAAAGGAAGCTCTATTAGATACAGGAGCAGATGATACAG...   \n",
       "4          5  GGGGGGCAACTAAAGGAAGCTCTATTAGATACAGGAGCAGATGATA...   \n",
       "\n",
       "                                              RT Seq  VL-t0  CD4-t0  Resp  \n",
       "0  CCTATTAGTCCTATTGAAACTGTACCAGTRAAATTAAAGCCAGGAA...    5.6      69     1  \n",
       "1  CCCATCAGTCCTATTGAAACTGTACCAGTAAAATTAAAGCCAGGAA...    5.3     119     0  \n",
       "2  CCCATTAGTCCTATTGAAACTGTACCAGTAAAATTAAAGCCAGGAA...    5.7      41     1  \n",
       "3  CCTATTAGTCCTATTGAAACTGTACCAGTAAAATTAAAGCCAGGAA...    5.2      48     0  \n",
       "4  CCCATTAGTCCTATTGAAACTGTACCAGTAAAATTAAAGCCAGGAA...    5.5     311     1  "
      ]
     },
     "execution_count": 3,
     "metadata": {},
     "output_type": "execute_result"
    }
   ],
   "source": [
    "test_data = pd.read_csv('hivprogression/test_data.csv')\n",
    "test_data = test_data.drop(['Resp'], axis=1)\n",
    "solutions_data = pd.read_csv('hivprogression/hivprogression_solution.csv')\n",
    "test_data = pd.merge(test_data, solutions_data, on='PatientID', how='left')\n",
    "test_data = test_data.rename(columns={\"ResponderStatus\": \"Resp\"})\n",
    "test_data.head()"
   ]
  },
  {
   "cell_type": "code",
   "execution_count": 4,
   "id": "732d7bbd",
   "metadata": {},
   "outputs": [
    {
     "data": {
      "text/html": [
       "<div>\n",
       "<style scoped>\n",
       "    .dataframe tbody tr th:only-of-type {\n",
       "        vertical-align: middle;\n",
       "    }\n",
       "\n",
       "    .dataframe tbody tr th {\n",
       "        vertical-align: top;\n",
       "    }\n",
       "\n",
       "    .dataframe thead th {\n",
       "        text-align: right;\n",
       "    }\n",
       "</style>\n",
       "<table border=\"1\" class=\"dataframe\">\n",
       "  <thead>\n",
       "    <tr style=\"text-align: right;\">\n",
       "      <th></th>\n",
       "      <th>PatientID</th>\n",
       "      <th>Resp</th>\n",
       "      <th>PR Seq</th>\n",
       "      <th>RT Seq</th>\n",
       "      <th>VL-t0</th>\n",
       "      <th>CD4-t0</th>\n",
       "    </tr>\n",
       "  </thead>\n",
       "  <tbody>\n",
       "    <tr>\n",
       "      <th>0</th>\n",
       "      <td>1</td>\n",
       "      <td>0</td>\n",
       "      <td>CCTCAAATCACTCTTTGGCAACGACCCCTCGTCCCAATAAGGATAG...</td>\n",
       "      <td>CCCATTAGTCCTATTGAAACTGTACCAGTAAAGCTAAAGCCAGGAA...</td>\n",
       "      <td>4.3</td>\n",
       "      <td>145</td>\n",
       "    </tr>\n",
       "    <tr>\n",
       "      <th>1</th>\n",
       "      <td>2</td>\n",
       "      <td>0</td>\n",
       "      <td>CCTCAAATCACTCTTTGGCAACGACCCCTCGTCGCAATAAAGATAG...</td>\n",
       "      <td>CCCATTAGTCCTATTGAAACTGTACCAGTAAAATTAAAGCCAGGAA...</td>\n",
       "      <td>3.6</td>\n",
       "      <td>224</td>\n",
       "    </tr>\n",
       "    <tr>\n",
       "      <th>2</th>\n",
       "      <td>3</td>\n",
       "      <td>0</td>\n",
       "      <td>CCTCAAATCACTCTTTGGCAACGACCCCTCGTCGCAATAAAGGTAG...</td>\n",
       "      <td>CCCATTAGTCCTATTGAAACTGTACCAGTAAAATTAAAGCCAGGAA...</td>\n",
       "      <td>3.2</td>\n",
       "      <td>1017</td>\n",
       "    </tr>\n",
       "    <tr>\n",
       "      <th>3</th>\n",
       "      <td>4</td>\n",
       "      <td>0</td>\n",
       "      <td>CCTCAAATCACTCTTTGGCAACGACCCCTCGTCGCAATAAGGATAG...</td>\n",
       "      <td>CCCATTAGTCCTATTGAAACTGTACCAGTAAAATTAAAGCCAGGAA...</td>\n",
       "      <td>5.7</td>\n",
       "      <td>206</td>\n",
       "    </tr>\n",
       "    <tr>\n",
       "      <th>4</th>\n",
       "      <td>5</td>\n",
       "      <td>0</td>\n",
       "      <td>CCTCAAATCACTCTTTGGCAACGACCCCTCGTCGCAGTAAAGATAG...</td>\n",
       "      <td>CCCATTAGTCCTATTGAAACTGTACCAGTAAAATTAAAGCCAGGAA...</td>\n",
       "      <td>3.5</td>\n",
       "      <td>572</td>\n",
       "    </tr>\n",
       "  </tbody>\n",
       "</table>\n",
       "</div>"
      ],
      "text/plain": [
       "   PatientID  Resp                                             PR Seq  \\\n",
       "0          1     0  CCTCAAATCACTCTTTGGCAACGACCCCTCGTCCCAATAAGGATAG...   \n",
       "1          2     0  CCTCAAATCACTCTTTGGCAACGACCCCTCGTCGCAATAAAGATAG...   \n",
       "2          3     0  CCTCAAATCACTCTTTGGCAACGACCCCTCGTCGCAATAAAGGTAG...   \n",
       "3          4     0  CCTCAAATCACTCTTTGGCAACGACCCCTCGTCGCAATAAGGATAG...   \n",
       "4          5     0  CCTCAAATCACTCTTTGGCAACGACCCCTCGTCGCAGTAAAGATAG...   \n",
       "\n",
       "                                              RT Seq  VL-t0  CD4-t0  \n",
       "0  CCCATTAGTCCTATTGAAACTGTACCAGTAAAGCTAAAGCCAGGAA...    4.3     145  \n",
       "1  CCCATTAGTCCTATTGAAACTGTACCAGTAAAATTAAAGCCAGGAA...    3.6     224  \n",
       "2  CCCATTAGTCCTATTGAAACTGTACCAGTAAAATTAAAGCCAGGAA...    3.2    1017  \n",
       "3  CCCATTAGTCCTATTGAAACTGTACCAGTAAAATTAAAGCCAGGAA...    5.7     206  \n",
       "4  CCCATTAGTCCTATTGAAACTGTACCAGTAAAATTAAAGCCAGGAA...    3.5     572  "
      ]
     },
     "execution_count": 4,
     "metadata": {},
     "output_type": "execute_result"
    }
   ],
   "source": [
    "train_data = pd.concat([train_data, test_data])\n",
    "train_data.head()"
   ]
  },
  {
   "cell_type": "code",
   "execution_count": 5,
   "id": "136ea8b1",
   "metadata": {},
   "outputs": [
    {
     "data": {
      "text/html": [
       "<div>\n",
       "<style scoped>\n",
       "    .dataframe tbody tr th:only-of-type {\n",
       "        vertical-align: middle;\n",
       "    }\n",
       "\n",
       "    .dataframe tbody tr th {\n",
       "        vertical-align: top;\n",
       "    }\n",
       "\n",
       "    .dataframe thead th {\n",
       "        text-align: right;\n",
       "    }\n",
       "</style>\n",
       "<table border=\"1\" class=\"dataframe\">\n",
       "  <thead>\n",
       "    <tr style=\"text-align: right;\">\n",
       "      <th></th>\n",
       "      <th>Resp</th>\n",
       "      <th>PR Seq</th>\n",
       "      <th>RT Seq</th>\n",
       "    </tr>\n",
       "  </thead>\n",
       "  <tbody>\n",
       "    <tr>\n",
       "      <th>0</th>\n",
       "      <td>0</td>\n",
       "      <td>CCTCAAATCACTCTTTGGCAACGACCCCTCGTCCCAATAAGGATAG...</td>\n",
       "      <td>CCCATTAGTCCTATTGAAACTGTACCAGTAAAGCTAAAGCCAGGAA...</td>\n",
       "    </tr>\n",
       "    <tr>\n",
       "      <th>1</th>\n",
       "      <td>0</td>\n",
       "      <td>CCTCAAATCACTCTTTGGCAACGACCCCTCGTCGCAATAAAGATAG...</td>\n",
       "      <td>CCCATTAGTCCTATTGAAACTGTACCAGTAAAATTAAAGCCAGGAA...</td>\n",
       "    </tr>\n",
       "    <tr>\n",
       "      <th>2</th>\n",
       "      <td>0</td>\n",
       "      <td>CCTCAAATCACTCTTTGGCAACGACCCCTCGTCGCAATAAAGGTAG...</td>\n",
       "      <td>CCCATTAGTCCTATTGAAACTGTACCAGTAAAATTAAAGCCAGGAA...</td>\n",
       "    </tr>\n",
       "    <tr>\n",
       "      <th>3</th>\n",
       "      <td>0</td>\n",
       "      <td>CCTCAAATCACTCTTTGGCAACGACCCCTCGTCGCAATAAGGATAG...</td>\n",
       "      <td>CCCATTAGTCCTATTGAAACTGTACCAGTAAAATTAAAGCCAGGAA...</td>\n",
       "    </tr>\n",
       "    <tr>\n",
       "      <th>4</th>\n",
       "      <td>0</td>\n",
       "      <td>CCTCAAATCACTCTTTGGCAACGACCCCTCGTCGCAGTAAAGATAG...</td>\n",
       "      <td>CCCATTAGTCCTATTGAAACTGTACCAGTAAAATTAAAGCCAGGAA...</td>\n",
       "    </tr>\n",
       "  </tbody>\n",
       "</table>\n",
       "</div>"
      ],
      "text/plain": [
       "   Resp                                             PR Seq  \\\n",
       "0     0  CCTCAAATCACTCTTTGGCAACGACCCCTCGTCCCAATAAGGATAG...   \n",
       "1     0  CCTCAAATCACTCTTTGGCAACGACCCCTCGTCGCAATAAAGATAG...   \n",
       "2     0  CCTCAAATCACTCTTTGGCAACGACCCCTCGTCGCAATAAAGGTAG...   \n",
       "3     0  CCTCAAATCACTCTTTGGCAACGACCCCTCGTCGCAATAAGGATAG...   \n",
       "4     0  CCTCAAATCACTCTTTGGCAACGACCCCTCGTCGCAGTAAAGATAG...   \n",
       "\n",
       "                                              RT Seq  \n",
       "0  CCCATTAGTCCTATTGAAACTGTACCAGTAAAGCTAAAGCCAGGAA...  \n",
       "1  CCCATTAGTCCTATTGAAACTGTACCAGTAAAATTAAAGCCAGGAA...  \n",
       "2  CCCATTAGTCCTATTGAAACTGTACCAGTAAAATTAAAGCCAGGAA...  \n",
       "3  CCCATTAGTCCTATTGAAACTGTACCAGTAAAATTAAAGCCAGGAA...  \n",
       "4  CCCATTAGTCCTATTGAAACTGTACCAGTAAAATTAAAGCCAGGAA...  "
      ]
     },
     "execution_count": 5,
     "metadata": {},
     "output_type": "execute_result"
    }
   ],
   "source": [
    "train_data = train_data.dropna()\n",
    "train_data = train_data[['Resp', 'PR Seq', 'RT Seq']]\n",
    "train_data.head()"
   ]
  },
  {
   "cell_type": "code",
   "execution_count": 6,
   "id": "6924bd5c",
   "metadata": {},
   "outputs": [
    {
     "data": {
      "text/plain": [
       "\"\\ntest_data = test_data.dropna()\\ntest_data = test_data[['ResponderStatus', 'PR Seq', 'RT Seq']]\\ntest_data.head()\\n\""
      ]
     },
     "execution_count": 6,
     "metadata": {},
     "output_type": "execute_result"
    }
   ],
   "source": [
    "'''\n",
    "test_data = test_data.dropna()\n",
    "test_data = test_data[['ResponderStatus', 'PR Seq', 'RT Seq']]\n",
    "test_data.head()\n",
    "'''"
   ]
  },
  {
   "cell_type": "code",
   "execution_count": 7,
   "id": "3e0bee20",
   "metadata": {},
   "outputs": [
    {
     "data": {
      "text/html": [
       "<div>\n",
       "<style scoped>\n",
       "    .dataframe tbody tr th:only-of-type {\n",
       "        vertical-align: middle;\n",
       "    }\n",
       "\n",
       "    .dataframe tbody tr th {\n",
       "        vertical-align: top;\n",
       "    }\n",
       "\n",
       "    .dataframe thead th {\n",
       "        text-align: right;\n",
       "    }\n",
       "</style>\n",
       "<table border=\"1\" class=\"dataframe\">\n",
       "  <thead>\n",
       "    <tr style=\"text-align: right;\">\n",
       "      <th></th>\n",
       "      <th>Resp</th>\n",
       "      <th>PRS</th>\n",
       "      <th>RTS</th>\n",
       "    </tr>\n",
       "  </thead>\n",
       "  <tbody>\n",
       "    <tr>\n",
       "      <th>0</th>\n",
       "      <td>0</td>\n",
       "      <td>[CCT, CAA, ATC, ACT, CTT, TGG, CAA, CGA, CCC, ...</td>\n",
       "      <td>[CCC, ATT, AGT, CCT, ATT, GAA, ACT, GTA, CCA, ...</td>\n",
       "    </tr>\n",
       "    <tr>\n",
       "      <th>1</th>\n",
       "      <td>0</td>\n",
       "      <td>[CCT, CAA, ATC, ACT, CTT, TGG, CAA, CGA, CCC, ...</td>\n",
       "      <td>[CCC, ATT, AGT, CCT, ATT, GAA, ACT, GTA, CCA, ...</td>\n",
       "    </tr>\n",
       "    <tr>\n",
       "      <th>2</th>\n",
       "      <td>0</td>\n",
       "      <td>[CCT, CAA, ATC, ACT, CTT, TGG, CAA, CGA, CCC, ...</td>\n",
       "      <td>[CCC, ATT, AGT, CCT, ATT, GAA, ACT, GTA, CCA, ...</td>\n",
       "    </tr>\n",
       "    <tr>\n",
       "      <th>3</th>\n",
       "      <td>0</td>\n",
       "      <td>[CCT, CAA, ATC, ACT, CTT, TGG, CAA, CGA, CCC, ...</td>\n",
       "      <td>[CCC, ATT, AGT, CCT, ATT, GAA, ACT, GTA, CCA, ...</td>\n",
       "    </tr>\n",
       "    <tr>\n",
       "      <th>4</th>\n",
       "      <td>0</td>\n",
       "      <td>[CCT, CAA, ATC, ACT, CTT, TGG, CAA, CGA, CCC, ...</td>\n",
       "      <td>[CCC, ATT, AGT, CCT, ATT, GAA, ACT, GTA, CCA, ...</td>\n",
       "    </tr>\n",
       "  </tbody>\n",
       "</table>\n",
       "</div>"
      ],
      "text/plain": [
       "   Resp                                                PRS  \\\n",
       "0     0  [CCT, CAA, ATC, ACT, CTT, TGG, CAA, CGA, CCC, ...   \n",
       "1     0  [CCT, CAA, ATC, ACT, CTT, TGG, CAA, CGA, CCC, ...   \n",
       "2     0  [CCT, CAA, ATC, ACT, CTT, TGG, CAA, CGA, CCC, ...   \n",
       "3     0  [CCT, CAA, ATC, ACT, CTT, TGG, CAA, CGA, CCC, ...   \n",
       "4     0  [CCT, CAA, ATC, ACT, CTT, TGG, CAA, CGA, CCC, ...   \n",
       "\n",
       "                                                 RTS  \n",
       "0  [CCC, ATT, AGT, CCT, ATT, GAA, ACT, GTA, CCA, ...  \n",
       "1  [CCC, ATT, AGT, CCT, ATT, GAA, ACT, GTA, CCA, ...  \n",
       "2  [CCC, ATT, AGT, CCT, ATT, GAA, ACT, GTA, CCA, ...  \n",
       "3  [CCC, ATT, AGT, CCT, ATT, GAA, ACT, GTA, CCA, ...  \n",
       "4  [CCC, ATT, AGT, CCT, ATT, GAA, ACT, GTA, CCA, ...  "
      ]
     },
     "execution_count": 7,
     "metadata": {},
     "output_type": "execute_result"
    }
   ],
   "source": [
    "\n",
    "def triples(seq, group=3, char=','):\n",
    "    return [seq[i:i+group] for i in range(0, len(seq), group)]\n",
    "\n",
    "train_data['PRS'] = train_data.apply(lambda x: triples(x['PR Seq']), axis=1)\n",
    "train_data['RTS'] = train_data.apply(lambda x: triples(x['RT Seq']), axis=1)\n",
    "train_data = train_data.drop(['PR Seq', 'RT Seq'], axis=1)\n",
    "train_data.head()\n"
   ]
  },
  {
   "cell_type": "code",
   "execution_count": 8,
   "id": "4fdefd91",
   "metadata": {},
   "outputs": [
    {
     "data": {
      "text/plain": [
       "\"\\ndef kmer(seq, group=6):\\n    return [seq[i:i+group] for i in range(len(seq)-group+1)]\\n\\ntrain_data['PRS'] = train_data.apply(lambda x: kmer(x['PR Seq']), axis=1)\\ntrain_data['RTS'] = train_data.apply(lambda x: kmer(x['RT Seq']), axis=1)\\ntrain_data = train_data.drop(['PR Seq', 'RT Seq'], axis=1)\\ntrain_data.head()\\n\""
      ]
     },
     "execution_count": 8,
     "metadata": {},
     "output_type": "execute_result"
    }
   ],
   "source": [
    "'''\n",
    "def kmer(seq, group=6):\n",
    "    return [seq[i:i+group] for i in range(len(seq)-group+1)]\n",
    "\n",
    "train_data['PRS'] = train_data.apply(lambda x: kmer(x['PR Seq']), axis=1)\n",
    "train_data['RTS'] = train_data.apply(lambda x: kmer(x['RT Seq']), axis=1)\n",
    "train_data = train_data.drop(['PR Seq', 'RT Seq'], axis=1)\n",
    "train_data.head()\n",
    "'''"
   ]
  },
  {
   "cell_type": "code",
   "execution_count": 9,
   "id": "3a96950b",
   "metadata": {},
   "outputs": [
    {
     "data": {
      "text/plain": [
       "\"\\ntest_data['PRS'] = test_data.apply(lambda x: triples(x['PR Seq']), axis=1)\\ntest_data['RTS'] = test_data.apply(lambda x: triples(x['RT Seq']), axis=1)\\ntest_data = test_data.drop(['PR Seq', 'RT Seq'], axis=1)\\ntest_data.head()\\n\""
      ]
     },
     "execution_count": 9,
     "metadata": {},
     "output_type": "execute_result"
    }
   ],
   "source": [
    "'''\n",
    "test_data['PRS'] = test_data.apply(lambda x: triples(x['PR Seq']), axis=1)\n",
    "test_data['RTS'] = test_data.apply(lambda x: triples(x['RT Seq']), axis=1)\n",
    "test_data = test_data.drop(['PR Seq', 'RT Seq'], axis=1)\n",
    "test_data.head()\n",
    "'''"
   ]
  },
  {
   "cell_type": "code",
   "execution_count": 10,
   "id": "252c5885",
   "metadata": {},
   "outputs": [
    {
     "data": {
      "text/plain": [
       "'CCT CAA ATC ACT CTT TGG CAA CGA CCC CTC GTC CCA ATA AGG ATA GGG GGG CAA CTA AAG GAA GCY CTA TTA GAT ACA GGA GCA GAT GAT ACA GTA TTA GAA GAC ATG GAG TTG CCA GGA AGA TGG AAA CCA AAA ATG ATA GGG GGA ATT GGA GGT TTT ATC AAA GTA ARA CAG TAT GAT CAG RTA CCC ATA GAA ATC TAT GGA CAT AAA GCT GTA GGT ACA GTA TTA ATA GGA CCT ACA CCT GTC AAC ATA ATT GGA AGA AAT CTG TTG ACT CAG CTT GGT TGC ACT TTA AAT TTYCCC ATT AGT CCT ATT GAA ACT GTA CCA GTA AAG CTA AAG CCA GGA ATG GAT GGC CCA AAA GTT AAA CAA TGG CCA TTG ACA GAA GAA AAA ATA AAA GCA TTA GTA GAA ATT TGY ACA GAA ATG GAA AAG GAA GGG AAA ATT TCA AAA ATT GGG CCT GAA AAT CCA TAT AAT ACT CCA GTA TTT GCC ATA AAG AAA AAA GAC AGT ACT ACA TGG AGA AAA TTA GTA GAT TTC AGA GAA CTT AAT AAG AGA ACT CAA GAC TTC TGG GAA GTT CAA YTA GGA ATA CCA CAT CCC GCW GGG TTA AAA AAG AAY AAA TCA GTA ACA GTA CTG GAT GTG GGT GAT GCA TAT TTC TCA GTT CCM TTA GAT AAA GAC TTC AGG AAG TAT ACT GCA TTT ACC ATA CCT AGT ATA AAC AAT GAG ACA CCA GGG ATT AGA TAT CAG TAC AAT GTG CTT CCA CAG GGA TGG AAA GGA TCA CCA GCA ATA TTC CAA AGT AGC ATG ACA AAA ATC TTA GAG CCT TTT AGA AAA CGA AAT CCA GAC ATA GTT ATC TAC CAA TAC ATG GAT GAT TTG TAT GTA GGA TCT GAT TTR GAA ATA GAA CAG CAT AGA ACA AAA ATA GAG GAA CTG AGA CAA CAT CTG TCA AGG TGG GGG TTT ACC ACA CCA GAC AAA AAA CAT CAG AAA GAA CCT CCA TTC CTT TGG ATG GGC TAT GAA CTC CAT CCT GAT AAA TGG ACA GTA CAG CCT ATA GTT CTG CCA GAA AAA GAT AGC TGG ACT GTC AAT GAC ATA CAG AAG TTA GTG GGG AAG TTG AAT TGG GCA AGT CAG ATT TAY GCA GGG ATT AAA GTA AAG CAA TTA TGT AAA CTC CTT AGG GGG ACC AAG KCA CTA ACA GAA ATA ATA CCA CTA ACA AGA GAA GCA GAG CTA GAA CTG GCA GAA AAC AGG GAA ATT CTA AAA GAA CCA GTA CAT GGA GTG TAT TAT GAT CCA ACA AAA GAC TTA ATA GCA GAA ATA CAG AAG CAG GGG CAA GGC'"
      ]
     },
     "execution_count": 10,
     "metadata": {},
     "output_type": "execute_result"
    }
   ],
   "source": [
    "train_text = train_data[['PRS', 'RTS']].values.tolist()\n",
    "train_text_c = []\n",
    "for item in range(len(train_text)):\n",
    "    for i in range(len(train_text[item])):\n",
    "        train_text[item][i] = ' '.join(train_text[item][i])\n",
    "    train_text_c.append(train_text[item][0]+train_text[item][1])\n",
    "train_text_c[0]"
   ]
  },
  {
   "cell_type": "code",
   "execution_count": 11,
   "id": "0cd8bde7",
   "metadata": {},
   "outputs": [
    {
     "data": {
      "text/plain": [
       "\"\\ntest_text = test_data[['PRS', 'RTS']].values.tolist()\\ntest_text_c = []\\nfor item in range(len(test_text)):\\n    for i in range(len(test_text[item])):\\n        test_text[item][i] = ' '.join(test_text[item][i])\\n    test_text_c.append(test_text[item][0]+test_text[item][1])\\ntest_text_c[0]\\n\""
      ]
     },
     "execution_count": 11,
     "metadata": {},
     "output_type": "execute_result"
    }
   ],
   "source": [
    "'''\n",
    "test_text = test_data[['PRS', 'RTS']].values.tolist()\n",
    "test_text_c = []\n",
    "for item in range(len(test_text)):\n",
    "    for i in range(len(test_text[item])):\n",
    "        test_text[item][i] = ' '.join(test_text[item][i])\n",
    "    test_text_c.append(test_text[item][0]+test_text[item][1])\n",
    "test_text_c[0]\n",
    "'''"
   ]
  },
  {
   "cell_type": "code",
   "execution_count": 12,
   "id": "62923af6",
   "metadata": {},
   "outputs": [
    {
     "data": {
      "text/plain": [
       "array([0, 0, 0, ..., 1, 1, 1], dtype=int64)"
      ]
     },
     "execution_count": 12,
     "metadata": {},
     "output_type": "execute_result"
    }
   ],
   "source": [
    "y = train_data.iloc[:,0].values\n",
    "y"
   ]
  },
  {
   "cell_type": "code",
   "execution_count": 13,
   "id": "590b30e9",
   "metadata": {},
   "outputs": [
    {
     "data": {
      "text/plain": [
       "(1612, 41268)"
      ]
     },
     "execution_count": 13,
     "metadata": {},
     "output_type": "execute_result"
    }
   ],
   "source": [
    "cv = CountVectorizer(ngram_range=(3,3))\n",
    "X = cv.fit_transform(train_text_c)\n",
    "X.shape"
   ]
  },
  {
   "cell_type": "code",
   "execution_count": 11,
   "id": "afb095ad",
   "metadata": {},
   "outputs": [
    {
     "data": {
      "text/plain": [
       "<AxesSubplot:>"
      ]
     },
     "execution_count": 11,
     "metadata": {},
     "output_type": "execute_result"
    },
    {
     "data": {
      "image/png": "[encoded data removed]",
      "text/plain": [
       "<Figure size 432x288 with 1 Axes>"
      ]
     },
     "metadata": {
      "needs_background": "light"
     },
     "output_type": "display_data"
    }
   ],
   "source": [
    "train_data['Resp'].value_counts().sort_index().plot.bar()"
   ]
  },
  {
   "cell_type": "code",
   "execution_count": 14,
   "id": "e6349a4c",
   "metadata": {},
   "outputs": [],
   "source": [
    "X_train, X_test, y_train, y_test = train_test_split(X, y, test_size=0.3, random_state=42)"
   ]
  },
  {
   "cell_type": "code",
   "execution_count": 15,
   "id": "cc59dd3b",
   "metadata": {},
   "outputs": [
    {
     "data": {
      "text/plain": [
       "MultinomialNB(alpha=0.1)"
      ]
     },
     "execution_count": 15,
     "metadata": {},
     "output_type": "execute_result"
    }
   ],
   "source": [
    "classifier = MultinomialNB(alpha=0.1)\n",
    "classifier.fit(X_train, y_train)"
   ]
  },
  {
   "cell_type": "code",
   "execution_count": 16,
   "id": "113e297b",
   "metadata": {},
   "outputs": [
    {
     "name": "stdout",
     "output_type": "stream",
     "text": [
      "confusion matrix\n",
      "\n",
      "predicted    0   1\n",
      "actual            \n",
      "0          289  40\n",
      "1           87  68\n",
      "accuracy: 0.738 \n",
      "precision: 0.724 \n",
      "recall: 0.738 \n",
      "f1: 0.723 \n",
      "\n"
     ]
    }
   ],
   "source": [
    "y_pred = classifier.predict(X_test)\n",
    "\n",
    "print('confusion matrix\\n')\n",
    "print(pd.crosstab(pd.Series(y_test, name='actual'), pd.Series(y_pred, name='predicted')))\n",
    "\n",
    "def get_metrix(y_test, y_pred):\n",
    "    accuracy = accuracy_score(y_test, y_pred)\n",
    "    precision = precision_score(y_test, y_pred, average='weighted')\n",
    "    recall = recall_score(y_test, y_pred, average='weighted')\n",
    "    f1 = f1_score(y_test, y_pred, average='weighted')\n",
    "    return accuracy, precision, recall, f1\n",
    "\n",
    "acc, pre, rec, f1 = get_metrix(y_test, y_pred)\n",
    "print('accuracy: %.3f \\nprecision: %.3f \\nrecall: %.3f \\nf1: %.3f \\n' % (acc, pre, rec, f1))"
   ]
  }
 ],
 "metadata": {
  "interpreter": {
   "hash": "e3737b9d0d059178761ba28ab21c61029430c82223de8c0557d97311517f7b08"
  },
  "kernelspec": {
   "display_name": "Python 3.9.11 ('ipykernel_py3')",
   "language": "python",
   "name": "python3"
  },
  "language_info": {
   "codemirror_mode": {
    "name": "ipython",
    "version": 3
   },
   "file_extension": ".py",
   "mimetype": "text/x-python",
   "name": "python",
   "nbconvert_exporter": "python",
   "pygments_lexer": "ipython3",
   "version": "3.9.11"
  }
 },
 "nbformat": 4,
 "nbformat_minor": 5
}
